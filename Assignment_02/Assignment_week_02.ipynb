{
 "cells": [
  {
   "cell_type": "markdown",
   "metadata": {},
   "source": [
    "# Week 02 Assignment glucose level data\n",
    "\n",
    "\n",
    "Missing data occurs commonly in many data applications. Especially wearable sensor devices encounter measurement errors resulting in missing data. Although pandas can handle missing data, for instance, to exclude missing data in the descriptive analysis, we might decide to reshape our data to improve quality. We might consider excluding certain rows, columns, or decide to impute our data if we take an argumentative approach. This week we will work with sensor data of a semester 01 project. The data is timeseries related but a lot of sensor errors occurred. First, we inspect the quality data. Then we will work with imputation, interpolation, and smoothing techniques to overcome this issue of the error readings. Finaly we plot the data. Visualization is a method to translate data into information. As a data scientist you should be able to choose an appropiate visualizations. \n",
    "\n",
    "\n",
    "Keywords: data loading, data inspection, data exploration, data cleaning, impute data, missing data, timeseries, pandas, visualization, interactive plots, overflow/underflow error\n",
    "\n",
    "More to read\n",
    "- https://fennaf.gitbook.io/bfvm22prog1/\n",
    "- https://towardsdatascience.com/how-to-analyze-blood-glucose-data-with-python-data-science-packages-4f160f9564be\n",
    "\n",
    "\n",
    "More about pandas and bokeh programming\n",
    "- https://pandas.pydata.org/pandas-docs/stable/reference/api/pandas.DataFrame.interpolate.html\n",
    "- https://rubberduckdebugging.com/\n",
    "- https://docs.bokeh.org/en/latest/docs/gallery.html\n",
    "\n",
    "\n",
    "Learning objectives\n",
    "\n",
    "- Further practice numpy / pandas\n",
    "- Read, inspect, clean, and impute JSON data. Handle missing data\n",
    "- Apply different interpolation/smoothing techniques\n",
    "- Recognize overflow/underflow error\n",
    "- Perform visual and statistical analysis for time series data\n",
    "- Maintain development environment \n",
    "- Apply coding standards and FAIR principles\n",
    "\n",
    "\n",
    "Note: you can bring your own sensor data, but for the practical you need some missing data points. \n",
    "\n",
    "By the end of this week the student can:\n",
    "\n",
    "- load a json dataset \n",
    "- typecast the Pandas DataFrame to appropiate data types\n",
    "- inspect the dataset for quality and metadata information\n",
    "- add a column with interpolated data in Pandas DataFrame\n",
    "- perform visual analysis\n",
    "\n",
    "please add your own topics you want to learn here: https://padlet.com/ffeenstra1/69vbvy0l8t32rq55\n",
    "\n",
    "\n",
    "The assignment consists of 6 parts:\n",
    "\n",
    "- [part 1: load the data](#0)\n",
    "     - [Exercise 1.1](#ex-11)\n",
    "- [part 2: prepare for inspection](#1)\n",
    "     - [Exercise 2.1](#ex-21)\n",
    "- [part 3: inspect the data](#2)\n",
    "     - [Exercise 3.1](#ex-31)\n",
    "- [part 4: interpolate the data](#3)\n",
    "     - [Exercise 4.1](#ex-41)\n",
    "- [part 5: visualize the data](#4)\n",
    "     - [Exercise 5.1](#ex-51)\n",
    "- [part 6: Challenge](#5)\n",
    "     - [Exercise 6.1](#ex-61)\n",
    "\n",
    "Part 1 and 5 are mandatory, part 6 is optional (bonus)\n",
    "Mind you that you cannot copy code without referencing the code. If you copy code you need to be able to explain your code verbally and you will not get the full score. \n"
   ]
  },
  {
   "cell_type": "markdown",
   "metadata": {},
   "source": [
    "<a name='0'></a>\n",
    "## Part 1: Load the data\n",
    "\n",
    "Instructions: Load the json datafile `glucose.json` into a pandas dataframe. Check your dataframe with a `.head()` to compare with the expected outcome. \n",
    "\n",
    "Preferably we read the data not with a hard coded data path but using a config file. See https://fennaf.gitbook.io/bfvm22prog1/data-processing/configuration-files/yaml\n",
    "\n",
    "<details>    \n",
    "<summary>\n",
    "    <font size=\"3\" color=\"darkgreen\"><b>Hints</b></font>\n",
    "</summary>\n",
    "<ul><li>json.load() method reads a file, pd.read_json converts it to a Pandas DataFrame</li>\n",
    "    <li>when loading into a Pandas DataFrame use records orientation </li>\n",
    "</ul>\n",
    "</details>\n",
    "\n",
    "<a name='ex-11'></a>\n",
    "### Code your solution"
   ]
  },
  {
   "cell_type": "code",
   "execution_count": 1,
   "metadata": {},
   "outputs": [],
   "source": [
    "import pandas as pd\n",
    "import json as jsn\n",
    "import panel as pn\n",
    "import yaml"
   ]
  },
  {
   "cell_type": "code",
   "execution_count": 2,
   "metadata": {},
   "outputs": [],
   "source": [
    "def configReader(config_path):\n",
    "    \"\"\"\n",
    "    This function opens config.yaml file \n",
    "    and fetches the file's data.\n",
    "    input: configue file path\n",
    "    output: configue file\n",
    "    \"\"\"\n",
    "    with open(config_path, \"r\") as file:\n",
    "        config = yaml.safe_load(file)\n",
    "    return config"
   ]
  },
  {
   "cell_type": "code",
   "execution_count": 3,
   "metadata": {},
   "outputs": [],
   "source": [
    "# Parsing the config file.\n",
    "config = configReader(\"../config.yaml\")\n",
    "glucose = config['glucose']"
   ]
  },
  {
   "cell_type": "code",
   "execution_count": 4,
   "metadata": {},
   "outputs": [
    {
     "name": "stdout",
     "output_type": "stream",
     "text": [
      "       ID              time  recordtype glucose\n",
      "0  2845.0  2019-04-25 00:08           1     109\n",
      "1  2850.0  2019-04-25 00:50           1        \n",
      "2  2877.0  2019-04-25 07:02           1     123\n",
      "3  2881.0  2019-04-25 07:34           1     158\n",
      "4  2886.0  2019-04-25 08:19           1        \n"
     ]
    }
   ],
   "source": [
    "# Loading the json file from config.\n",
    "glucose_jsn = jsn.load(open(glucose))\n",
    "\n",
    "# Creating a DataFrame from the json file.\n",
    "glucose_df = pd.read_json(glucose_jsn)\n",
    "print(glucose_df.head())"
   ]
  },
  {
   "cell_type": "code",
   "execution_count": 5,
   "metadata": {},
   "outputs": [
    {
     "name": "stdout",
     "output_type": "stream",
     "text": [
      "Shape:\n",
      "(136, 4)\n",
      "\n",
      "Columns:\n",
      "Index(['ID', 'time', 'recordtype', 'glucose'], dtype='object')\n",
      "\n",
      "Data Types:\n",
      "ID            float64\n",
      "time           object\n",
      "recordtype      int64\n",
      "glucose        object\n",
      "dtype: object\n"
     ]
    }
   ],
   "source": [
    "# Inspecting the DataFrame.\n",
    "print(f\"Shape:\\n{glucose_df.shape}\")\n",
    "print(f\"\\nColumns:\\n{glucose_df.columns}\")\n",
    "print(f\"\\nData Types:\\n{glucose_df.dtypes}\")"
   ]
  },
  {
   "cell_type": "markdown",
   "metadata": {},
   "source": [
    "#### Expected outcome: "
   ]
  },
  {
   "cell_type": "raw",
   "metadata": {},
   "source": [
    "       ID              time  recordtype glucose\n",
    "0  2845.0  2019-04-25 00:08           1     109\n",
    "1  2850.0  2019-04-25 00:50           1        \n",
    "2  2877.0  2019-04-25 07:02           1     123\n",
    "3  2881.0  2019-04-25 07:34           1     158\n",
    "4  2886.0  2019-04-25 08:19           1        "
   ]
  },
  {
   "cell_type": "markdown",
   "metadata": {},
   "source": [
    "<a name='1'></a>\n",
    "## Part 2: Prepare the data\n",
    "\n",
    "Check the datatypes of your dataframe.\n",
    "- The `glucose` field should be an integer.\n",
    "- the `time` field should have a datetime format.\n",
    "- If the datatypes are different you should typecast them to the right format.\n",
    "- Make sure that your dataset is sorted by the time column.\n",
    "\n",
    "\n",
    "<details>    \n",
    "<summary>\n",
    "    <font size=\"3\" color=\"darkgreen\"><b>Hints</b></font>\n",
    "</summary>\n",
    "<ul><li>use astype() method or pandas.DataFrame.to_datetime() for instance</li>\n",
    "    <li>make sure that the empty spaces are filled with NaN. Use errors='coerce'</li>\n",
    "    <li>set_index(), sort_index() and reset_index() are helpful to sort on index</li>\n",
    "</ul>\n",
    "</details>\n",
    "\n",
    "<a name='ex-21'></a>\n",
    "### Code your solution"
   ]
  },
  {
   "cell_type": "code",
   "execution_count": 11,
   "metadata": {},
   "outputs": [
    {
     "name": "stdout",
     "output_type": "stream",
     "text": [
      "\n",
      "Data Types:\n",
      "ID                     Int64\n",
      "time          datetime64[ns]\n",
      "recordtype             int64\n",
      "glucose              float64\n",
      "dtype: object\n"
     ]
    }
   ],
   "source": [
    "# Typecasting the 'time' column to datetime.\n",
    "glucose_df['time'] = pd.to_datetime(glucose_df['time'])\n",
    "\n",
    "# Typecasting the 'glucose' column to integer.\n",
    "# glucose_df['glucose'] = glucose_df['glucose'].astype(int, errors='ignore')\n",
    "glucose_df['glucose'] = pd.to_numeric(glucose_df['glucose'], errors='coerce').astype('float')\n",
    "\n",
    "# Typecasting the 'ID' column to integer.\n",
    "glucose_df['ID'] = glucose_df['ID'].astype('Int64')\n",
    "\n",
    "print(f\"\\nData Types:\\n{glucose_df.dtypes}\")"
   ]
  },
  {
   "cell_type": "code",
   "execution_count": 12,
   "metadata": {},
   "outputs": [
    {
     "data": {
      "text/html": [
       "<div>\n",
       "<style scoped>\n",
       "    .dataframe tbody tr th:only-of-type {\n",
       "        vertical-align: middle;\n",
       "    }\n",
       "\n",
       "    .dataframe tbody tr th {\n",
       "        vertical-align: top;\n",
       "    }\n",
       "\n",
       "    .dataframe thead th {\n",
       "        text-align: right;\n",
       "    }\n",
       "</style>\n",
       "<table border=\"1\" class=\"dataframe\">\n",
       "  <thead>\n",
       "    <tr style=\"text-align: right;\">\n",
       "      <th></th>\n",
       "      <th>time</th>\n",
       "      <th>ID</th>\n",
       "      <th>recordtype</th>\n",
       "      <th>glucose</th>\n",
       "    </tr>\n",
       "  </thead>\n",
       "  <tbody>\n",
       "    <tr>\n",
       "      <th>0</th>\n",
       "      <td>2019-04-25 00:08:00</td>\n",
       "      <td>2845</td>\n",
       "      <td>1</td>\n",
       "      <td>109.0</td>\n",
       "    </tr>\n",
       "    <tr>\n",
       "      <th>1</th>\n",
       "      <td>2019-04-25 00:14:00</td>\n",
       "      <td>-2147483648</td>\n",
       "      <td>0</td>\n",
       "      <td>NaN</td>\n",
       "    </tr>\n",
       "    <tr>\n",
       "      <th>2</th>\n",
       "      <td>2019-04-25 00:29:00</td>\n",
       "      <td>-2147483648</td>\n",
       "      <td>0</td>\n",
       "      <td>NaN</td>\n",
       "    </tr>\n",
       "    <tr>\n",
       "      <th>3</th>\n",
       "      <td>2019-04-25 00:44:00</td>\n",
       "      <td>-2147483648</td>\n",
       "      <td>0</td>\n",
       "      <td>NaN</td>\n",
       "    </tr>\n",
       "    <tr>\n",
       "      <th>4</th>\n",
       "      <td>2019-04-25 00:50:00</td>\n",
       "      <td>2850</td>\n",
       "      <td>1</td>\n",
       "      <td>NaN</td>\n",
       "    </tr>\n",
       "    <tr>\n",
       "      <th>...</th>\n",
       "      <td>...</td>\n",
       "      <td>...</td>\n",
       "      <td>...</td>\n",
       "      <td>...</td>\n",
       "    </tr>\n",
       "    <tr>\n",
       "      <th>131</th>\n",
       "      <td>2019-04-25 23:02:00</td>\n",
       "      <td>-2147483648</td>\n",
       "      <td>0</td>\n",
       "      <td>NaN</td>\n",
       "    </tr>\n",
       "    <tr>\n",
       "      <th>132</th>\n",
       "      <td>2019-04-25 23:18:00</td>\n",
       "      <td>-2147483648</td>\n",
       "      <td>0</td>\n",
       "      <td>NaN</td>\n",
       "    </tr>\n",
       "    <tr>\n",
       "      <th>133</th>\n",
       "      <td>2019-04-25 23:31:00</td>\n",
       "      <td>3062</td>\n",
       "      <td>1</td>\n",
       "      <td>111.0</td>\n",
       "    </tr>\n",
       "    <tr>\n",
       "      <th>134</th>\n",
       "      <td>2019-04-25 23:33:00</td>\n",
       "      <td>-2147483648</td>\n",
       "      <td>0</td>\n",
       "      <td>NaN</td>\n",
       "    </tr>\n",
       "    <tr>\n",
       "      <th>135</th>\n",
       "      <td>2019-04-25 23:48:00</td>\n",
       "      <td>-2147483648</td>\n",
       "      <td>0</td>\n",
       "      <td>NaN</td>\n",
       "    </tr>\n",
       "  </tbody>\n",
       "</table>\n",
       "<p>136 rows × 4 columns</p>\n",
       "</div>"
      ],
      "text/plain": [
       "                   time           ID  recordtype  glucose\n",
       "0   2019-04-25 00:08:00         2845           1    109.0\n",
       "1   2019-04-25 00:14:00  -2147483648           0      NaN\n",
       "2   2019-04-25 00:29:00  -2147483648           0      NaN\n",
       "3   2019-04-25 00:44:00  -2147483648           0      NaN\n",
       "4   2019-04-25 00:50:00         2850           1      NaN\n",
       "..                  ...          ...         ...      ...\n",
       "131 2019-04-25 23:02:00  -2147483648           0      NaN\n",
       "132 2019-04-25 23:18:00  -2147483648           0      NaN\n",
       "133 2019-04-25 23:31:00         3062           1    111.0\n",
       "134 2019-04-25 23:33:00  -2147483648           0      NaN\n",
       "135 2019-04-25 23:48:00  -2147483648           0      NaN\n",
       "\n",
       "[136 rows x 4 columns]"
      ]
     },
     "execution_count": 12,
     "metadata": {},
     "output_type": "execute_result"
    }
   ],
   "source": [
    "# Creating a copy of the DataFrame.\n",
    "ndf_glucose = glucose_df.copy()\n",
    "\n",
    "# Sorting the DataFrame by 'time'.\n",
    "ndf_glucose = ndf_glucose[['time'] + [col for col in ndf_glucose.columns if col != 'time']]\n",
    "ndf_glucose = ndf_glucose.sort_values(by='time').reset_index(drop=True)\n",
    "ndf_glucose"
   ]
  },
  {
   "cell_type": "markdown",
   "metadata": {},
   "source": [
    "#### Expected outcome: "
   ]
  },
  {
   "cell_type": "raw",
   "metadata": {},
   "source": [
    "ID                     int64\n",
    "time          datetime64[ns]\n",
    "recordtype             int64\n",
    "glucose              float64\n",
    "dtype: object"
   ]
  },
  {
   "cell_type": "markdown",
   "metadata": {},
   "source": [
    "<a name='2'></a>\n",
    "## Part 3: Inspect the data\n",
    "\n",
    "Now that we prepared the data we are going to inspect the data to get more familiar with the data. You can answer the questions below but feel free to explore the data further by plotting and or statistics, group by overviews and so on. \n",
    "\n",
    "To be answered at least:\n",
    "- what is the quantity of the data (observations and features)\n",
    "- what is the percentage missing data for glucose?\n",
    "- is there a specific pattern for glucose value and recordtype?\n",
    "- what is the time range?\n",
    "\n",
    "Code the solutions to your answers. Create meaningful overviews or statistics\n",
    "\n",
    "<details>    \n",
    "<summary>\n",
    "    <font size=\"3\" color=\"darkgreen\"><b>Hints</b></font>\n",
    "</summary>\n",
    "<ul><li>In the week 01 assignment some functions were explained to inspect missing values</li>\n",
    "    <li>In the week 01 assignment some functions were explained to groupby value</li>\n",
    "</ul>\n",
    "</details>\n",
    "\n",
    "<a name='ex-31'></a>\n",
    "### Code your solution"
   ]
  },
  {
   "cell_type": "code",
   "execution_count": 21,
   "metadata": {},
   "outputs": [
    {
     "name": "stdout",
     "output_type": "stream",
     "text": [
      "Basic statistical summaries of numerical columns:\n",
      "                      ID  recordtype     glucose\n",
      "count              136.0  136.000000   52.000000\n",
      "mean  -1294805138.029412    0.397059  123.403846\n",
      "std    1054624688.474743    0.491097   20.734796\n",
      "min        -2147483648.0    0.000000   86.000000\n",
      "25%        -2147483648.0    0.000000  109.750000\n",
      "50%        -2147483648.0    0.000000  121.500000\n",
      "75%               2949.5    1.000000  129.000000\n",
      "max               3062.0    1.000000  184.000000\n"
     ]
    }
   ],
   "source": [
    "# Inspecting the DataFrame.\n",
    "num_cols = ndf_glucose.select_dtypes(include=['number'])\n",
    "print(f\"Basic statistical summaries of numerical columns:\\n{num_cols.describe()}\")"
   ]
  },
  {
   "cell_type": "code",
   "execution_count": 35,
   "metadata": {},
   "outputs": [
    {
     "name": "stdout",
     "output_type": "stream",
     "text": [
      "Missing values:\n",
      "time           0\n",
      "ID             0\n",
      "recordtype     0\n",
      "glucose       84\n",
      "dtype: int64\n",
      "\n",
      "Percentage of missing values:\n",
      "time           0.000000\n",
      "ID             0.000000\n",
      "recordtype     0.000000\n",
      "glucose       61.764706\n",
      "dtype: float64\n",
      "\n",
      "Number of duplicates: (0)\n"
     ]
    }
   ],
   "source": [
    "# Checking for missing values.\n",
    "print(f\"Missing values:\\n{ndf_glucose.isnull().sum()}\")\n",
    "\n",
    "# Percentage of missing values.\n",
    "print(f\"\\nPercentage of missing values:\\n{ndf_glucose.isnull().mean() * 100}\")\n",
    "\n",
    "# Checking for duplicates.\n",
    "print(f\"\\nNumber of duplicates: ({ndf_glucose.duplicated().sum()})\")"
   ]
  },
  {
   "cell_type": "code",
   "execution_count": 42,
   "metadata": {},
   "outputs": [
    {
     "name": "stdout",
     "output_type": "stream",
     "text": [
      "Unique values:\n",
      "<IntegerArray>\n",
      "[       2845, -2147483648,        2850,        2877,        2881,        2886,\n",
      "        2899,        2909,        2916,        2922,        2925,        2927,\n",
      "        2929,        2932,        2935,        2937,        2940,        2942,\n",
      "        2944,        2947,        2949,        2951,        2954,        2957,\n",
      "        2960,        2969,        2971,        2974,        2976,        2979,\n",
      "        2981,        2983,        2985,        2987,        2990,        2992,\n",
      "        2994,        2996,        2999,        3001,        3003,        3005,\n",
      "        3008,        3010,        3012,        3026,        3029,        3031,\n",
      "        3034,        3043,        3047,        3050,        3055,        3058,\n",
      "        3062]\n",
      "Length: 55, dtype: Int64\n"
     ]
    }
   ],
   "source": [
    "# checking for unique values in the 'ID' column.\n",
    "print(f\"Unique values:\\n{ndf_glucose['ID'].unique()}\")"
   ]
  },
  {
   "cell_type": "code",
   "execution_count": 5,
   "metadata": {},
   "outputs": [
    {
     "name": "stdout",
     "output_type": "stream",
     "text": [
      "The percentage of missing glucose data is 0.6176470588235294\n",
      "\n",
      "time range for this experiment is 0 days 23:40:00\n",
      "\n",
      "it seems that there is 0 for recordtype 0\n",
      "it seems that there is 52 for recordtype 1\n",
      "            time  ID  glucose\n",
      "recordtype                   \n",
      "0             82  82        0\n",
      "1             54  54       52\n",
      "\n",
      "it seems that there is just on minus ID for recordtype 0\n",
      "                        time  glucose\n",
      "recordtype ID                        \n",
      "0          -2147483648    82        0\n",
      "1           2845           1        1\n",
      "            2850           1        0\n",
      "            2877           1        1\n",
      "            2881           1        1\n",
      "\n",
      "this plot presents what if null data erase from the dataset\n"
     ]
    },
    {
     "data": {
      "image/png": "[encoded data removed]",
      "text/plain": [
       "<Figure size 640x480 with 1 Axes>"
      ]
     },
     "metadata": {},
     "output_type": "display_data"
    }
   ],
   "source": [
    "\n",
    "#pecentage of data missing for glucose\n",
    "nullFinder = df.isnull().sum()\n",
    "NullPerc = nullFinder['glucose']/len(df['glucose'])\n",
    "print(f'The percentage of missing glucose data is {NullPerc}\\n')\n",
    "\n",
    "# time range\n",
    "timeRange = df['time'].max() - df['time'].min()\n",
    "print(f'time range for this experiment is {timeRange}\\n')\n",
    "\n",
    "#divide based on record type\n",
    "recordType = pd.DataFrame(df.groupby(['recordtype']).count())\n",
    "glocuseData = recordType['glucose']\n",
    "print(f'it seems that there is {glocuseData[0]} for recordtype {recordType.index[0]}')\n",
    "print(f'it seems that there is {glocuseData[1]} for recordtype {recordType.index[1]}')\n",
    "print(f'{recordType}\\n')\n",
    "\n",
    "#divide based on record type and ID\n",
    "recordTypeId = pd.DataFrame(df.groupby(['recordtype','ID']).count())\n",
    "print(f'it seems that there is just on minus ID for recordtype 0')\n",
    "print(f'{recordTypeId.head()}\\n')\n",
    "\n",
    "#finding specific pattern in glucose data\n",
    "dfNew = df.dropna()\n",
    "series = pd.Series(dfNew['glucose']).rename(dfNew['time'])\n",
    "print(f'this plot presents what if null data erase from the dataset')\n",
    "series.plot()\n",
    "plt.show()\n",
    "\n",
    "\n",
    "\n",
    "\n",
    "\n"
   ]
  },
  {
   "cell_type": "markdown",
   "metadata": {},
   "source": [
    "#### Expected outcome percentage missing data\n",
    "0.6176470588235294"
   ]
  },
  {
   "cell_type": "markdown",
   "metadata": {},
   "source": [
    "<a name='3'></a>\n",
    "## Part 4: Interpolate the data\n",
    "\n",
    "A lot of data is missing. Use interpolation to fill the missing values. Create a new column with the interpolated data. Take an argumentative approach. Select an interpolation method that suits the nature of the data and explain your choice. Mind you that the expected outcome of the interpolation values can differ from the example below\n",
    "\n",
    "<details>    \n",
    "<summary>\n",
    "    <font size=\"3\" color=\"darkgreen\"><b>Hints</b></font>\n",
    "</summary>\n",
    "<ul><li>use Pandas.DataFrame.interpolate() method</li>\n",
    "</ul>\n",
    "</details>\n",
    "\n",
    "<a name='ex-41'></a>\n",
    "### Code your solution"
   ]
  },
  {
   "cell_type": "code",
   "execution_count": 6,
   "metadata": {},
   "outputs": [
    {
     "data": {
      "text/html": [
       "<div>\n",
       "<style scoped>\n",
       "    .dataframe tbody tr th:only-of-type {\n",
       "        vertical-align: middle;\n",
       "    }\n",
       "\n",
       "    .dataframe tbody tr th {\n",
       "        vertical-align: top;\n",
       "    }\n",
       "\n",
       "    .dataframe thead th {\n",
       "        text-align: right;\n",
       "    }\n",
       "</style>\n",
       "<table border=\"1\" class=\"dataframe\">\n",
       "  <thead>\n",
       "    <tr style=\"text-align: right;\">\n",
       "      <th></th>\n",
       "      <th>time</th>\n",
       "      <th>ID</th>\n",
       "      <th>recordtype</th>\n",
       "      <th>glucose</th>\n",
       "      <th>interpolated</th>\n",
       "    </tr>\n",
       "  </thead>\n",
       "  <tbody>\n",
       "    <tr>\n",
       "      <th>0</th>\n",
       "      <td>2019-04-25 00:08:00</td>\n",
       "      <td>2845</td>\n",
       "      <td>1</td>\n",
       "      <td>109.0</td>\n",
       "      <td>109.000000</td>\n",
       "    </tr>\n",
       "    <tr>\n",
       "      <th>1</th>\n",
       "      <td>2019-04-25 00:14:00</td>\n",
       "      <td>-2147483648</td>\n",
       "      <td>0</td>\n",
       "      <td>NaN</td>\n",
       "      <td>109.466667</td>\n",
       "    </tr>\n",
       "    <tr>\n",
       "      <th>2</th>\n",
       "      <td>2019-04-25 00:29:00</td>\n",
       "      <td>-2147483648</td>\n",
       "      <td>0</td>\n",
       "      <td>NaN</td>\n",
       "      <td>109.933334</td>\n",
       "    </tr>\n",
       "    <tr>\n",
       "      <th>3</th>\n",
       "      <td>2019-04-25 00:44:00</td>\n",
       "      <td>-2147483648</td>\n",
       "      <td>0</td>\n",
       "      <td>NaN</td>\n",
       "      <td>110.400002</td>\n",
       "    </tr>\n",
       "    <tr>\n",
       "      <th>4</th>\n",
       "      <td>2019-04-25 00:50:00</td>\n",
       "      <td>2850</td>\n",
       "      <td>1</td>\n",
       "      <td>NaN</td>\n",
       "      <td>110.866669</td>\n",
       "    </tr>\n",
       "  </tbody>\n",
       "</table>\n",
       "</div>"
      ],
      "text/plain": [
       "                 time          ID  recordtype  glucose  interpolated\n",
       "0 2019-04-25 00:08:00        2845           1    109.0    109.000000\n",
       "1 2019-04-25 00:14:00 -2147483648           0      NaN    109.466667\n",
       "2 2019-04-25 00:29:00 -2147483648           0      NaN    109.933334\n",
       "3 2019-04-25 00:44:00 -2147483648           0      NaN    110.400002\n",
       "4 2019-04-25 00:50:00        2850           1      NaN    110.866669"
      ]
     },
     "execution_count": 6,
     "metadata": {},
     "output_type": "execute_result"
    }
   ],
   "source": [
    "#the interpolation is done by using linear method\n",
    "\n",
    "df['interpolated'] = df['glucose'].interpolate(method='linear').astype('f')\n",
    "df.head()\n"
   ]
  },
  {
   "cell_type": "markdown",
   "metadata": {},
   "source": [
    "#### Example outcome"
   ]
  },
  {
   "cell_type": "raw",
   "metadata": {},
   "source": [
    "                 time                   ID  recordtype  glucose  interpolated\n",
    "0 2019-04-25 00:08:00                 2845           1    109.0    109.000000\n",
    "1 2019-04-25 00:14:00 -9223372036854775808           0      NaN    109.466667\n",
    "2 2019-04-25 00:29:00 -9223372036854775808           0      NaN    109.933333\n",
    "3 2019-04-25 00:44:00 -9223372036854775808           0      NaN    110.400000\n",
    "4 2019-04-25 00:50:00                 2850           1      NaN    110.866667"
   ]
  },
  {
   "cell_type": "markdown",
   "metadata": {},
   "source": [
    "<a name='4'></a>\n",
    "## Part 5: Plot the data\n",
    "\n",
    "Create a plot with the original data and the interpolated data. Consider what the best representation is for visualisation of actual values and modelled/imputed values. Provide argumentation for the plot of choice. \n",
    "\n",
    "Mind you, there are several types of plots. The most used are: \n",
    "- Compare values->\tBar, boxplot, violin plot, scatter, line. \n",
    "- Show composition-> Stacked bar, pie, mosaic, area, burtin.\n",
    "- Show distribution-> \tHistogram, density, qqplot, bubble. \n",
    "- Analyzing trend-> Line, bar, dual axis \n",
    "- Relations-> Scatter, heatmap\n",
    "\n",
    "\n",
    "### Code your solution"
   ]
  },
  {
   "cell_type": "code",
   "execution_count": 7,
   "metadata": {},
   "outputs": [
    {
     "data": {
      "text/html": [
       "<div class=\"bk-root\">\n",
       "        <a href=\"https://bokeh.org\" target=\"_blank\" class=\"bk-logo bk-logo-small bk-logo-notebook\"></a>\n",
       "        <span id=\"1002\">Loading BokehJS ...</span>\n",
       "    </div>\n"
      ]
     },
     "metadata": {},
     "output_type": "display_data"
    },
    {
     "data": {
      "application/javascript": "(function(root) {\n  function now() {\n    return new Date();\n  }\n\n  const force = true;\n\n  if (typeof root._bokeh_onload_callbacks === \"undefined\" || force === true) {\n    root._bokeh_onload_callbacks = [];\n    root._bokeh_is_loading = undefined;\n  }\n\nconst JS_MIME_TYPE = 'application/javascript';\n  const HTML_MIME_TYPE = 'text/html';\n  const EXEC_MIME_TYPE = 'application/vnd.bokehjs_exec.v0+json';\n  const CLASS_NAME = 'output_bokeh rendered_html';\n\n  /**\n   * Render data to the DOM node\n   */\n  function render(props, node) {\n    const script = document.createElement(\"script\");\n    node.appendChild(script);\n  }\n\n  /**\n   * Handle when an output is cleared or removed\n   */\n  function handleClearOutput(event, handle) {\n    const cell = handle.cell;\n\n    const id = cell.output_area._bokeh_element_id;\n    const server_id = cell.output_area._bokeh_server_id;\n    // Clean up Bokeh references\n    if (id != null && id in Bokeh.index) {\n      Bokeh.index[id].model.document.clear();\n      delete Bokeh.index[id];\n    }\n\n    if (server_id !== undefined) {\n      // Clean up Bokeh references\n      const cmd_clean = \"from bokeh.io.state import curstate; print(curstate().uuid_to_server['\" + server_id + \"'].get_sessions()[0].document.roots[0]._id)\";\n      cell.notebook.kernel.execute(cmd_clean, {\n        iopub: {\n          output: function(msg) {\n            const id = msg.content.text.trim();\n            if (id in Bokeh.index) {\n              Bokeh.index[id].model.document.clear();\n              delete Bokeh.index[id];\n            }\n          }\n        }\n      });\n      // Destroy server and session\n      const cmd_destroy = \"import bokeh.io.notebook as ion; ion.destroy_server('\" + server_id + \"')\";\n      cell.notebook.kernel.execute(cmd_destroy);\n    }\n  }\n\n  /**\n   * Handle when a new output is added\n   */\n  function handleAddOutput(event, handle) {\n    const output_area = handle.output_area;\n    const output = handle.output;\n\n    // limit handleAddOutput to display_data with EXEC_MIME_TYPE content only\n    if ((output.output_type != \"display_data\") || (!Object.prototype.hasOwnProperty.call(output.data, EXEC_MIME_TYPE))) {\n      return\n    }\n\n    const toinsert = output_area.element.find(\".\" + CLASS_NAME.split(' ')[0]);\n\n    if (output.metadata[EXEC_MIME_TYPE][\"id\"] !== undefined) {\n      toinsert[toinsert.length - 1].firstChild.textContent = output.data[JS_MIME_TYPE];\n      // store reference to embed id on output_area\n      output_area._bokeh_element_id = output.metadata[EXEC_MIME_TYPE][\"id\"];\n    }\n    if (output.metadata[EXEC_MIME_TYPE][\"server_id\"] !== undefined) {\n      const bk_div = document.createElement(\"div\");\n      bk_div.innerHTML = output.data[HTML_MIME_TYPE];\n      const script_attrs = bk_div.children[0].attributes;\n      for (let i = 0; i < script_attrs.length; i++) {\n        toinsert[toinsert.length - 1].firstChild.setAttribute(script_attrs[i].name, script_attrs[i].value);\n        toinsert[toinsert.length - 1].firstChild.textContent = bk_div.children[0].textContent\n      }\n      // store reference to server id on output_area\n      output_area._bokeh_server_id = output.metadata[EXEC_MIME_TYPE][\"server_id\"];\n    }\n  }\n\n  function register_renderer(events, OutputArea) {\n\n    function append_mime(data, metadata, element) {\n      // create a DOM node to render to\n      const toinsert = this.create_output_subarea(\n        metadata,\n        CLASS_NAME,\n        EXEC_MIME_TYPE\n      );\n      this.keyboard_manager.register_events(toinsert);\n      // Render to node\n      const props = {data: data, metadata: metadata[EXEC_MIME_TYPE]};\n      render(props, toinsert[toinsert.length - 1]);\n      element.append(toinsert);\n      return toinsert\n    }\n\n    /* Handle when an output is cleared or removed */\n    events.on('clear_output.CodeCell', handleClearOutput);\n    events.on('delete.Cell', handleClearOutput);\n\n    /* Handle when a new output is added */\n    events.on('output_added.OutputArea', handleAddOutput);\n\n    /**\n     * Register the mime type and append_mime function with output_area\n     */\n    OutputArea.prototype.register_mime_type(EXEC_MIME_TYPE, append_mime, {\n      /* Is output safe? */\n      safe: true,\n      /* Index of renderer in `output_area.display_order` */\n      index: 0\n    });\n  }\n\n  // register the mime type if in Jupyter Notebook environment and previously unregistered\n  if (root.Jupyter !== undefined) {\n    const events = require('base/js/events');\n    const OutputArea = require('notebook/js/outputarea').OutputArea;\n\n    if (OutputArea.prototype.mime_types().indexOf(EXEC_MIME_TYPE) == -1) {\n      register_renderer(events, OutputArea);\n    }\n  }\n  if (typeof (root._bokeh_timeout) === \"undefined\" || force === true) {\n    root._bokeh_timeout = Date.now() + 5000;\n    root._bokeh_failed_load = false;\n  }\n\n  const NB_LOAD_WARNING = {'data': {'text/html':\n     \"<div style='background-color: #fdd'>\\n\"+\n     \"<p>\\n\"+\n     \"BokehJS does not appear to have successfully loaded. If loading BokehJS from CDN, this \\n\"+\n     \"may be due to a slow or bad network connection. Possible fixes:\\n\"+\n     \"</p>\\n\"+\n     \"<ul>\\n\"+\n     \"<li>re-rerun `output_notebook()` to attempt to load from CDN again, or</li>\\n\"+\n     \"<li>use INLINE resources instead, as so:</li>\\n\"+\n     \"</ul>\\n\"+\n     \"<code>\\n\"+\n     \"from bokeh.resources import INLINE\\n\"+\n     \"output_notebook(resources=INLINE)\\n\"+\n     \"</code>\\n\"+\n     \"</div>\"}};\n\n  function display_loaded() {\n    const el = document.getElementById(\"1002\");\n    if (el != null) {\n      el.textContent = \"BokehJS is loading...\";\n    }\n    if (root.Bokeh !== undefined) {\n      if (el != null) {\n        el.textContent = \"BokehJS \" + root.Bokeh.version + \" successfully loaded.\";\n      }\n    } else if (Date.now() < root._bokeh_timeout) {\n      setTimeout(display_loaded, 100)\n    }\n  }\n\n  function run_callbacks() {\n    try {\n      root._bokeh_onload_callbacks.forEach(function(callback) {\n        if (callback != null)\n          callback();\n      });\n    } finally {\n      delete root._bokeh_onload_callbacks\n    }\n    console.debug(\"Bokeh: all callbacks have finished\");\n  }\n\n  function load_libs(css_urls, js_urls, callback) {\n    if (css_urls == null) css_urls = [];\n    if (js_urls == null) js_urls = [];\n\n    root._bokeh_onload_callbacks.push(callback);\n    if (root._bokeh_is_loading > 0) {\n      console.debug(\"Bokeh: BokehJS is being loaded, scheduling callback at\", now());\n      return null;\n    }\n    if (js_urls == null || js_urls.length === 0) {\n      run_callbacks();\n      return null;\n    }\n    console.debug(\"Bokeh: BokehJS not loaded, scheduling load and callback at\", now());\n    root._bokeh_is_loading = css_urls.length + js_urls.length;\n\n    function on_load() {\n      root._bokeh_is_loading--;\n      if (root._bokeh_is_loading === 0) {\n        console.debug(\"Bokeh: all BokehJS libraries/stylesheets loaded\");\n        run_callbacks()\n      }\n    }\n\n    function on_error(url) {\n      console.error(\"failed to load \" + url);\n    }\n\n    for (let i = 0; i < css_urls.length; i++) {\n      const url = css_urls[i];\n      const element = document.createElement(\"link\");\n      element.onload = on_load;\n      element.onerror = on_error.bind(null, url);\n      element.rel = \"stylesheet\";\n      element.type = \"text/css\";\n      element.href = url;\n      console.debug(\"Bokeh: injecting link tag for BokehJS stylesheet: \", url);\n      document.body.appendChild(element);\n    }\n\n    for (let i = 0; i < js_urls.length; i++) {\n      const url = js_urls[i];\n      const element = document.createElement('script');\n      element.onload = on_load;\n      element.onerror = on_error.bind(null, url);\n      element.async = false;\n      element.src = url;\n      console.debug(\"Bokeh: injecting script tag for BokehJS library: \", url);\n      document.head.appendChild(element);\n    }\n  };\n\n  function inject_raw_css(css) {\n    const element = document.createElement(\"style\");\n    element.appendChild(document.createTextNode(css));\n    document.body.appendChild(element);\n  }\n\n  const js_urls = [\"https://cdn.bokeh.org/bokeh/release/bokeh-2.4.3.min.js\", \"https://cdn.bokeh.org/bokeh/release/bokeh-gl-2.4.3.min.js\", \"https://cdn.bokeh.org/bokeh/release/bokeh-widgets-2.4.3.min.js\", \"https://cdn.bokeh.org/bokeh/release/bokeh-tables-2.4.3.min.js\", \"https://cdn.bokeh.org/bokeh/release/bokeh-mathjax-2.4.3.min.js\", \"https://unpkg.com/@holoviz/panel@0.13.1/dist/panel.min.js\"];\n  const css_urls = [];\n\n  const inline_js = [    function(Bokeh) {\n      Bokeh.set_log_level(\"info\");\n    },\nfunction(Bokeh) {\n    }\n  ];\n\n  function run_inline_js() {\n    if (root.Bokeh !== undefined || force === true) {\n          for (let i = 0; i < inline_js.length; i++) {\n      inline_js[i].call(root, root.Bokeh);\n    }\nif (force === true) {\n        display_loaded();\n      }} else if (Date.now() < root._bokeh_timeout) {\n      setTimeout(run_inline_js, 100);\n    } else if (!root._bokeh_failed_load) {\n      console.log(\"Bokeh: BokehJS failed to load within specified timeout.\");\n      root._bokeh_failed_load = true;\n    } else if (force !== true) {\n      const cell = $(document.getElementById(\"1002\")).parents('.cell').data().cell;\n      cell.output_area.append_execute_result(NB_LOAD_WARNING)\n    }\n  }\n\n  if (root._bokeh_is_loading === 0) {\n    console.debug(\"Bokeh: BokehJS loaded, going straight to plotting\");\n    run_inline_js();\n  } else {\n    load_libs(css_urls, js_urls, function() {\n      console.debug(\"Bokeh: BokehJS plotting callback run at\", now());\n      run_inline_js();\n    });\n  }\n}(window));",
      "application/vnd.bokehjs_load.v0+json": ""
     },
     "metadata": {},
     "output_type": "display_data"
    }
   ],
   "source": [
    "from bokeh.io import output_notebook\n",
    "from bokeh.plotting import figure, show\n",
    "from bokeh.layouts import gridplot\n",
    "from bokeh.io import output_notebook\n",
    "from bokeh.plotting import ColumnDataSource\n",
    "output_notebook()"
   ]
  },
  {
   "cell_type": "code",
   "execution_count": 20,
   "metadata": {},
   "outputs": [
    {
     "data": {
      "text/html": [
       "<div class=\"bk-root\">\n",
       "        <a href=\"https://bokeh.org\" target=\"_blank\" class=\"bk-logo bk-logo-small bk-logo-notebook\"></a>\n",
       "        <span id=\"2170\">Loading BokehJS ...</span>\n",
       "    </div>\n"
      ]
     },
     "metadata": {},
     "output_type": "display_data"
    },
    {
     "data": {
      "application/javascript": "(function(root) {\n  function now() {\n    return new Date();\n  }\n\n  const force = true;\n\n  if (typeof root._bokeh_onload_callbacks === \"undefined\" || force === true) {\n    root._bokeh_onload_callbacks = [];\n    root._bokeh_is_loading = undefined;\n  }\n\nconst JS_MIME_TYPE = 'application/javascript';\n  const HTML_MIME_TYPE = 'text/html';\n  const EXEC_MIME_TYPE = 'application/vnd.bokehjs_exec.v0+json';\n  const CLASS_NAME = 'output_bokeh rendered_html';\n\n  /**\n   * Render data to the DOM node\n   */\n  function render(props, node) {\n    const script = document.createElement(\"script\");\n    node.appendChild(script);\n  }\n\n  /**\n   * Handle when an output is cleared or removed\n   */\n  function handleClearOutput(event, handle) {\n    const cell = handle.cell;\n\n    const id = cell.output_area._bokeh_element_id;\n    const server_id = cell.output_area._bokeh_server_id;\n    // Clean up Bokeh references\n    if (id != null && id in Bokeh.index) {\n      Bokeh.index[id].model.document.clear();\n      delete Bokeh.index[id];\n    }\n\n    if (server_id !== undefined) {\n      // Clean up Bokeh references\n      const cmd_clean = \"from bokeh.io.state import curstate; print(curstate().uuid_to_server['\" + server_id + \"'].get_sessions()[0].document.roots[0]._id)\";\n      cell.notebook.kernel.execute(cmd_clean, {\n        iopub: {\n          output: function(msg) {\n            const id = msg.content.text.trim();\n            if (id in Bokeh.index) {\n              Bokeh.index[id].model.document.clear();\n              delete Bokeh.index[id];\n            }\n          }\n        }\n      });\n      // Destroy server and session\n      const cmd_destroy = \"import bokeh.io.notebook as ion; ion.destroy_server('\" + server_id + \"')\";\n      cell.notebook.kernel.execute(cmd_destroy);\n    }\n  }\n\n  /**\n   * Handle when a new output is added\n   */\n  function handleAddOutput(event, handle) {\n    const output_area = handle.output_area;\n    const output = handle.output;\n\n    // limit handleAddOutput to display_data with EXEC_MIME_TYPE content only\n    if ((output.output_type != \"display_data\") || (!Object.prototype.hasOwnProperty.call(output.data, EXEC_MIME_TYPE))) {\n      return\n    }\n\n    const toinsert = output_area.element.find(\".\" + CLASS_NAME.split(' ')[0]);\n\n    if (output.metadata[EXEC_MIME_TYPE][\"id\"] !== undefined) {\n      toinsert[toinsert.length - 1].firstChild.textContent = output.data[JS_MIME_TYPE];\n      // store reference to embed id on output_area\n      output_area._bokeh_element_id = output.metadata[EXEC_MIME_TYPE][\"id\"];\n    }\n    if (output.metadata[EXEC_MIME_TYPE][\"server_id\"] !== undefined) {\n      const bk_div = document.createElement(\"div\");\n      bk_div.innerHTML = output.data[HTML_MIME_TYPE];\n      const script_attrs = bk_div.children[0].attributes;\n      for (let i = 0; i < script_attrs.length; i++) {\n        toinsert[toinsert.length - 1].firstChild.setAttribute(script_attrs[i].name, script_attrs[i].value);\n        toinsert[toinsert.length - 1].firstChild.textContent = bk_div.children[0].textContent\n      }\n      // store reference to server id on output_area\n      output_area._bokeh_server_id = output.metadata[EXEC_MIME_TYPE][\"server_id\"];\n    }\n  }\n\n  function register_renderer(events, OutputArea) {\n\n    function append_mime(data, metadata, element) {\n      // create a DOM node to render to\n      const toinsert = this.create_output_subarea(\n        metadata,\n        CLASS_NAME,\n        EXEC_MIME_TYPE\n      );\n      this.keyboard_manager.register_events(toinsert);\n      // Render to node\n      const props = {data: data, metadata: metadata[EXEC_MIME_TYPE]};\n      render(props, toinsert[toinsert.length - 1]);\n      element.append(toinsert);\n      return toinsert\n    }\n\n    /* Handle when an output is cleared or removed */\n    events.on('clear_output.CodeCell', handleClearOutput);\n    events.on('delete.Cell', handleClearOutput);\n\n    /* Handle when a new output is added */\n    events.on('output_added.OutputArea', handleAddOutput);\n\n    /**\n     * Register the mime type and append_mime function with output_area\n     */\n    OutputArea.prototype.register_mime_type(EXEC_MIME_TYPE, append_mime, {\n      /* Is output safe? */\n      safe: true,\n      /* Index of renderer in `output_area.display_order` */\n      index: 0\n    });\n  }\n\n  // register the mime type if in Jupyter Notebook environment and previously unregistered\n  if (root.Jupyter !== undefined) {\n    const events = require('base/js/events');\n    const OutputArea = require('notebook/js/outputarea').OutputArea;\n\n    if (OutputArea.prototype.mime_types().indexOf(EXEC_MIME_TYPE) == -1) {\n      register_renderer(events, OutputArea);\n    }\n  }\n  if (typeof (root._bokeh_timeout) === \"undefined\" || force === true) {\n    root._bokeh_timeout = Date.now() + 5000;\n    root._bokeh_failed_load = false;\n  }\n\n  const NB_LOAD_WARNING = {'data': {'text/html':\n     \"<div style='background-color: #fdd'>\\n\"+\n     \"<p>\\n\"+\n     \"BokehJS does not appear to have successfully loaded. If loading BokehJS from CDN, this \\n\"+\n     \"may be due to a slow or bad network connection. Possible fixes:\\n\"+\n     \"</p>\\n\"+\n     \"<ul>\\n\"+\n     \"<li>re-rerun `output_notebook()` to attempt to load from CDN again, or</li>\\n\"+\n     \"<li>use INLINE resources instead, as so:</li>\\n\"+\n     \"</ul>\\n\"+\n     \"<code>\\n\"+\n     \"from bokeh.resources import INLINE\\n\"+\n     \"output_notebook(resources=INLINE)\\n\"+\n     \"</code>\\n\"+\n     \"</div>\"}};\n\n  function display_loaded() {\n    const el = document.getElementById(\"2170\");\n    if (el != null) {\n      el.textContent = \"BokehJS is loading...\";\n    }\n    if (root.Bokeh !== undefined) {\n      if (el != null) {\n        el.textContent = \"BokehJS \" + root.Bokeh.version + \" successfully loaded.\";\n      }\n    } else if (Date.now() < root._bokeh_timeout) {\n      setTimeout(display_loaded, 100)\n    }\n  }\n\n  function run_callbacks() {\n    try {\n      root._bokeh_onload_callbacks.forEach(function(callback) {\n        if (callback != null)\n          callback();\n      });\n    } finally {\n      delete root._bokeh_onload_callbacks\n    }\n    console.debug(\"Bokeh: all callbacks have finished\");\n  }\n\n  function load_libs(css_urls, js_urls, callback) {\n    if (css_urls == null) css_urls = [];\n    if (js_urls == null) js_urls = [];\n\n    root._bokeh_onload_callbacks.push(callback);\n    if (root._bokeh_is_loading > 0) {\n      console.debug(\"Bokeh: BokehJS is being loaded, scheduling callback at\", now());\n      return null;\n    }\n    if (js_urls == null || js_urls.length === 0) {\n      run_callbacks();\n      return null;\n    }\n    console.debug(\"Bokeh: BokehJS not loaded, scheduling load and callback at\", now());\n    root._bokeh_is_loading = css_urls.length + js_urls.length;\n\n    function on_load() {\n      root._bokeh_is_loading--;\n      if (root._bokeh_is_loading === 0) {\n        console.debug(\"Bokeh: all BokehJS libraries/stylesheets loaded\");\n        run_callbacks()\n      }\n    }\n\n    function on_error(url) {\n      console.error(\"failed to load \" + url);\n    }\n\n    for (let i = 0; i < css_urls.length; i++) {\n      const url = css_urls[i];\n      const element = document.createElement(\"link\");\n      element.onload = on_load;\n      element.onerror = on_error.bind(null, url);\n      element.rel = \"stylesheet\";\n      element.type = \"text/css\";\n      element.href = url;\n      console.debug(\"Bokeh: injecting link tag for BokehJS stylesheet: \", url);\n      document.body.appendChild(element);\n    }\n\n    for (let i = 0; i < js_urls.length; i++) {\n      const url = js_urls[i];\n      const element = document.createElement('script');\n      element.onload = on_load;\n      element.onerror = on_error.bind(null, url);\n      element.async = false;\n      element.src = url;\n      console.debug(\"Bokeh: injecting script tag for BokehJS library: \", url);\n      document.head.appendChild(element);\n    }\n  };\n\n  function inject_raw_css(css) {\n    const element = document.createElement(\"style\");\n    element.appendChild(document.createTextNode(css));\n    document.body.appendChild(element);\n  }\n\n  const js_urls = [\"https://cdn.bokeh.org/bokeh/release/bokeh-2.4.3.min.js\", \"https://cdn.bokeh.org/bokeh/release/bokeh-gl-2.4.3.min.js\", \"https://cdn.bokeh.org/bokeh/release/bokeh-widgets-2.4.3.min.js\", \"https://cdn.bokeh.org/bokeh/release/bokeh-tables-2.4.3.min.js\", \"https://cdn.bokeh.org/bokeh/release/bokeh-mathjax-2.4.3.min.js\", \"https://unpkg.com/@holoviz/panel@0.13.1/dist/panel.min.js\"];\n  const css_urls = [];\n\n  const inline_js = [    function(Bokeh) {\n      Bokeh.set_log_level(\"info\");\n    },\nfunction(Bokeh) {\n    }\n  ];\n\n  function run_inline_js() {\n    if (root.Bokeh !== undefined || force === true) {\n          for (let i = 0; i < inline_js.length; i++) {\n      inline_js[i].call(root, root.Bokeh);\n    }\nif (force === true) {\n        display_loaded();\n      }} else if (Date.now() < root._bokeh_timeout) {\n      setTimeout(run_inline_js, 100);\n    } else if (!root._bokeh_failed_load) {\n      console.log(\"Bokeh: BokehJS failed to load within specified timeout.\");\n      root._bokeh_failed_load = true;\n    } else if (force !== true) {\n      const cell = $(document.getElementById(\"2170\")).parents('.cell').data().cell;\n      cell.output_area.append_execute_result(NB_LOAD_WARNING)\n    }\n  }\n\n  if (root._bokeh_is_loading === 0) {\n    console.debug(\"Bokeh: BokehJS loaded, going straight to plotting\");\n    run_inline_js();\n  } else {\n    load_libs(css_urls, js_urls, function() {\n      console.debug(\"Bokeh: BokehJS plotting callback run at\", now());\n      run_inline_js();\n    });\n  }\n}(window));",
      "application/vnd.bokehjs_load.v0+json": ""
     },
     "metadata": {},
     "output_type": "display_data"
    },
    {
     "data": {
      "text/html": [
       "\n",
       "  <div class=\"bk-root\" id=\"4f283ec0-3eea-42c2-8379-37d8ff383668\" data-root-id=\"2131\"></div>\n"
      ]
     },
     "metadata": {},
     "output_type": "display_data"
    },
    {
     "data": {
      "application/javascript": "(function(root) {\n  function embed_document(root) {\n  const docs_json = {\"5a0ca8ee-72e6-43a1-9756-59ff59af67a1\":{\"defs\":[{\"extends\":null,\"module\":null,\"name\":\"ReactiveHTML1\",\"overrides\":[],\"properties\":[]},{\"extends\":null,\"module\":null,\"name\":\"FlexBox1\",\"overrides\":[],\"properties\":[{\"default\":\"flex-start\",\"kind\":null,\"name\":\"align_content\"},{\"default\":\"flex-start\",\"kind\":null,\"name\":\"align_items\"},{\"default\":\"row\",\"kind\":null,\"name\":\"flex_direction\"},{\"default\":\"wrap\",\"kind\":null,\"name\":\"flex_wrap\"},{\"default\":\"flex-start\",\"kind\":null,\"name\":\"justify_content\"}]},{\"extends\":null,\"module\":null,\"name\":\"GridStack1\",\"overrides\":[],\"properties\":[{\"default\":\"warn\",\"kind\":null,\"name\":\"mode\"},{\"default\":null,\"kind\":null,\"name\":\"ncols\"},{\"default\":null,\"kind\":null,\"name\":\"nrows\"},{\"default\":true,\"kind\":null,\"name\":\"allow_resize\"},{\"default\":true,\"kind\":null,\"name\":\"allow_drag\"},{\"default\":[],\"kind\":null,\"name\":\"state\"}]},{\"extends\":null,\"module\":null,\"name\":\"click1\",\"overrides\":[],\"properties\":[{\"default\":\"\",\"kind\":null,\"name\":\"terminal_output\"},{\"default\":\"\",\"kind\":null,\"name\":\"debug_name\"},{\"default\":0,\"kind\":null,\"name\":\"clears\"}]},{\"extends\":null,\"module\":null,\"name\":\"NotificationAreaBase1\",\"overrides\":[],\"properties\":[{\"default\":\"bottom-right\",\"kind\":null,\"name\":\"position\"},{\"default\":0,\"kind\":null,\"name\":\"_clear\"}]},{\"extends\":null,\"module\":null,\"name\":\"NotificationArea1\",\"overrides\":[],\"properties\":[{\"default\":[],\"kind\":null,\"name\":\"notifications\"},{\"default\":\"bottom-right\",\"kind\":null,\"name\":\"position\"},{\"default\":0,\"kind\":null,\"name\":\"_clear\"},{\"default\":[{\"background\":\"#ffc107\",\"icon\":{\"className\":\"fas fa-exclamation-triangle\",\"color\":\"white\",\"tagName\":\"i\"},\"type\":\"warning\"},{\"background\":\"#007bff\",\"icon\":{\"className\":\"fas fa-info-circle\",\"color\":\"white\",\"tagName\":\"i\"},\"type\":\"info\"}],\"kind\":null,\"name\":\"types\"}]},{\"extends\":null,\"module\":null,\"name\":\"Notification\",\"overrides\":[],\"properties\":[{\"default\":null,\"kind\":null,\"name\":\"background\"},{\"default\":3000,\"kind\":null,\"name\":\"duration\"},{\"default\":null,\"kind\":null,\"name\":\"icon\"},{\"default\":\"\",\"kind\":null,\"name\":\"message\"},{\"default\":null,\"kind\":null,\"name\":\"notification_type\"},{\"default\":false,\"kind\":null,\"name\":\"_destroyed\"}]},{\"extends\":null,\"module\":null,\"name\":\"TemplateActions1\",\"overrides\":[],\"properties\":[{\"default\":0,\"kind\":null,\"name\":\"open_modal\"},{\"default\":0,\"kind\":null,\"name\":\"close_modal\"}]},{\"extends\":null,\"module\":null,\"name\":\"MaterialTemplateActions1\",\"overrides\":[],\"properties\":[{\"default\":0,\"kind\":null,\"name\":\"open_modal\"},{\"default\":0,\"kind\":null,\"name\":\"close_modal\"}]}],\"roots\":{\"references\":[{\"attributes\":{\"below\":[{\"id\":\"2142\"}],\"center\":[{\"id\":\"2145\"},{\"id\":\"2149\"}],\"height\":800,\"left\":[{\"id\":\"2146\"}],\"renderers\":[{\"id\":\"2168\"}],\"title\":{\"id\":\"2132\"},\"toolbar\":{\"id\":\"2157\"},\"width\":800,\"x_range\":{\"id\":\"2134\"},\"x_scale\":{\"id\":\"2138\"},\"y_range\":{\"id\":\"2136\"},\"y_scale\":{\"id\":\"2140\"}},\"id\":\"2131\",\"subtype\":\"Figure\",\"type\":\"Plot\"},{\"attributes\":{},\"id\":\"2151\",\"type\":\"WheelZoomTool\"},{\"attributes\":{\"data\":{\"line_color\":[\"red\",\"black\"],\"xs\":[[1556150880000.0,1556151240000.0,1556152140000.0,1556153040000.0,1556153400000.0,1556153940000.0,1556154840000.0,1556155740000.0,1556156640000.0,1556157540000.0,1556158440000.0,1556159340000.0,1556160240000.0,1556161140000.0,1556162040000.0,1556162940000.0,1556163840000.0,1556164740000.0,1556165640000.0,1556166540000.0,1556167440000.0,1556168340000.0,1556169240000.0,1556170140000.0,1556171040000.0,1556171940000.0,1556172840000.0,1556173740000.0,1556174640000.0,1556175600000.0,1556175720000.0,1556176500000.0,1556177400000.0,1556177640000.0,1556178300000.0,1556179200000.0,1556180160000.0,1556180340000.0,1556181060000.0,1556181960000.0,1556182860000.0,1556183760000.0,1556184660000.0,1556185560000.0,1556186460000.0,1556187360000.0,1556188260000.0,1556189160000.0,1556190060000.0,1556190060000.0,1556190960000.0,1556191860000.0,1556192760000.0,1556193660000.0,1556194560000.0,1556195460000.0,1556196360000.0,1556197260000.0,1556198040000.0,1556198160000.0,1556201760000.0,1556201820000.0,1556202660000.0,1556203500000.0,1556204100000.0,1556204340000.0,1556204400000.0,1556205060000.0,1556205480000.0,1556205720000.0,1556206620000.0,1556206680000.0,1556207040000.0,1556207220000.0,1556207460000.0,1556207700000.0,1556208060000.0,1556208840000.0,1556209020000.0,1556209560000.0,1556209860000.0,1556210100000.0,1556211180000.0,1556211660000.0,1556212260000.0,1556212440000.0,1556212740000.0,1556212860000.0,1556212980000.0,1556213160000.0,1556213400000.0,1556213520000.0,1556213580000.0,1556213640000.0,1556214000000.0,1556214120000.0,1556214420000.0,1556214540000.0,1556214780000.0,1556215020000.0,1556215260000.0,1556215260000.0,1556215440000.0,1556215740000.0,1556215980000.0,1556216220000.0,1556218380000.0,1556218920000.0,1556219340000.0,1556219700000.0,1556219820000.0,1556220540000.0,1556220720000.0,1556221620000.0,1556222520000.0,1556223420000.0,1556224320000.0,1556225220000.0,1556226180000.0,1556226720000.0,1556227080000.0,1556227980000.0,1556228520000.0,1556228880000.0,1556229720000.0,1556229780000.0,1556230680000.0,1556231580000.0,1556231820000.0,1556232420000.0,1556232660000.0,1556233320000.0,1556234280000.0,1556235060000.0,1556235180000.0,1556236080000.0],[1556150880000.0,1556151240000.0,1556152140000.0,1556153040000.0,1556153400000.0,1556153940000.0,1556154840000.0,1556155740000.0,1556156640000.0,1556157540000.0,1556158440000.0,1556159340000.0,1556160240000.0,1556161140000.0,1556162040000.0,1556162940000.0,1556163840000.0,1556164740000.0,1556165640000.0,1556166540000.0,1556167440000.0,1556168340000.0,1556169240000.0,1556170140000.0,1556171040000.0,1556171940000.0,1556172840000.0,1556173740000.0,1556174640000.0,1556175600000.0,1556175720000.0,1556176500000.0,1556177400000.0,1556177640000.0,1556178300000.0,1556179200000.0,1556180160000.0,1556180340000.0,1556181060000.0,1556181960000.0,1556182860000.0,1556183760000.0,1556184660000.0,1556185560000.0,1556186460000.0,1556187360000.0,1556188260000.0,1556189160000.0,1556190060000.0,1556190060000.0,1556190960000.0,1556191860000.0,1556192760000.0,1556193660000.0,1556194560000.0,1556195460000.0,1556196360000.0,1556197260000.0,1556198040000.0,1556198160000.0,1556201760000.0,1556201820000.0,1556202660000.0,1556203500000.0,1556204100000.0,1556204340000.0,1556204400000.0,1556205060000.0,1556205480000.0,1556205720000.0,1556206620000.0,1556206680000.0,1556207040000.0,1556207220000.0,1556207460000.0,1556207700000.0,1556208060000.0,1556208840000.0,1556209020000.0,1556209560000.0,1556209860000.0,1556210100000.0,1556211180000.0,1556211660000.0,1556212260000.0,1556212440000.0,1556212740000.0,1556212860000.0,1556212980000.0,1556213160000.0,1556213400000.0,1556213520000.0,1556213580000.0,1556213640000.0,1556214000000.0,1556214120000.0,1556214420000.0,1556214540000.0,1556214780000.0,1556215020000.0,1556215260000.0,1556215260000.0,1556215440000.0,1556215740000.0,1556215980000.0,1556216220000.0,1556218380000.0,1556218920000.0,1556219340000.0,1556219700000.0,1556219820000.0,1556220540000.0,1556220720000.0,1556221620000.0,1556222520000.0,1556223420000.0,1556224320000.0,1556225220000.0,1556226180000.0,1556226720000.0,1556227080000.0,1556227980000.0,1556228520000.0,1556228880000.0,1556229720000.0,1556229780000.0,1556230680000.0,1556231580000.0,1556231820000.0,1556232420000.0,1556232660000.0,1556233320000.0,1556234280000.0,1556235060000.0,1556235180000.0,1556236080000.0]],\"ys\":[[109.0,109.46666717529297,109.93333435058594,110.4000015258789,110.86666870117188,111.33333587646484,111.80000305175781,112.26667022705078,112.73332977294922,113.19999694824219,113.66666412353516,114.13333129882812,114.5999984741211,115.06666564941406,115.53333282470703,116.0,116.46666717529297,116.93333435058594,117.4000015258789,117.86666870117188,118.33333587646484,118.80000305175781,119.26667022705078,119.73332977294922,120.19999694824219,120.66666412353516,121.13333129882812,121.5999984741211,122.06666564941406,122.53333282470703,123.0,134.6666717529297,146.3333282470703,158.0,156.8125,155.625,154.4375,153.25,152.0625,150.875,149.6875,148.5,147.3125,146.125,144.9375,143.75,142.5625,141.375,140.1875,139.0,140.3333282470703,141.6666717529297,143.0,144.3333282470703,145.6666717529297,147.0,148.3333282470703,149.6666717529297,151.0,143.6666717529297,136.3333282470703,129.0,145.0,161.0,184.0,178.0,178.0,121.0,111.0,106.0,91.0,97.0,106.0,106.0,97.0,86.0,100.0,114.0,121.5,129.0,123.5,118.0,118.0,115.0,105.0,109.0,107.0,111.0,120.0,137.0,134.0,131.5,129.0,125.0,122.0,124.0,125.5,127.0,121.0,123.0,122.0,123.0,124.0,126.0,128.0,119.0,110.0,119.0,128.0,116.0,111.0,106.0,111.625,117.25,122.875,128.5,134.125,139.75,145.375,151.0,142.6666717529297,134.3333282470703,126.0,128.0,130.0,126.0,122.0,118.0,114.0,110.0,106.0,107.66666412353516,109.33333587646484,111.0,111.0,111.0],[109.0,\"NaN\",\"NaN\",\"NaN\",\"NaN\",\"NaN\",\"NaN\",\"NaN\",\"NaN\",\"NaN\",\"NaN\",\"NaN\",\"NaN\",\"NaN\",\"NaN\",\"NaN\",\"NaN\",\"NaN\",\"NaN\",\"NaN\",\"NaN\",\"NaN\",\"NaN\",\"NaN\",\"NaN\",\"NaN\",\"NaN\",\"NaN\",\"NaN\",\"NaN\",123.0,\"NaN\",\"NaN\",158.0,\"NaN\",\"NaN\",\"NaN\",\"NaN\",\"NaN\",\"NaN\",\"NaN\",\"NaN\",\"NaN\",\"NaN\",\"NaN\",\"NaN\",\"NaN\",\"NaN\",\"NaN\",139.0,\"NaN\",\"NaN\",\"NaN\",\"NaN\",\"NaN\",\"NaN\",\"NaN\",\"NaN\",151.0,\"NaN\",\"NaN\",129.0,\"NaN\",161.0,184.0,178.0,178.0,121.0,111.0,106.0,91.0,97.0,106.0,106.0,97.0,86.0,\"NaN\",114.0,\"NaN\",129.0,\"NaN\",118.0,118.0,115.0,105.0,109.0,107.0,111.0,120.0,137.0,134.0,\"NaN\",129.0,125.0,122.0,124.0,\"NaN\",127.0,121.0,123.0,122.0,\"NaN\",124.0,126.0,128.0,\"NaN\",110.0,\"NaN\",128.0,116.0,\"NaN\",106.0,\"NaN\",\"NaN\",\"NaN\",\"NaN\",\"NaN\",\"NaN\",\"NaN\",151.0,\"NaN\",\"NaN\",126.0,\"NaN\",130.0,\"NaN\",\"NaN\",\"NaN\",114.0,\"NaN\",106.0,\"NaN\",\"NaN\",111.0,\"NaN\",\"NaN\"]]},\"selected\":{\"id\":\"2267\"},\"selection_policy\":{\"id\":\"2266\"}},\"id\":\"2164\",\"type\":\"ColumnDataSource\"},{\"attributes\":{},\"id\":\"2154\",\"type\":\"ResetTool\"},{\"attributes\":{},\"id\":\"2134\",\"type\":\"DataRange1d\"},{\"attributes\":{\"line_alpha\":{\"value\":0.2},\"line_color\":{\"field\":\"line_color\"},\"line_width\":{\"value\":2},\"xs\":{\"field\":\"xs\"},\"ys\":{\"field\":\"ys\"}},\"id\":\"2167\",\"type\":\"MultiLine\"},{\"attributes\":{\"bottom_units\":\"screen\",\"coordinates\":null,\"fill_alpha\":0.5,\"fill_color\":\"lightgrey\",\"group\":null,\"left_units\":\"screen\",\"level\":\"overlay\",\"line_alpha\":1.0,\"line_color\":\"black\",\"line_dash\":[4,4],\"line_width\":2,\"right_units\":\"screen\",\"syncable\":false,\"top_units\":\"screen\"},\"id\":\"2156\",\"type\":\"BoxAnnotation\"},{\"attributes\":{\"line_alpha\":{\"value\":0.1},\"line_color\":{\"field\":\"line_color\"},\"line_width\":{\"value\":2},\"xs\":{\"field\":\"xs\"},\"ys\":{\"field\":\"ys\"}},\"id\":\"2166\",\"type\":\"MultiLine\"},{\"attributes\":{},\"id\":\"2261\",\"type\":\"BasicTickFormatter\"},{\"attributes\":{\"num_minor_ticks\":5,\"tickers\":[{\"id\":\"2269\"},{\"id\":\"2270\"},{\"id\":\"2271\"},{\"id\":\"2272\"},{\"id\":\"2273\"},{\"id\":\"2274\"},{\"id\":\"2275\"},{\"id\":\"2276\"},{\"id\":\"2277\"},{\"id\":\"2278\"},{\"id\":\"2279\"},{\"id\":\"2280\"}]},\"id\":\"2143\",\"type\":\"DatetimeTicker\"},{\"attributes\":{},\"id\":\"2262\",\"type\":\"AllLabels\"},{\"attributes\":{\"axis_label\":\"time\",\"coordinates\":null,\"formatter\":{\"id\":\"2264\"},\"group\":null,\"major_label_policy\":{\"id\":\"2265\"},\"ticker\":{\"id\":\"2143\"}},\"id\":\"2142\",\"type\":\"DatetimeAxis\"},{\"attributes\":{\"mantissas\":[1,2,5],\"max_interval\":500.0,\"num_minor_ticks\":0},\"id\":\"2269\",\"type\":\"AdaptiveTicker\"},{\"attributes\":{},\"id\":\"2264\",\"type\":\"DatetimeTickFormatter\"},{\"attributes\":{\"base\":60,\"mantissas\":[1,2,5,10,15,20,30],\"max_interval\":1800000.0,\"min_interval\":1000.0,\"num_minor_ticks\":0},\"id\":\"2270\",\"type\":\"AdaptiveTicker\"},{\"attributes\":{\"base\":24,\"mantissas\":[1,2,4,6,8,12],\"max_interval\":43200000.0,\"min_interval\":3600000.0,\"num_minor_ticks\":0},\"id\":\"2271\",\"type\":\"AdaptiveTicker\"},{\"attributes\":{},\"id\":\"2265\",\"type\":\"AllLabels\"},{\"attributes\":{},\"id\":\"2280\",\"type\":\"YearsTicker\"},{\"attributes\":{\"axis_label\":\"glocuse level\",\"coordinates\":null,\"formatter\":{\"id\":\"2261\"},\"group\":null,\"major_label_policy\":{\"id\":\"2262\"},\"ticker\":{\"id\":\"2147\"}},\"id\":\"2146\",\"type\":\"LinearAxis\"},{\"attributes\":{\"months\":[0,1,2,3,4,5,6,7,8,9,10,11]},\"id\":\"2276\",\"type\":\"MonthsTicker\"},{\"attributes\":{\"days\":[1,15]},\"id\":\"2275\",\"type\":\"DaysTicker\"},{\"attributes\":{\"days\":[1,2,3,4,5,6,7,8,9,10,11,12,13,14,15,16,17,18,19,20,21,22,23,24,25,26,27,28,29,30,31]},\"id\":\"2272\",\"type\":\"DaysTicker\"},{\"attributes\":{\"axis\":{\"id\":\"2142\"},\"coordinates\":null,\"group\":null,\"ticker\":null},\"id\":\"2145\",\"type\":\"Grid\"},{\"attributes\":{\"days\":[1,4,7,10,13,16,19,22,25,28]},\"id\":\"2273\",\"type\":\"DaysTicker\"},{\"attributes\":{\"overlay\":{\"id\":\"2156\"}},\"id\":\"2152\",\"type\":\"BoxZoomTool\"},{\"attributes\":{\"days\":[1,8,15,22]},\"id\":\"2274\",\"type\":\"DaysTicker\"},{\"attributes\":{\"months\":[0,6]},\"id\":\"2279\",\"type\":\"MonthsTicker\"},{\"attributes\":{\"months\":[0,2,4,6,8,10]},\"id\":\"2277\",\"type\":\"MonthsTicker\"},{\"attributes\":{\"tools\":[{\"id\":\"2150\"},{\"id\":\"2151\"},{\"id\":\"2152\"},{\"id\":\"2153\"},{\"id\":\"2154\"},{\"id\":\"2155\"}]},\"id\":\"2157\",\"type\":\"Toolbar\"},{\"attributes\":{\"months\":[0,4,8]},\"id\":\"2278\",\"type\":\"MonthsTicker\"},{\"attributes\":{},\"id\":\"2266\",\"type\":\"UnionRenderers\"},{\"attributes\":{},\"id\":\"2267\",\"type\":\"Selection\"},{\"attributes\":{},\"id\":\"2147\",\"type\":\"BasicTicker\"},{\"attributes\":{\"coordinates\":null,\"data_source\":{\"id\":\"2164\"},\"glyph\":{\"id\":\"2165\"},\"group\":null,\"hover_glyph\":null,\"muted_glyph\":{\"id\":\"2167\"},\"nonselection_glyph\":{\"id\":\"2166\"},\"view\":{\"id\":\"2169\"}},\"id\":\"2168\",\"type\":\"GlyphRenderer\"},{\"attributes\":{},\"id\":\"2153\",\"type\":\"SaveTool\"},{\"attributes\":{\"source\":{\"id\":\"2164\"}},\"id\":\"2169\",\"type\":\"CDSView\"},{\"attributes\":{},\"id\":\"2150\",\"type\":\"PanTool\"},{\"attributes\":{},\"id\":\"2136\",\"type\":\"DataRange1d\"},{\"attributes\":{\"axis\":{\"id\":\"2146\"},\"coordinates\":null,\"dimension\":1,\"group\":null,\"ticker\":null},\"id\":\"2149\",\"type\":\"Grid\"},{\"attributes\":{},\"id\":\"2138\",\"type\":\"LinearScale\"},{\"attributes\":{},\"id\":\"2155\",\"type\":\"HelpTool\"},{\"attributes\":{\"coordinates\":null,\"group\":null,\"text\":\"glocuse vs. time\"},\"id\":\"2132\",\"type\":\"Title\"},{\"attributes\":{},\"id\":\"2140\",\"type\":\"LinearScale\"},{\"attributes\":{\"line_color\":{\"field\":\"line_color\"},\"line_width\":{\"value\":2},\"xs\":{\"field\":\"xs\"},\"ys\":{\"field\":\"ys\"}},\"id\":\"2165\",\"type\":\"MultiLine\"}],\"root_ids\":[\"2131\"]},\"title\":\"Bokeh Application\",\"version\":\"2.4.3\"}};\n  const render_items = [{\"docid\":\"5a0ca8ee-72e6-43a1-9756-59ff59af67a1\",\"root_ids\":[\"2131\"],\"roots\":{\"2131\":\"4f283ec0-3eea-42c2-8379-37d8ff383668\"}}];\n  root.Bokeh.embed.embed_items_notebook(docs_json, render_items);\n  }\n  if (root.Bokeh !== undefined) {\n    embed_document(root);\n  } else {\n    let attempts = 0;\n    const timer = setInterval(function(root) {\n      if (root.Bokeh !== undefined) {\n        clearInterval(timer);\n        embed_document(root);\n      } else {\n        attempts++;\n        if (attempts > 100) {\n          clearInterval(timer);\n          console.log(\"Bokeh: ERROR: Unable to run BokehJS code because BokehJS library is missing\");\n        }\n      }\n    }, 10, root)\n  }\n})(window);",
      "application/vnd.bokehjs_exec.v0+json": ""
     },
     "metadata": {
      "application/vnd.bokehjs_exec.v0+json": {
       "id": "2131"
      }
     },
     "output_type": "display_data"
    }
   ],
   "source": [
    "#two line plots are sketched to describe original data and interpolated data\n",
    " \n",
    "fig = figure(title='glocuse vs. time', x_axis_type='datetime', x_axis_label='time',\n",
    "             y_axis_label='glocuse level',plot_width=800, plot_height=800)\n",
    "\n",
    "xs = [df['time'], df['time']]\n",
    "ys = [df['interpolated'], df['glucose']]\n",
    "fig.multi_line(xs, ys, line_width=2, color=['red','black'])\n",
    "\n",
    "output_notebook()\n",
    "show(fig)"
   ]
  },
  {
   "cell_type": "code",
   "execution_count": null,
   "metadata": {},
   "outputs": [],
   "source": [
    "help('multi_line')"
   ]
  },
  {
   "cell_type": "markdown",
   "metadata": {},
   "source": [
    "*the red line is interpolated glocuse level and the black line is the original one*\n",
    "\n",
    "Here we can see that the main glucose data set is descreted due to the lost data;\n",
    " however, the interpolated set of databecomes continous."
   ]
  },
  {
   "cell_type": "code",
   "execution_count": 9,
   "metadata": {},
   "outputs": [
    {
     "data": {
      "text/html": [
       "<div class=\"bk-root\">\n",
       "        <a href=\"https://bokeh.org\" target=\"_blank\" class=\"bk-logo bk-logo-small bk-logo-notebook\"></a>\n",
       "        <span id=\"1237\">Loading BokehJS ...</span>\n",
       "    </div>\n"
      ]
     },
     "metadata": {},
     "output_type": "display_data"
    },
    {
     "data": {
      "application/javascript": "(function(root) {\n  function now() {\n    return new Date();\n  }\n\n  const force = true;\n\n  if (typeof root._bokeh_onload_callbacks === \"undefined\" || force === true) {\n    root._bokeh_onload_callbacks = [];\n    root._bokeh_is_loading = undefined;\n  }\n\nconst JS_MIME_TYPE = 'application/javascript';\n  const HTML_MIME_TYPE = 'text/html';\n  const EXEC_MIME_TYPE = 'application/vnd.bokehjs_exec.v0+json';\n  const CLASS_NAME = 'output_bokeh rendered_html';\n\n  /**\n   * Render data to the DOM node\n   */\n  function render(props, node) {\n    const script = document.createElement(\"script\");\n    node.appendChild(script);\n  }\n\n  /**\n   * Handle when an output is cleared or removed\n   */\n  function handleClearOutput(event, handle) {\n    const cell = handle.cell;\n\n    const id = cell.output_area._bokeh_element_id;\n    const server_id = cell.output_area._bokeh_server_id;\n    // Clean up Bokeh references\n    if (id != null && id in Bokeh.index) {\n      Bokeh.index[id].model.document.clear();\n      delete Bokeh.index[id];\n    }\n\n    if (server_id !== undefined) {\n      // Clean up Bokeh references\n      const cmd_clean = \"from bokeh.io.state import curstate; print(curstate().uuid_to_server['\" + server_id + \"'].get_sessions()[0].document.roots[0]._id)\";\n      cell.notebook.kernel.execute(cmd_clean, {\n        iopub: {\n          output: function(msg) {\n            const id = msg.content.text.trim();\n            if (id in Bokeh.index) {\n              Bokeh.index[id].model.document.clear();\n              delete Bokeh.index[id];\n            }\n          }\n        }\n      });\n      // Destroy server and session\n      const cmd_destroy = \"import bokeh.io.notebook as ion; ion.destroy_server('\" + server_id + \"')\";\n      cell.notebook.kernel.execute(cmd_destroy);\n    }\n  }\n\n  /**\n   * Handle when a new output is added\n   */\n  function handleAddOutput(event, handle) {\n    const output_area = handle.output_area;\n    const output = handle.output;\n\n    // limit handleAddOutput to display_data with EXEC_MIME_TYPE content only\n    if ((output.output_type != \"display_data\") || (!Object.prototype.hasOwnProperty.call(output.data, EXEC_MIME_TYPE))) {\n      return\n    }\n\n    const toinsert = output_area.element.find(\".\" + CLASS_NAME.split(' ')[0]);\n\n    if (output.metadata[EXEC_MIME_TYPE][\"id\"] !== undefined) {\n      toinsert[toinsert.length - 1].firstChild.textContent = output.data[JS_MIME_TYPE];\n      // store reference to embed id on output_area\n      output_area._bokeh_element_id = output.metadata[EXEC_MIME_TYPE][\"id\"];\n    }\n    if (output.metadata[EXEC_MIME_TYPE][\"server_id\"] !== undefined) {\n      const bk_div = document.createElement(\"div\");\n      bk_div.innerHTML = output.data[HTML_MIME_TYPE];\n      const script_attrs = bk_div.children[0].attributes;\n      for (let i = 0; i < script_attrs.length; i++) {\n        toinsert[toinsert.length - 1].firstChild.setAttribute(script_attrs[i].name, script_attrs[i].value);\n        toinsert[toinsert.length - 1].firstChild.textContent = bk_div.children[0].textContent\n      }\n      // store reference to server id on output_area\n      output_area._bokeh_server_id = output.metadata[EXEC_MIME_TYPE][\"server_id\"];\n    }\n  }\n\n  function register_renderer(events, OutputArea) {\n\n    function append_mime(data, metadata, element) {\n      // create a DOM node to render to\n      const toinsert = this.create_output_subarea(\n        metadata,\n        CLASS_NAME,\n        EXEC_MIME_TYPE\n      );\n      this.keyboard_manager.register_events(toinsert);\n      // Render to node\n      const props = {data: data, metadata: metadata[EXEC_MIME_TYPE]};\n      render(props, toinsert[toinsert.length - 1]);\n      element.append(toinsert);\n      return toinsert\n    }\n\n    /* Handle when an output is cleared or removed */\n    events.on('clear_output.CodeCell', handleClearOutput);\n    events.on('delete.Cell', handleClearOutput);\n\n    /* Handle when a new output is added */\n    events.on('output_added.OutputArea', handleAddOutput);\n\n    /**\n     * Register the mime type and append_mime function with output_area\n     */\n    OutputArea.prototype.register_mime_type(EXEC_MIME_TYPE, append_mime, {\n      /* Is output safe? */\n      safe: true,\n      /* Index of renderer in `output_area.display_order` */\n      index: 0\n    });\n  }\n\n  // register the mime type if in Jupyter Notebook environment and previously unregistered\n  if (root.Jupyter !== undefined) {\n    const events = require('base/js/events');\n    const OutputArea = require('notebook/js/outputarea').OutputArea;\n\n    if (OutputArea.prototype.mime_types().indexOf(EXEC_MIME_TYPE) == -1) {\n      register_renderer(events, OutputArea);\n    }\n  }\n  if (typeof (root._bokeh_timeout) === \"undefined\" || force === true) {\n    root._bokeh_timeout = Date.now() + 5000;\n    root._bokeh_failed_load = false;\n  }\n\n  const NB_LOAD_WARNING = {'data': {'text/html':\n     \"<div style='background-color: #fdd'>\\n\"+\n     \"<p>\\n\"+\n     \"BokehJS does not appear to have successfully loaded. If loading BokehJS from CDN, this \\n\"+\n     \"may be due to a slow or bad network connection. Possible fixes:\\n\"+\n     \"</p>\\n\"+\n     \"<ul>\\n\"+\n     \"<li>re-rerun `output_notebook()` to attempt to load from CDN again, or</li>\\n\"+\n     \"<li>use INLINE resources instead, as so:</li>\\n\"+\n     \"</ul>\\n\"+\n     \"<code>\\n\"+\n     \"from bokeh.resources import INLINE\\n\"+\n     \"output_notebook(resources=INLINE)\\n\"+\n     \"</code>\\n\"+\n     \"</div>\"}};\n\n  function display_loaded() {\n    const el = document.getElementById(\"1237\");\n    if (el != null) {\n      el.textContent = \"BokehJS is loading...\";\n    }\n    if (root.Bokeh !== undefined) {\n      if (el != null) {\n        el.textContent = \"BokehJS \" + root.Bokeh.version + \" successfully loaded.\";\n      }\n    } else if (Date.now() < root._bokeh_timeout) {\n      setTimeout(display_loaded, 100)\n    }\n  }\n\n  function run_callbacks() {\n    try {\n      root._bokeh_onload_callbacks.forEach(function(callback) {\n        if (callback != null)\n          callback();\n      });\n    } finally {\n      delete root._bokeh_onload_callbacks\n    }\n    console.debug(\"Bokeh: all callbacks have finished\");\n  }\n\n  function load_libs(css_urls, js_urls, callback) {\n    if (css_urls == null) css_urls = [];\n    if (js_urls == null) js_urls = [];\n\n    root._bokeh_onload_callbacks.push(callback);\n    if (root._bokeh_is_loading > 0) {\n      console.debug(\"Bokeh: BokehJS is being loaded, scheduling callback at\", now());\n      return null;\n    }\n    if (js_urls == null || js_urls.length === 0) {\n      run_callbacks();\n      return null;\n    }\n    console.debug(\"Bokeh: BokehJS not loaded, scheduling load and callback at\", now());\n    root._bokeh_is_loading = css_urls.length + js_urls.length;\n\n    function on_load() {\n      root._bokeh_is_loading--;\n      if (root._bokeh_is_loading === 0) {\n        console.debug(\"Bokeh: all BokehJS libraries/stylesheets loaded\");\n        run_callbacks()\n      }\n    }\n\n    function on_error(url) {\n      console.error(\"failed to load \" + url);\n    }\n\n    for (let i = 0; i < css_urls.length; i++) {\n      const url = css_urls[i];\n      const element = document.createElement(\"link\");\n      element.onload = on_load;\n      element.onerror = on_error.bind(null, url);\n      element.rel = \"stylesheet\";\n      element.type = \"text/css\";\n      element.href = url;\n      console.debug(\"Bokeh: injecting link tag for BokehJS stylesheet: \", url);\n      document.body.appendChild(element);\n    }\n\n    for (let i = 0; i < js_urls.length; i++) {\n      const url = js_urls[i];\n      const element = document.createElement('script');\n      element.onload = on_load;\n      element.onerror = on_error.bind(null, url);\n      element.async = false;\n      element.src = url;\n      console.debug(\"Bokeh: injecting script tag for BokehJS library: \", url);\n      document.head.appendChild(element);\n    }\n  };\n\n  function inject_raw_css(css) {\n    const element = document.createElement(\"style\");\n    element.appendChild(document.createTextNode(css));\n    document.body.appendChild(element);\n  }\n\n  const js_urls = [\"https://cdn.bokeh.org/bokeh/release/bokeh-2.4.3.min.js\", \"https://cdn.bokeh.org/bokeh/release/bokeh-gl-2.4.3.min.js\", \"https://cdn.bokeh.org/bokeh/release/bokeh-widgets-2.4.3.min.js\", \"https://cdn.bokeh.org/bokeh/release/bokeh-tables-2.4.3.min.js\", \"https://cdn.bokeh.org/bokeh/release/bokeh-mathjax-2.4.3.min.js\", \"https://unpkg.com/@holoviz/panel@0.13.1/dist/panel.min.js\"];\n  const css_urls = [];\n\n  const inline_js = [    function(Bokeh) {\n      Bokeh.set_log_level(\"info\");\n    },\nfunction(Bokeh) {\n    }\n  ];\n\n  function run_inline_js() {\n    if (root.Bokeh !== undefined || force === true) {\n          for (let i = 0; i < inline_js.length; i++) {\n      inline_js[i].call(root, root.Bokeh);\n    }\nif (force === true) {\n        display_loaded();\n      }} else if (Date.now() < root._bokeh_timeout) {\n      setTimeout(run_inline_js, 100);\n    } else if (!root._bokeh_failed_load) {\n      console.log(\"Bokeh: BokehJS failed to load within specified timeout.\");\n      root._bokeh_failed_load = true;\n    } else if (force !== true) {\n      const cell = $(document.getElementById(\"1237\")).parents('.cell').data().cell;\n      cell.output_area.append_execute_result(NB_LOAD_WARNING)\n    }\n  }\n\n  if (root._bokeh_is_loading === 0) {\n    console.debug(\"Bokeh: BokehJS loaded, going straight to plotting\");\n    run_inline_js();\n  } else {\n    load_libs(css_urls, js_urls, function() {\n      console.debug(\"Bokeh: BokehJS plotting callback run at\", now());\n      run_inline_js();\n    });\n  }\n}(window));",
      "application/vnd.bokehjs_load.v0+json": ""
     },
     "metadata": {},
     "output_type": "display_data"
    },
    {
     "data": {
      "text/html": [
       "\n",
       "  <div class=\"bk-root\" id=\"cd60ae46-0f87-44ba-a0bf-975448f8c528\" data-root-id=\"1003\"></div>\n"
      ]
     },
     "metadata": {},
     "output_type": "display_data"
    },
    {
     "data": {
      "application/javascript": "(function(root) {\n  function embed_document(root) {\n  const docs_json = {\"19656085-458b-440b-9475-60bd57550d36\":{\"defs\":[{\"extends\":null,\"module\":null,\"name\":\"ReactiveHTML1\",\"overrides\":[],\"properties\":[]},{\"extends\":null,\"module\":null,\"name\":\"FlexBox1\",\"overrides\":[],\"properties\":[{\"default\":\"flex-start\",\"kind\":null,\"name\":\"align_content\"},{\"default\":\"flex-start\",\"kind\":null,\"name\":\"align_items\"},{\"default\":\"row\",\"kind\":null,\"name\":\"flex_direction\"},{\"default\":\"wrap\",\"kind\":null,\"name\":\"flex_wrap\"},{\"default\":\"flex-start\",\"kind\":null,\"name\":\"justify_content\"}]},{\"extends\":null,\"module\":null,\"name\":\"GridStack1\",\"overrides\":[],\"properties\":[{\"default\":\"warn\",\"kind\":null,\"name\":\"mode\"},{\"default\":null,\"kind\":null,\"name\":\"ncols\"},{\"default\":null,\"kind\":null,\"name\":\"nrows\"},{\"default\":true,\"kind\":null,\"name\":\"allow_resize\"},{\"default\":true,\"kind\":null,\"name\":\"allow_drag\"},{\"default\":[],\"kind\":null,\"name\":\"state\"}]},{\"extends\":null,\"module\":null,\"name\":\"click1\",\"overrides\":[],\"properties\":[{\"default\":\"\",\"kind\":null,\"name\":\"terminal_output\"},{\"default\":\"\",\"kind\":null,\"name\":\"debug_name\"},{\"default\":0,\"kind\":null,\"name\":\"clears\"}]},{\"extends\":null,\"module\":null,\"name\":\"NotificationAreaBase1\",\"overrides\":[],\"properties\":[{\"default\":\"bottom-right\",\"kind\":null,\"name\":\"position\"},{\"default\":0,\"kind\":null,\"name\":\"_clear\"}]},{\"extends\":null,\"module\":null,\"name\":\"NotificationArea1\",\"overrides\":[],\"properties\":[{\"default\":[],\"kind\":null,\"name\":\"notifications\"},{\"default\":\"bottom-right\",\"kind\":null,\"name\":\"position\"},{\"default\":0,\"kind\":null,\"name\":\"_clear\"},{\"default\":[{\"background\":\"#ffc107\",\"icon\":{\"className\":\"fas fa-exclamation-triangle\",\"color\":\"white\",\"tagName\":\"i\"},\"type\":\"warning\"},{\"background\":\"#007bff\",\"icon\":{\"className\":\"fas fa-info-circle\",\"color\":\"white\",\"tagName\":\"i\"},\"type\":\"info\"}],\"kind\":null,\"name\":\"types\"}]},{\"extends\":null,\"module\":null,\"name\":\"Notification\",\"overrides\":[],\"properties\":[{\"default\":null,\"kind\":null,\"name\":\"background\"},{\"default\":3000,\"kind\":null,\"name\":\"duration\"},{\"default\":null,\"kind\":null,\"name\":\"icon\"},{\"default\":\"\",\"kind\":null,\"name\":\"message\"},{\"default\":null,\"kind\":null,\"name\":\"notification_type\"},{\"default\":false,\"kind\":null,\"name\":\"_destroyed\"}]},{\"extends\":null,\"module\":null,\"name\":\"TemplateActions1\",\"overrides\":[],\"properties\":[{\"default\":0,\"kind\":null,\"name\":\"open_modal\"},{\"default\":0,\"kind\":null,\"name\":\"close_modal\"}]},{\"extends\":null,\"module\":null,\"name\":\"MaterialTemplateActions1\",\"overrides\":[],\"properties\":[{\"default\":0,\"kind\":null,\"name\":\"open_modal\"},{\"default\":0,\"kind\":null,\"name\":\"close_modal\"}]}],\"roots\":{\"references\":[{\"attributes\":{\"below\":[{\"id\":\"1014\"}],\"center\":[{\"id\":\"1017\"},{\"id\":\"1021\"}],\"height\":800,\"left\":[{\"id\":\"1018\"}],\"renderers\":[{\"id\":\"1040\"},{\"id\":\"1179\"},{\"id\":\"1209\"}],\"title\":{\"id\":\"1004\"},\"toolbar\":{\"id\":\"1029\"},\"width\":800,\"x_range\":{\"id\":\"1006\"},\"x_scale\":{\"id\":\"1010\"},\"y_range\":{\"id\":\"1008\"},\"y_scale\":{\"id\":\"1012\"}},\"id\":\"1003\",\"subtype\":\"Figure\",\"type\":\"Plot\"},{\"attributes\":{\"fill_alpha\":{\"value\":0.2},\"fill_color\":{\"value\":\"black\"},\"hatch_alpha\":{\"value\":0.2},\"line_alpha\":{\"value\":0.2},\"line_color\":{\"value\":\"#1f77b4\"},\"x\":{\"field\":\"x\"},\"y\":{\"field\":\"y\"}},\"id\":\"1208\",\"type\":\"Circle\"},{\"attributes\":{\"mantissas\":[1,2,5],\"max_interval\":500.0,\"num_minor_ticks\":0},\"id\":\"1053\",\"type\":\"AdaptiveTicker\"},{\"attributes\":{},\"id\":\"1222\",\"type\":\"UnionRenderers\"},{\"attributes\":{\"base\":60,\"mantissas\":[1,2,5,10,15,20,30],\"max_interval\":1800000.0,\"min_interval\":1000.0,\"num_minor_ticks\":0},\"id\":\"1054\",\"type\":\"AdaptiveTicker\"},{\"attributes\":{\"line_alpha\":0.2,\"line_color\":\"red\",\"line_width\":2,\"x\":{\"field\":\"x\"},\"y\":{\"field\":\"y\"}},\"id\":\"1178\",\"type\":\"Line\"},{\"attributes\":{\"months\":[0,2,4,6,8,10]},\"id\":\"1061\",\"type\":\"MonthsTicker\"},{\"attributes\":{\"source\":{\"id\":\"1205\"}},\"id\":\"1210\",\"type\":\"CDSView\"},{\"attributes\":{\"months\":[0,1,2,3,4,5,6,7,8,9,10,11]},\"id\":\"1060\",\"type\":\"MonthsTicker\"},{\"attributes\":{\"axis\":{\"id\":\"1014\"},\"coordinates\":null,\"group\":null,\"ticker\":null},\"id\":\"1017\",\"type\":\"Grid\"},{\"attributes\":{},\"id\":\"1223\",\"type\":\"Selection\"},{\"attributes\":{\"axis_label\":\"time\",\"coordinates\":null,\"formatter\":{\"id\":\"1048\"},\"group\":null,\"major_label_policy\":{\"id\":\"1049\"},\"ticker\":{\"id\":\"1015\"}},\"id\":\"1014\",\"type\":\"DatetimeAxis\"},{\"attributes\":{\"data\":{\"x\":{\"__ndarray__\":\"AABwIB2ldkIAAFR4HaV2QgAADlQepXZCAADILx+ldkIAAKyHH6V2QgAAggsgpXZCAAA85yCldkIAAPbCIaV2QgAAsJ4ipXZCAABqeiOldkIAACRWJKV2QgAA3jElpXZCAACYDSaldkIAAFLpJqV2QgAADMUnpXZCAADGoCildkIAAIB8KaV2QgAAOlgqpXZCAAD0MyuldkIAAK4PLKV2QgAAaOsspXZCAAAixy2ldkIAANyiLqV2QgAAln4vpXZCAABQWjCldkIAAAo2MaV2QgAAxBEypXZCAAB+7TKldkIAADjJM6V2QgAAmLM0pXZCAADk0DSldkIAAFKPNaV2QgAADGs2pXZCAACkpTaldkIAAMZGN6V2QgAAgCI4pXZCAADgDDmldkIAANI4OaV2QgAAmug5pXZCAABUxDqldkIAAA6gO6V2QgAAyHs8pXZCAACCVz2ldkIAADwzPqV2QgAA9g4/pXZCAACw6j+ldkIAAGrGQKV2QgAAJKJBpXZCAADefUKldkIAAN59QqV2QgAAmFlDpXZCAABSNUSldkIAAAwRRaV2QgAAxuxFpXZCAACAyEaldkIAADqkR6V2QgAA9H9IpXZCAACuW0mldkIAABwaSqV2QgAAaDdKpXZCAABQpk2ldkIAAPa0TaV2QgAACoJOpXZCAAAeT0+ldkIAAJrhT6V2QgAAMhxQpXZCAADYKlCldkIAAPrLUKV2QgAAhDJRpXZCAAAcbVGldkIAANZIUqV2QgAAfFdSpXZCAABgr1KldkIAAFLbUqV2QgAA6hVTpXZCAACCUFOldkIAAGaoU6V2QgAA1GZUpXZCAADGklSldkIAAJwWVaV2QgAA2l9VpXZCAABymlWldkIAAB6iVqV2QgAAThdXpXZCAADKqVeldkIAALzVV6V2QgAA+h5YpXZCAABGPFildkIAAJJZWKV2QgAAhIVYpXZCAAAcwFildkIAAGjdWKV2QgAADuxYpXZCAAC0+lildkIAAJhSWaV2QgAA5G9ZpXZCAAAiuVmldkIAAG7WWaV2QgAABhFapXZCAACeS1qldkIAADaGWqV2QgAANoZapXZCAAAoslqldkIAAGb7WqV2QgAA/jVbpXZCAACWcFuldkIAAO5/XaV2QgAAxANepXZCAABOal6ldkIAADLCXqV2QgAAft9epXZCAABGj1+ldkIAADi7X6V2QgAA8pZgpXZCAACscmGldkIAAGZOYqV2QgAAICpjpXZCAADaBWSldkIAADrwZKV2QgAAEHRlpXZCAAD0y2WldkIAAK6nZqV2QgAAhCtnpXZCAABog2eldkIAAHxQaKV2QgAAIl9opXZCAADcOmmldkIAAJYWaqV2QgAALlFqpXZCAACq42qldkIAAEIea6V2QgAAZL9rpXZCAADEqWyldkIAADJobaV2QgAAfoVtpXZCAAA4YW6ldkI=\",\"dtype\":\"float64\",\"order\":\"little\",\"shape\":[136]},\"y\":{\"__ndarray__\":\"AADaQu/u2kLe3dtCzczcQry73UKrqt5CmpnfQomI4EJ3d+FCZmbiQlVV40JERORCMzPlQiIi5kIREedCAADoQu/u6ELe3elCzczqQry760KrquxCmpntQomI7kJ3d+9CZmbwQlVV8UJERPJCMzPzQiIi9EIREfVCAAD2QquqBkNVVRJDAAAeQwDQHEMAoBtDAHAaQwBAGUMAEBhDAOAWQwCwFUMAgBRDAFATQwAgEkMA8BBDAMAPQwCQDkMAYA1DADAMQwAAC0NVVQxDq6oNQwAAD0NVVRBDq6oRQwAAE0NVVRRDq6oVQwAAF0Orqg9DVVUIQwAAAUMAABFDAAAhQwAAOEMAADJDAAAyQwAA8kIAAN5CAADUQgAAtkIAAMJCAADUQgAA1EIAAMJCAACsQgAAyEIAAORCAADzQgAAAUMAAPdCAADsQgAA7EIAAOZCAADSQgAA2kIAANZCAADeQgAA8EIAAAlDAAAGQwCAA0MAAAFDAAD6QgAA9EIAAPhCAAD7QgAA/kIAAPJCAAD2QgAA9EIAAPZCAAD4QgAA/EIAAABDAADuQgAA3EIAAO5CAAAAQwAA6EIAAN5CAADUQgBA30IAgOpCAMD1QgCAAEMAIAZDAMALQwBgEUMAABdDq6oOQ1VVBkMAAPxCAAAAQwAAAkMAAPxCAAD0QgAA7EIAAORCAADcQgAA1EJVVddCq6raQgAA3kIAAN5CAADeQg==\",\"dtype\":\"float32\",\"order\":\"little\",\"shape\":[136]}},\"selected\":{\"id\":\"1191\"},\"selection_policy\":{\"id\":\"1190\"}},\"id\":\"1175\",\"type\":\"ColumnDataSource\"},{\"attributes\":{\"axis_label\":\"glocuse level\",\"coordinates\":null,\"formatter\":{\"id\":\"1045\"},\"group\":null,\"major_label_policy\":{\"id\":\"1046\"},\"ticker\":{\"id\":\"1019\"}},\"id\":\"1018\",\"type\":\"LinearAxis\"},{\"attributes\":{\"line_color\":\"red\",\"line_width\":2,\"x\":{\"field\":\"x\"},\"y\":{\"field\":\"y\"}},\"id\":\"1176\",\"type\":\"Line\"},{\"attributes\":{},\"id\":\"1027\",\"type\":\"HelpTool\"},{\"attributes\":{},\"id\":\"1026\",\"type\":\"ResetTool\"},{\"attributes\":{},\"id\":\"1045\",\"type\":\"BasicTickFormatter\"},{\"attributes\":{\"days\":[1,2,3,4,5,6,7,8,9,10,11,12,13,14,15,16,17,18,19,20,21,22,23,24,25,26,27,28,29,30,31]},\"id\":\"1056\",\"type\":\"DaysTicker\"},{\"attributes\":{\"months\":[0,6]},\"id\":\"1063\",\"type\":\"MonthsTicker\"},{\"attributes\":{},\"id\":\"1046\",\"type\":\"AllLabels\"},{\"attributes\":{\"num_minor_ticks\":5,\"tickers\":[{\"id\":\"1053\"},{\"id\":\"1054\"},{\"id\":\"1055\"},{\"id\":\"1056\"},{\"id\":\"1057\"},{\"id\":\"1058\"},{\"id\":\"1059\"},{\"id\":\"1060\"},{\"id\":\"1061\"},{\"id\":\"1062\"},{\"id\":\"1063\"},{\"id\":\"1064\"}]},\"id\":\"1015\",\"type\":\"DatetimeTicker\"},{\"attributes\":{},\"id\":\"1010\",\"type\":\"LinearScale\"},{\"attributes\":{\"coordinates\":null,\"data_source\":{\"id\":\"1175\"},\"glyph\":{\"id\":\"1176\"},\"group\":null,\"hover_glyph\":null,\"muted_glyph\":{\"id\":\"1178\"},\"nonselection_glyph\":{\"id\":\"1177\"},\"view\":{\"id\":\"1180\"}},\"id\":\"1179\",\"type\":\"GlyphRenderer\"},{\"attributes\":{},\"id\":\"1019\",\"type\":\"BasicTicker\"},{\"attributes\":{\"axis\":{\"id\":\"1018\"},\"coordinates\":null,\"dimension\":1,\"group\":null,\"ticker\":null},\"id\":\"1021\",\"type\":\"Grid\"},{\"attributes\":{\"overlay\":{\"id\":\"1028\"}},\"id\":\"1024\",\"type\":\"BoxZoomTool\"},{\"attributes\":{\"tools\":[{\"id\":\"1022\"},{\"id\":\"1023\"},{\"id\":\"1024\"},{\"id\":\"1025\"},{\"id\":\"1026\"},{\"id\":\"1027\"}]},\"id\":\"1029\",\"type\":\"Toolbar\"},{\"attributes\":{},\"id\":\"1190\",\"type\":\"UnionRenderers\"},{\"attributes\":{\"line_alpha\":0.1,\"line_color\":\"red\",\"line_width\":2,\"x\":{\"field\":\"x\"},\"y\":{\"field\":\"y\"}},\"id\":\"1177\",\"type\":\"Line\"},{\"attributes\":{\"bottom_units\":\"screen\",\"coordinates\":null,\"fill_alpha\":0.5,\"fill_color\":\"lightgrey\",\"group\":null,\"left_units\":\"screen\",\"level\":\"overlay\",\"line_alpha\":1.0,\"line_color\":\"black\",\"line_dash\":[4,4],\"line_width\":2,\"right_units\":\"screen\",\"syncable\":false,\"top_units\":\"screen\"},\"id\":\"1028\",\"type\":\"BoxAnnotation\"},{\"attributes\":{},\"id\":\"1048\",\"type\":\"DatetimeTickFormatter\"},{\"attributes\":{},\"id\":\"1191\",\"type\":\"Selection\"},{\"attributes\":{},\"id\":\"1023\",\"type\":\"WheelZoomTool\"},{\"attributes\":{\"coordinates\":null,\"data_source\":{\"id\":\"1205\"},\"glyph\":{\"id\":\"1206\"},\"group\":null,\"hover_glyph\":null,\"muted_glyph\":{\"id\":\"1208\"},\"nonselection_glyph\":{\"id\":\"1207\"},\"view\":{\"id\":\"1210\"}},\"id\":\"1209\",\"type\":\"GlyphRenderer\"},{\"attributes\":{\"months\":[0,4,8]},\"id\":\"1062\",\"type\":\"MonthsTicker\"},{\"attributes\":{\"source\":{\"id\":\"1175\"}},\"id\":\"1180\",\"type\":\"CDSView\"},{\"attributes\":{},\"id\":\"1064\",\"type\":\"YearsTicker\"},{\"attributes\":{\"fill_alpha\":{\"value\":0.1},\"fill_color\":{\"value\":\"black\"},\"hatch_alpha\":{\"value\":0.1},\"line_alpha\":{\"value\":0.1},\"line_color\":{\"value\":\"#1f77b4\"},\"x\":{\"field\":\"x\"},\"y\":{\"field\":\"y\"}},\"id\":\"1207\",\"type\":\"Circle\"},{\"attributes\":{},\"id\":\"1050\",\"type\":\"UnionRenderers\"},{\"attributes\":{},\"id\":\"1051\",\"type\":\"Selection\"},{\"attributes\":{\"line_alpha\":{\"value\":0.1},\"line_color\":{\"field\":\"line_color\"},\"line_width\":{\"value\":2},\"xs\":{\"field\":\"xs\"},\"ys\":{\"field\":\"ys\"}},\"id\":\"1038\",\"type\":\"MultiLine\"},{\"attributes\":{\"line_alpha\":{\"value\":0.2},\"line_color\":{\"field\":\"line_color\"},\"line_width\":{\"value\":2},\"xs\":{\"field\":\"xs\"},\"ys\":{\"field\":\"ys\"}},\"id\":\"1039\",\"type\":\"MultiLine\"},{\"attributes\":{\"data\":{\"x\":{\"__ndarray__\":\"AABwIB2ldkIAAFR4HaV2QgAADlQepXZCAADILx+ldkIAAKyHH6V2QgAAggsgpXZCAAA85yCldkIAAPbCIaV2QgAAsJ4ipXZCAABqeiOldkIAACRWJKV2QgAA3jElpXZCAACYDSaldkIAAFLpJqV2QgAADMUnpXZCAADGoCildkIAAIB8KaV2QgAAOlgqpXZCAAD0MyuldkIAAK4PLKV2QgAAaOsspXZCAAAixy2ldkIAANyiLqV2QgAAln4vpXZCAABQWjCldkIAAAo2MaV2QgAAxBEypXZCAAB+7TKldkIAADjJM6V2QgAAmLM0pXZCAADk0DSldkIAAFKPNaV2QgAADGs2pXZCAACkpTaldkIAAMZGN6V2QgAAgCI4pXZCAADgDDmldkIAANI4OaV2QgAAmug5pXZCAABUxDqldkIAAA6gO6V2QgAAyHs8pXZCAACCVz2ldkIAADwzPqV2QgAA9g4/pXZCAACw6j+ldkIAAGrGQKV2QgAAJKJBpXZCAADefUKldkIAAN59QqV2QgAAmFlDpXZCAABSNUSldkIAAAwRRaV2QgAAxuxFpXZCAACAyEaldkIAADqkR6V2QgAA9H9IpXZCAACuW0mldkIAABwaSqV2QgAAaDdKpXZCAABQpk2ldkIAAPa0TaV2QgAACoJOpXZCAAAeT0+ldkIAAJrhT6V2QgAAMhxQpXZCAADYKlCldkIAAPrLUKV2QgAAhDJRpXZCAAAcbVGldkIAANZIUqV2QgAAfFdSpXZCAABgr1KldkIAAFLbUqV2QgAA6hVTpXZCAACCUFOldkIAAGaoU6V2QgAA1GZUpXZCAADGklSldkIAAJwWVaV2QgAA2l9VpXZCAABymlWldkIAAB6iVqV2QgAAThdXpXZCAADKqVeldkIAALzVV6V2QgAA+h5YpXZCAABGPFildkIAAJJZWKV2QgAAhIVYpXZCAAAcwFildkIAAGjdWKV2QgAADuxYpXZCAAC0+lildkIAAJhSWaV2QgAA5G9ZpXZCAAAiuVmldkIAAG7WWaV2QgAABhFapXZCAACeS1qldkIAADaGWqV2QgAANoZapXZCAAAoslqldkIAAGb7WqV2QgAA/jVbpXZCAACWcFuldkIAAO5/XaV2QgAAxANepXZCAABOal6ldkIAADLCXqV2QgAAft9epXZCAABGj1+ldkIAADi7X6V2QgAA8pZgpXZCAACscmGldkIAAGZOYqV2QgAAICpjpXZCAADaBWSldkIAADrwZKV2QgAAEHRlpXZCAAD0y2WldkIAAK6nZqV2QgAAhCtnpXZCAABog2eldkIAAHxQaKV2QgAAIl9opXZCAADcOmmldkIAAJYWaqV2QgAALlFqpXZCAACq42qldkIAAEIea6V2QgAAZL9rpXZCAADEqWyldkIAADJobaV2QgAAfoVtpXZCAAA4YW6ldkI=\",\"dtype\":\"float64\",\"order\":\"little\",\"shape\":[136]},\"y\":{\"__ndarray__\":\"AAAAAABAW0AAAAAAAAD4fwAAAAAAAPh/AAAAAAAA+H8AAAAAAAD4fwAAAAAAAPh/AAAAAAAA+H8AAAAAAAD4fwAAAAAAAPh/AAAAAAAA+H8AAAAAAAD4fwAAAAAAAPh/AAAAAAAA+H8AAAAAAAD4fwAAAAAAAPh/AAAAAAAA+H8AAAAAAAD4fwAAAAAAAPh/AAAAAAAA+H8AAAAAAAD4fwAAAAAAAPh/AAAAAAAA+H8AAAAAAAD4fwAAAAAAAPh/AAAAAAAA+H8AAAAAAAD4fwAAAAAAAPh/AAAAAAAA+H8AAAAAAAD4fwAAAAAAAPh/AAAAAADAXkAAAAAAAAD4fwAAAAAAAPh/AAAAAADAY0AAAAAAAAD4fwAAAAAAAPh/AAAAAAAA+H8AAAAAAAD4fwAAAAAAAPh/AAAAAAAA+H8AAAAAAAD4fwAAAAAAAPh/AAAAAAAA+H8AAAAAAAD4fwAAAAAAAPh/AAAAAAAA+H8AAAAAAAD4fwAAAAAAAPh/AAAAAAAA+H8AAAAAAGBhQAAAAAAAAPh/AAAAAAAA+H8AAAAAAAD4fwAAAAAAAPh/AAAAAAAA+H8AAAAAAAD4fwAAAAAAAPh/AAAAAAAA+H8AAAAAAOBiQAAAAAAAAPh/AAAAAAAA+H8AAAAAACBgQAAAAAAAAPh/AAAAAAAgZEAAAAAAAABnQAAAAAAAQGZAAAAAAABAZkAAAAAAAEBeQAAAAAAAwFtAAAAAAACAWkAAAAAAAMBWQAAAAAAAQFhAAAAAAACAWkAAAAAAAIBaQAAAAAAAQFhAAAAAAACAVUAAAAAAAAD4fwAAAAAAgFxAAAAAAAAA+H8AAAAAACBgQAAAAAAAAPh/AAAAAACAXUAAAAAAAIBdQAAAAAAAwFxAAAAAAABAWkAAAAAAAEBbQAAAAAAAwFpAAAAAAADAW0AAAAAAAABeQAAAAAAAIGFAAAAAAADAYEAAAAAAAAD4fwAAAAAAIGBAAAAAAABAX0AAAAAAAIBeQAAAAAAAAF9AAAAAAAAA+H8AAAAAAMBfQAAAAAAAQF5AAAAAAADAXkAAAAAAAIBeQAAAAAAAAPh/AAAAAAAAX0AAAAAAAIBfQAAAAAAAAGBAAAAAAAAA+H8AAAAAAIBbQAAAAAAAAPh/AAAAAAAAYEAAAAAAAABdQAAAAAAAAPh/AAAAAACAWkAAAAAAAAD4fwAAAAAAAPh/AAAAAAAA+H8AAAAAAAD4fwAAAAAAAPh/AAAAAAAA+H8AAAAAAAD4fwAAAAAA4GJAAAAAAAAA+H8AAAAAAAD4fwAAAAAAgF9AAAAAAAAA+H8AAAAAAEBgQAAAAAAAAPh/AAAAAAAA+H8AAAAAAAD4fwAAAAAAgFxAAAAAAAAA+H8AAAAAAIBaQAAAAAAAAPh/AAAAAAAA+H8AAAAAAMBbQAAAAAAAAPh/AAAAAAAA+H8=\",\"dtype\":\"float64\",\"order\":\"little\",\"shape\":[136]}},\"selected\":{\"id\":\"1223\"},\"selection_policy\":{\"id\":\"1222\"}},\"id\":\"1205\",\"type\":\"ColumnDataSource\"},{\"attributes\":{},\"id\":\"1012\",\"type\":\"LinearScale\"},{\"attributes\":{},\"id\":\"1008\",\"type\":\"DataRange1d\"},{\"attributes\":{},\"id\":\"1025\",\"type\":\"SaveTool\"},{\"attributes\":{\"coordinates\":null,\"group\":null,\"text\":\"glocuse vs. time\"},\"id\":\"1004\",\"type\":\"Title\"},{\"attributes\":{\"base\":24,\"mantissas\":[1,2,4,6,8,12],\"max_interval\":43200000.0,\"min_interval\":3600000.0,\"num_minor_ticks\":0},\"id\":\"1055\",\"type\":\"AdaptiveTicker\"},{\"attributes\":{},\"id\":\"1006\",\"type\":\"DataRange1d\"},{\"attributes\":{},\"id\":\"1049\",\"type\":\"AllLabels\"},{\"attributes\":{},\"id\":\"1022\",\"type\":\"PanTool\"},{\"attributes\":{\"line_color\":{\"field\":\"line_color\"},\"line_width\":{\"value\":2},\"xs\":{\"field\":\"xs\"},\"ys\":{\"field\":\"ys\"}},\"id\":\"1037\",\"type\":\"MultiLine\"},{\"attributes\":{\"days\":[1,8,15,22]},\"id\":\"1058\",\"type\":\"DaysTicker\"},{\"attributes\":{\"days\":[1,15]},\"id\":\"1059\",\"type\":\"DaysTicker\"},{\"attributes\":{\"source\":{\"id\":\"1036\"}},\"id\":\"1041\",\"type\":\"CDSView\"},{\"attributes\":{\"days\":[1,4,7,10,13,16,19,22,25,28]},\"id\":\"1057\",\"type\":\"DaysTicker\"},{\"attributes\":{\"fill_color\":{\"value\":\"black\"},\"line_color\":{\"value\":\"#1f77b4\"},\"x\":{\"field\":\"x\"},\"y\":{\"field\":\"y\"}},\"id\":\"1206\",\"type\":\"Circle\"},{\"attributes\":{\"data\":{\"line_color\":[\"red\",\"black\"],\"xs\":[[1556150880000.0,1556151240000.0,1556152140000.0,1556153040000.0,1556153400000.0,1556153940000.0,1556154840000.0,1556155740000.0,1556156640000.0,1556157540000.0,1556158440000.0,1556159340000.0,1556160240000.0,1556161140000.0,1556162040000.0,1556162940000.0,1556163840000.0,1556164740000.0,1556165640000.0,1556166540000.0,1556167440000.0,1556168340000.0,1556169240000.0,1556170140000.0,1556171040000.0,1556171940000.0,1556172840000.0,1556173740000.0,1556174640000.0,1556175600000.0,1556175720000.0,1556176500000.0,1556177400000.0,1556177640000.0,1556178300000.0,1556179200000.0,1556180160000.0,1556180340000.0,1556181060000.0,1556181960000.0,1556182860000.0,1556183760000.0,1556184660000.0,1556185560000.0,1556186460000.0,1556187360000.0,1556188260000.0,1556189160000.0,1556190060000.0,1556190060000.0,1556190960000.0,1556191860000.0,1556192760000.0,1556193660000.0,1556194560000.0,1556195460000.0,1556196360000.0,1556197260000.0,1556198040000.0,1556198160000.0,1556201760000.0,1556201820000.0,1556202660000.0,1556203500000.0,1556204100000.0,1556204340000.0,1556204400000.0,1556205060000.0,1556205480000.0,1556205720000.0,1556206620000.0,1556206680000.0,1556207040000.0,1556207220000.0,1556207460000.0,1556207700000.0,1556208060000.0,1556208840000.0,1556209020000.0,1556209560000.0,1556209860000.0,1556210100000.0,1556211180000.0,1556211660000.0,1556212260000.0,1556212440000.0,1556212740000.0,1556212860000.0,1556212980000.0,1556213160000.0,1556213400000.0,1556213520000.0,1556213580000.0,1556213640000.0,1556214000000.0,1556214120000.0,1556214420000.0,1556214540000.0,1556214780000.0,1556215020000.0,1556215260000.0,1556215260000.0,1556215440000.0,1556215740000.0,1556215980000.0,1556216220000.0,1556218380000.0,1556218920000.0,1556219340000.0,1556219700000.0,1556219820000.0,1556220540000.0,1556220720000.0,1556221620000.0,1556222520000.0,1556223420000.0,1556224320000.0,1556225220000.0,1556226180000.0,1556226720000.0,1556227080000.0,1556227980000.0,1556228520000.0,1556228880000.0,1556229720000.0,1556229780000.0,1556230680000.0,1556231580000.0,1556231820000.0,1556232420000.0,1556232660000.0,1556233320000.0,1556234280000.0,1556235060000.0,1556235180000.0,1556236080000.0],[1556150880000.0,1556151240000.0,1556152140000.0,1556153040000.0,1556153400000.0,1556153940000.0,1556154840000.0,1556155740000.0,1556156640000.0,1556157540000.0,1556158440000.0,1556159340000.0,1556160240000.0,1556161140000.0,1556162040000.0,1556162940000.0,1556163840000.0,1556164740000.0,1556165640000.0,1556166540000.0,1556167440000.0,1556168340000.0,1556169240000.0,1556170140000.0,1556171040000.0,1556171940000.0,1556172840000.0,1556173740000.0,1556174640000.0,1556175600000.0,1556175720000.0,1556176500000.0,1556177400000.0,1556177640000.0,1556178300000.0,1556179200000.0,1556180160000.0,1556180340000.0,1556181060000.0,1556181960000.0,1556182860000.0,1556183760000.0,1556184660000.0,1556185560000.0,1556186460000.0,1556187360000.0,1556188260000.0,1556189160000.0,1556190060000.0,1556190060000.0,1556190960000.0,1556191860000.0,1556192760000.0,1556193660000.0,1556194560000.0,1556195460000.0,1556196360000.0,1556197260000.0,1556198040000.0,1556198160000.0,1556201760000.0,1556201820000.0,1556202660000.0,1556203500000.0,1556204100000.0,1556204340000.0,1556204400000.0,1556205060000.0,1556205480000.0,1556205720000.0,1556206620000.0,1556206680000.0,1556207040000.0,1556207220000.0,1556207460000.0,1556207700000.0,1556208060000.0,1556208840000.0,1556209020000.0,1556209560000.0,1556209860000.0,1556210100000.0,1556211180000.0,1556211660000.0,1556212260000.0,1556212440000.0,1556212740000.0,1556212860000.0,1556212980000.0,1556213160000.0,1556213400000.0,1556213520000.0,1556213580000.0,1556213640000.0,1556214000000.0,1556214120000.0,1556214420000.0,1556214540000.0,1556214780000.0,1556215020000.0,1556215260000.0,1556215260000.0,1556215440000.0,1556215740000.0,1556215980000.0,1556216220000.0,1556218380000.0,1556218920000.0,1556219340000.0,1556219700000.0,1556219820000.0,1556220540000.0,1556220720000.0,1556221620000.0,1556222520000.0,1556223420000.0,1556224320000.0,1556225220000.0,1556226180000.0,1556226720000.0,1556227080000.0,1556227980000.0,1556228520000.0,1556228880000.0,1556229720000.0,1556229780000.0,1556230680000.0,1556231580000.0,1556231820000.0,1556232420000.0,1556232660000.0,1556233320000.0,1556234280000.0,1556235060000.0,1556235180000.0,1556236080000.0]],\"ys\":[[109.0,109.46666717529297,109.93333435058594,110.4000015258789,110.86666870117188,111.33333587646484,111.80000305175781,112.26667022705078,112.73332977294922,113.19999694824219,113.66666412353516,114.13333129882812,114.5999984741211,115.06666564941406,115.53333282470703,116.0,116.46666717529297,116.93333435058594,117.4000015258789,117.86666870117188,118.33333587646484,118.80000305175781,119.26667022705078,119.73332977294922,120.19999694824219,120.66666412353516,121.13333129882812,121.5999984741211,122.06666564941406,122.53333282470703,123.0,134.6666717529297,146.3333282470703,158.0,156.8125,155.625,154.4375,153.25,152.0625,150.875,149.6875,148.5,147.3125,146.125,144.9375,143.75,142.5625,141.375,140.1875,139.0,140.3333282470703,141.6666717529297,143.0,144.3333282470703,145.6666717529297,147.0,148.3333282470703,149.6666717529297,151.0,143.6666717529297,136.3333282470703,129.0,145.0,161.0,184.0,178.0,178.0,121.0,111.0,106.0,91.0,97.0,106.0,106.0,97.0,86.0,100.0,114.0,121.5,129.0,123.5,118.0,118.0,115.0,105.0,109.0,107.0,111.0,120.0,137.0,134.0,131.5,129.0,125.0,122.0,124.0,125.5,127.0,121.0,123.0,122.0,123.0,124.0,126.0,128.0,119.0,110.0,119.0,128.0,116.0,111.0,106.0,111.625,117.25,122.875,128.5,134.125,139.75,145.375,151.0,142.6666717529297,134.3333282470703,126.0,128.0,130.0,126.0,122.0,118.0,114.0,110.0,106.0,107.66666412353516,109.33333587646484,111.0,111.0,111.0],[109.0,\"NaN\",\"NaN\",\"NaN\",\"NaN\",\"NaN\",\"NaN\",\"NaN\",\"NaN\",\"NaN\",\"NaN\",\"NaN\",\"NaN\",\"NaN\",\"NaN\",\"NaN\",\"NaN\",\"NaN\",\"NaN\",\"NaN\",\"NaN\",\"NaN\",\"NaN\",\"NaN\",\"NaN\",\"NaN\",\"NaN\",\"NaN\",\"NaN\",\"NaN\",123.0,\"NaN\",\"NaN\",158.0,\"NaN\",\"NaN\",\"NaN\",\"NaN\",\"NaN\",\"NaN\",\"NaN\",\"NaN\",\"NaN\",\"NaN\",\"NaN\",\"NaN\",\"NaN\",\"NaN\",\"NaN\",139.0,\"NaN\",\"NaN\",\"NaN\",\"NaN\",\"NaN\",\"NaN\",\"NaN\",\"NaN\",151.0,\"NaN\",\"NaN\",129.0,\"NaN\",161.0,184.0,178.0,178.0,121.0,111.0,106.0,91.0,97.0,106.0,106.0,97.0,86.0,\"NaN\",114.0,\"NaN\",129.0,\"NaN\",118.0,118.0,115.0,105.0,109.0,107.0,111.0,120.0,137.0,134.0,\"NaN\",129.0,125.0,122.0,124.0,\"NaN\",127.0,121.0,123.0,122.0,\"NaN\",124.0,126.0,128.0,\"NaN\",110.0,\"NaN\",128.0,116.0,\"NaN\",106.0,\"NaN\",\"NaN\",\"NaN\",\"NaN\",\"NaN\",\"NaN\",\"NaN\",151.0,\"NaN\",\"NaN\",126.0,\"NaN\",130.0,\"NaN\",\"NaN\",\"NaN\",114.0,\"NaN\",106.0,\"NaN\",\"NaN\",111.0,\"NaN\",\"NaN\"]]},\"selected\":{\"id\":\"1051\"},\"selection_policy\":{\"id\":\"1050\"}},\"id\":\"1036\",\"type\":\"ColumnDataSource\"},{\"attributes\":{\"coordinates\":null,\"data_source\":{\"id\":\"1036\"},\"glyph\":{\"id\":\"1037\"},\"group\":null,\"hover_glyph\":null,\"muted_glyph\":{\"id\":\"1039\"},\"nonselection_glyph\":{\"id\":\"1038\"},\"view\":{\"id\":\"1041\"}},\"id\":\"1040\",\"type\":\"GlyphRenderer\"}],\"root_ids\":[\"1003\"]},\"title\":\"Bokeh Application\",\"version\":\"2.4.3\"}};\n  const render_items = [{\"docid\":\"19656085-458b-440b-9475-60bd57550d36\",\"root_ids\":[\"1003\"],\"roots\":{\"1003\":\"cd60ae46-0f87-44ba-a0bf-975448f8c528\"}}];\n  root.Bokeh.embed.embed_items_notebook(docs_json, render_items);\n  }\n  if (root.Bokeh !== undefined) {\n    embed_document(root);\n  } else {\n    let attempts = 0;\n    const timer = setInterval(function(root) {\n      if (root.Bokeh !== undefined) {\n        clearInterval(timer);\n        embed_document(root);\n      } else {\n        attempts++;\n        if (attempts > 100) {\n          clearInterval(timer);\n          console.log(\"Bokeh: ERROR: Unable to run BokehJS code because BokehJS library is missing\");\n        }\n      }\n    }, 10, root)\n  }\n})(window);",
      "application/vnd.bokehjs_exec.v0+json": ""
     },
     "metadata": {
      "application/vnd.bokehjs_exec.v0+json": {
       "id": "1003"
      }
     },
     "output_type": "display_data"
    }
   ],
   "source": [
    "# one line plot for interpolated data and one cicle plot for original one\n",
    "\n",
    "fig.line(df['time'], df['interpolated'], line_width=2, color='red')\n",
    "fig.circle(df['time'], df['glucose'], size=4, fill_color='black')\n",
    "output_notebook()\n",
    "show(fig)"
   ]
  },
  {
   "cell_type": "markdown",
   "metadata": {},
   "source": [
    "*the red line is interpolated glocuse level and the blue circles are the original one*\n",
    "\n",
    "Here we can see that in the original glucose data set we have some points in the descreted part. \n",
    "But, because there are multiple gaps between them the bokeh's line function can not sketch those parts."
   ]
  },
  {
   "cell_type": "markdown",
   "metadata": {},
   "source": [
    "<a name='6'></a>\n",
    "## Part 6: Challenge\n",
    "\n",
    "It might even be interesting to introduce a widget in which you can select different methods to interpolate.\n",
    "1. Can you improve the interpolation by choosing an other method?\n",
    "2. Can you add an rolling mean line? \n",
    "2. Can you improve the plot by making it interactive?\n",
    "\n",
    "<a name='ex-61'></a>\n",
    "### Code your solution"
   ]
  },
  {
   "cell_type": "code",
   "execution_count": 10,
   "metadata": {},
   "outputs": [
    {
     "data": {
      "application/javascript": "(function(root) {\n  function now() {\n    return new Date();\n  }\n\n  var force = true;\n\n  if (typeof root._bokeh_onload_callbacks === \"undefined\" || force === true) {\n    root._bokeh_onload_callbacks = [];\n    root._bokeh_is_loading = undefined;\n  }\n\n  if (typeof (root._bokeh_timeout) === \"undefined\" || force === true) {\n    root._bokeh_timeout = Date.now() + 5000;\n    root._bokeh_failed_load = false;\n  }\n\n  function run_callbacks() {\n    try {\n      root._bokeh_onload_callbacks.forEach(function(callback) {\n        if (callback != null)\n          callback();\n      });\n    } finally {\n      delete root._bokeh_onload_callbacks\n    }\n    console.debug(\"Bokeh: all callbacks have finished\");\n  }\n\n  function load_libs(css_urls, js_urls, js_modules, callback) {\n    if (css_urls == null) css_urls = [];\n    if (js_urls == null) js_urls = [];\n    if (js_modules == null) js_modules = [];\n\n    root._bokeh_onload_callbacks.push(callback);\n    if (root._bokeh_is_loading > 0) {\n      console.debug(\"Bokeh: BokehJS is being loaded, scheduling callback at\", now());\n      return null;\n    }\n    if (js_urls.length === 0 && js_modules.length === 0) {\n      run_callbacks();\n      return null;\n    }\n    console.debug(\"Bokeh: BokehJS not loaded, scheduling load and callback at\", now());\n\n    function on_load() {\n      root._bokeh_is_loading--;\n      if (root._bokeh_is_loading === 0) {\n        console.debug(\"Bokeh: all BokehJS libraries/stylesheets loaded\");\n        run_callbacks()\n      }\n    }\n\n    function on_error() {\n      console.error(\"failed to load \" + url);\n    }\n\n    for (var i = 0; i < css_urls.length; i++) {\n      var url = css_urls[i];\n      const element = document.createElement(\"link\");\n      element.onload = on_load;\n      element.onerror = on_error;\n      element.rel = \"stylesheet\";\n      element.type = \"text/css\";\n      element.href = url;\n      console.debug(\"Bokeh: injecting link tag for BokehJS stylesheet: \", url);\n      document.body.appendChild(element);\n    }\n\n    var skip = [];\n    if (window.requirejs) {\n      window.requirejs.config({'packages': {}, 'paths': {'gridstack': 'https://cdn.jsdelivr.net/npm/gridstack@4.2.5/dist/gridstack-h5', 'notyf': 'https://cdn.jsdelivr.net/npm/notyf@3/notyf.min'}, 'shim': {'gridstack': {'exports': 'GridStack'}}});\n      require([\"gridstack\"], function(GridStack) {\n\twindow.GridStack = GridStack\n\ton_load()\n      })\n      require([\"notyf\"], function() {\n\ton_load()\n      })\n      root._bokeh_is_loading = css_urls.length + 2;\n    } else {\n      root._bokeh_is_loading = css_urls.length + js_urls.length + js_modules.length;\n    }    if (((window['GridStack'] !== undefined) && (!(window['GridStack'] instanceof HTMLElement))) || window.requirejs) {\n      var urls = ['https://cdn.jsdelivr.net/npm/gridstack@4.2.5/dist/gridstack-h5.js'];\n      for (var i = 0; i < urls.length; i++) {\n        skip.push(urls[i])\n      }\n    }    if (((window['Notyf'] !== undefined) && (!(window['Notyf'] instanceof HTMLElement))) || window.requirejs) {\n      var urls = ['https://cdn.jsdelivr.net/npm/notyf@3/notyf.min.js'];\n      for (var i = 0; i < urls.length; i++) {\n        skip.push(urls[i])\n      }\n    }    for (var i = 0; i < js_urls.length; i++) {\n      var url = js_urls[i];\n      if (skip.indexOf(url) >= 0) {\n\tif (!window.requirejs) {\n\t  on_load();\n\t}\n\tcontinue;\n      }\n      var element = document.createElement('script');\n      element.onload = on_load;\n      element.onerror = on_error;\n      element.async = false;\n      element.src = url;\n      console.debug(\"Bokeh: injecting script tag for BokehJS library: \", url);\n      document.head.appendChild(element);\n    }\n    for (var i = 0; i < js_modules.length; i++) {\n      var url = js_modules[i];\n      if (skip.indexOf(url) >= 0) {\n\tif (!window.requirejs) {\n\t  on_load();\n\t}\n\tcontinue;\n      }\n      var element = document.createElement('script');\n      element.onload = on_load;\n      element.onerror = on_error;\n      element.async = false;\n      element.src = url;\n      element.type = \"module\";\n      console.debug(\"Bokeh: injecting script tag for BokehJS library: \", url);\n      document.head.appendChild(element);\n    }\n    if (!js_urls.length && !js_modules.length) {\n      on_load()\n    }\n  };\n\n  function inject_raw_css(css) {\n    const element = document.createElement(\"style\");\n    element.appendChild(document.createTextNode(css));\n    document.body.appendChild(element);\n  }\n\n  var js_urls = [\"https://cdn.bokeh.org/bokeh/release/bokeh-2.4.3.min.js\", \"https://cdn.bokeh.org/bokeh/release/bokeh-gl-2.4.3.min.js\", \"https://cdn.bokeh.org/bokeh/release/bokeh-widgets-2.4.3.min.js\", \"https://cdn.bokeh.org/bokeh/release/bokeh-tables-2.4.3.min.js\", \"https://cdn.bokeh.org/bokeh/release/bokeh-mathjax-2.4.3.min.js\", \"https://cdn.jsdelivr.net/npm/notyf@3/notyf.min.js\", \"https://unpkg.com/@holoviz/panel@0.13.1/dist/panel.min.js\"];\n  var js_modules = [];\n  var css_urls = [\"https://cdn.jsdelivr.net/npm/notyf@3/notyf.min.css\", \"https://cdnjs.cloudflare.com/ajax/libs/font-awesome/5.15.1/css/all.min.css\", \"https://unpkg.com/@holoviz/panel@0.13.1/dist/css/alerts.css\", \"https://unpkg.com/@holoviz/panel@0.13.1/dist/css/card.css\", \"https://unpkg.com/@holoviz/panel@0.13.1/dist/css/dataframe.css\", \"https://unpkg.com/@holoviz/panel@0.13.1/dist/css/debugger.css\", \"https://unpkg.com/@holoviz/panel@0.13.1/dist/css/json.css\", \"https://unpkg.com/@holoviz/panel@0.13.1/dist/css/loading.css\", \"https://unpkg.com/@holoviz/panel@0.13.1/dist/css/markdown.css\", \"https://unpkg.com/@holoviz/panel@0.13.1/dist/css/widgets.css\"];\n  var inline_js = [    function(Bokeh) {\n      inject_raw_css(\"\\n    .bk.pn-loading.arcs:before {\\n      background-image: url(\\\"data:image/svg+xml;base64,PHN2ZyB4bWxucz0iaHR0cDovL3d3dy53My5vcmcvMjAwMC9zdmciIHhtbG5zOnhsaW5rPSJodHRwOi8vd3d3LnczLm9yZy8xOTk5L3hsaW5rIiBzdHlsZT0ibWFyZ2luOiBhdXRvOyBiYWNrZ3JvdW5kOiBub25lOyBkaXNwbGF5OiBibG9jazsgc2hhcGUtcmVuZGVyaW5nOiBhdXRvOyIgdmlld0JveD0iMCAwIDEwMCAxMDAiIHByZXNlcnZlQXNwZWN0UmF0aW89InhNaWRZTWlkIj4gIDxjaXJjbGUgY3g9IjUwIiBjeT0iNTAiIHI9IjMyIiBzdHJva2Utd2lkdGg9IjgiIHN0cm9rZT0iI2MzYzNjMyIgc3Ryb2tlLWRhc2hhcnJheT0iNTAuMjY1NDgyNDU3NDM2NjkgNTAuMjY1NDgyNDU3NDM2NjkiIGZpbGw9Im5vbmUiIHN0cm9rZS1saW5lY2FwPSJyb3VuZCI+ICAgIDxhbmltYXRlVHJhbnNmb3JtIGF0dHJpYnV0ZU5hbWU9InRyYW5zZm9ybSIgdHlwZT0icm90YXRlIiByZXBlYXRDb3VudD0iaW5kZWZpbml0ZSIgZHVyPSIxcyIga2V5VGltZXM9IjA7MSIgdmFsdWVzPSIwIDUwIDUwOzM2MCA1MCA1MCI+PC9hbmltYXRlVHJhbnNmb3JtPiAgPC9jaXJjbGU+PC9zdmc+\\\");\\n      background-size: auto calc(min(50%, 400px));\\n    }\\n    \");\n    },    function(Bokeh) {\n      Bokeh.set_log_level(\"info\");\n    },\nfunction(Bokeh) {} // ensure no trailing comma for IE\n  ];\n\n  function run_inline_js() {\n    if ((root.Bokeh !== undefined) || (force === true)) {\n      for (var i = 0; i < inline_js.length; i++) {\n        inline_js[i].call(root, root.Bokeh);\n      }} else if (Date.now() < root._bokeh_timeout) {\n      setTimeout(run_inline_js, 100);\n    } else if (!root._bokeh_failed_load) {\n      console.log(\"Bokeh: BokehJS failed to load within specified timeout.\");\n      root._bokeh_failed_load = true;\n    }\n  }\n\n  if (root._bokeh_is_loading === 0) {\n    console.debug(\"Bokeh: BokehJS loaded, going straight to plotting\");\n    run_inline_js();\n  } else {\n    load_libs(css_urls, js_urls, js_modules, function() {\n      console.debug(\"Bokeh: BokehJS plotting callback run at\", now());\n      run_inline_js();\n    });\n  }\n}(window));",
      "application/vnd.holoviews_load.v0+json": ""
     },
     "metadata": {},
     "output_type": "display_data"
    },
    {
     "data": {
      "application/javascript": "\nif ((window.PyViz === undefined) || (window.PyViz instanceof HTMLElement)) {\n  window.PyViz = {comms: {}, comm_status:{}, kernels:{}, receivers: {}, plot_index: []}\n}\n\n\n    function JupyterCommManager() {\n    }\n\n    JupyterCommManager.prototype.register_target = function(plot_id, comm_id, msg_handler) {\n      if (window.comm_manager || ((window.Jupyter !== undefined) && (Jupyter.notebook.kernel != null))) {\n        var comm_manager = window.comm_manager || Jupyter.notebook.kernel.comm_manager;\n        comm_manager.register_target(comm_id, function(comm) {\n          comm.on_msg(msg_handler);\n        });\n      } else if ((plot_id in window.PyViz.kernels) && (window.PyViz.kernels[plot_id])) {\n        window.PyViz.kernels[plot_id].registerCommTarget(comm_id, function(comm) {\n          comm.onMsg = msg_handler;\n        });\n      } else if (typeof google != 'undefined' && google.colab.kernel != null) {\n        google.colab.kernel.comms.registerTarget(comm_id, (comm) => {\n          var messages = comm.messages[Symbol.asyncIterator]();\n          function processIteratorResult(result) {\n            var message = result.value;\n            console.log(message)\n            var content = {data: message.data, comm_id};\n            var buffers = []\n            for (var buffer of message.buffers || []) {\n              buffers.push(new DataView(buffer))\n            }\n            var metadata = message.metadata || {};\n            var msg = {content, buffers, metadata}\n            msg_handler(msg);\n            return messages.next().then(processIteratorResult);\n          }\n          return messages.next().then(processIteratorResult);\n        })\n      }\n    }\n\n    JupyterCommManager.prototype.get_client_comm = function(plot_id, comm_id, msg_handler) {\n      if (comm_id in window.PyViz.comms) {\n        return window.PyViz.comms[comm_id];\n      } else if (window.comm_manager || ((window.Jupyter !== undefined) && (Jupyter.notebook.kernel != null))) {\n        var comm_manager = window.comm_manager || Jupyter.notebook.kernel.comm_manager;\n        var comm = comm_manager.new_comm(comm_id, {}, {}, {}, comm_id);\n        if (msg_handler) {\n          comm.on_msg(msg_handler);\n        }\n      } else if ((plot_id in window.PyViz.kernels) && (window.PyViz.kernels[plot_id])) {\n        var comm = window.PyViz.kernels[plot_id].connectToComm(comm_id);\n        comm.open();\n        if (msg_handler) {\n          comm.onMsg = msg_handler;\n        }\n      } else if (typeof google != 'undefined' && google.colab.kernel != null) {\n        var comm_promise = google.colab.kernel.comms.open(comm_id)\n        comm_promise.then((comm) => {\n          window.PyViz.comms[comm_id] = comm;\n          if (msg_handler) {\n            var messages = comm.messages[Symbol.asyncIterator]();\n            function processIteratorResult(result) {\n              var message = result.value;\n              var content = {data: message.data};\n              var metadata = message.metadata || {comm_id};\n              var msg = {content, metadata}\n              msg_handler(msg);\n              return messages.next().then(processIteratorResult);\n            }\n            return messages.next().then(processIteratorResult);\n          }\n        }) \n        var sendClosure = (data, metadata, buffers, disposeOnDone) => {\n          return comm_promise.then((comm) => {\n            comm.send(data, metadata, buffers, disposeOnDone);\n          });\n        };\n        var comm = {\n          send: sendClosure\n        };\n      }\n      window.PyViz.comms[comm_id] = comm;\n      return comm;\n    }\n    window.PyViz.comm_manager = new JupyterCommManager();\n    \n\n\nvar JS_MIME_TYPE = 'application/javascript';\nvar HTML_MIME_TYPE = 'text/html';\nvar EXEC_MIME_TYPE = 'application/vnd.holoviews_exec.v0+json';\nvar CLASS_NAME = 'output';\n\n/**\n * Render data to the DOM node\n */\nfunction render(props, node) {\n  var div = document.createElement(\"div\");\n  var script = document.createElement(\"script\");\n  node.appendChild(div);\n  node.appendChild(script);\n}\n\n/**\n * Handle when a new output is added\n */\nfunction handle_add_output(event, handle) {\n  var output_area = handle.output_area;\n  var output = handle.output;\n  if ((output.data == undefined) || (!output.data.hasOwnProperty(EXEC_MIME_TYPE))) {\n    return\n  }\n  var id = output.metadata[EXEC_MIME_TYPE][\"id\"];\n  var toinsert = output_area.element.find(\".\" + CLASS_NAME.split(' ')[0]);\n  if (id !== undefined) {\n    var nchildren = toinsert.length;\n    var html_node = toinsert[nchildren-1].children[0];\n    html_node.innerHTML = output.data[HTML_MIME_TYPE];\n    var scripts = [];\n    var nodelist = html_node.querySelectorAll(\"script\");\n    for (var i in nodelist) {\n      if (nodelist.hasOwnProperty(i)) {\n        scripts.push(nodelist[i])\n      }\n    }\n\n    scripts.forEach( function (oldScript) {\n      var newScript = document.createElement(\"script\");\n      var attrs = [];\n      var nodemap = oldScript.attributes;\n      for (var j in nodemap) {\n        if (nodemap.hasOwnProperty(j)) {\n          attrs.push(nodemap[j])\n        }\n      }\n      attrs.forEach(function(attr) { newScript.setAttribute(attr.name, attr.value) });\n      newScript.appendChild(document.createTextNode(oldScript.innerHTML));\n      oldScript.parentNode.replaceChild(newScript, oldScript);\n    });\n    if (JS_MIME_TYPE in output.data) {\n      toinsert[nchildren-1].children[1].textContent = output.data[JS_MIME_TYPE];\n    }\n    output_area._hv_plot_id = id;\n    if ((window.Bokeh !== undefined) && (id in Bokeh.index)) {\n      window.PyViz.plot_index[id] = Bokeh.index[id];\n    } else {\n      window.PyViz.plot_index[id] = null;\n    }\n  } else if (output.metadata[EXEC_MIME_TYPE][\"server_id\"] !== undefined) {\n    var bk_div = document.createElement(\"div\");\n    bk_div.innerHTML = output.data[HTML_MIME_TYPE];\n    var script_attrs = bk_div.children[0].attributes;\n    for (var i = 0; i < script_attrs.length; i++) {\n      toinsert[toinsert.length - 1].childNodes[1].setAttribute(script_attrs[i].name, script_attrs[i].value);\n    }\n    // store reference to server id on output_area\n    output_area._bokeh_server_id = output.metadata[EXEC_MIME_TYPE][\"server_id\"];\n  }\n}\n\n/**\n * Handle when an output is cleared or removed\n */\nfunction handle_clear_output(event, handle) {\n  var id = handle.cell.output_area._hv_plot_id;\n  var server_id = handle.cell.output_area._bokeh_server_id;\n  if (((id === undefined) || !(id in PyViz.plot_index)) && (server_id !== undefined)) { return; }\n  var comm = window.PyViz.comm_manager.get_client_comm(\"hv-extension-comm\", \"hv-extension-comm\", function () {});\n  if (server_id !== null) {\n    comm.send({event_type: 'server_delete', 'id': server_id});\n    return;\n  } else if (comm !== null) {\n    comm.send({event_type: 'delete', 'id': id});\n  }\n  delete PyViz.plot_index[id];\n  if ((window.Bokeh !== undefined) & (id in window.Bokeh.index)) {\n    var doc = window.Bokeh.index[id].model.document\n    doc.clear();\n    const i = window.Bokeh.documents.indexOf(doc);\n    if (i > -1) {\n      window.Bokeh.documents.splice(i, 1);\n    }\n  }\n}\n\n/**\n * Handle kernel restart event\n */\nfunction handle_kernel_cleanup(event, handle) {\n  delete PyViz.comms[\"hv-extension-comm\"];\n  window.PyViz.plot_index = {}\n}\n\n/**\n * Handle update_display_data messages\n */\nfunction handle_update_output(event, handle) {\n  handle_clear_output(event, {cell: {output_area: handle.output_area}})\n  handle_add_output(event, handle)\n}\n\nfunction register_renderer(events, OutputArea) {\n  function append_mime(data, metadata, element) {\n    // create a DOM node to render to\n    var toinsert = this.create_output_subarea(\n    metadata,\n    CLASS_NAME,\n    EXEC_MIME_TYPE\n    );\n    this.keyboard_manager.register_events(toinsert);\n    // Render to node\n    var props = {data: data, metadata: metadata[EXEC_MIME_TYPE]};\n    render(props, toinsert[0]);\n    element.append(toinsert);\n    return toinsert\n  }\n\n  events.on('output_added.OutputArea', handle_add_output);\n  events.on('output_updated.OutputArea', handle_update_output);\n  events.on('clear_output.CodeCell', handle_clear_output);\n  events.on('delete.Cell', handle_clear_output);\n  events.on('kernel_ready.Kernel', handle_kernel_cleanup);\n\n  OutputArea.prototype.register_mime_type(EXEC_MIME_TYPE, append_mime, {\n    safe: true,\n    index: 0\n  });\n}\n\nif (window.Jupyter !== undefined) {\n  try {\n    var events = require('base/js/events');\n    var OutputArea = require('notebook/js/outputarea').OutputArea;\n    if (OutputArea.prototype.mime_types().indexOf(EXEC_MIME_TYPE) == -1) {\n      register_renderer(events, OutputArea);\n    }\n  } catch(err) {\n  }\n}\n",
      "application/vnd.holoviews_load.v0+json": ""
     },
     "metadata": {},
     "output_type": "display_data"
    },
    {
     "data": {
      "text/html": [
       "<style>.bk-root, .bk-root .bk:before, .bk-root .bk:after {\n",
       "  font-family: var(--jp-ui-font-size1);\n",
       "  font-size: var(--jp-ui-font-size1);\n",
       "  color: var(--jp-ui-font-color1);\n",
       "}\n",
       "</style>"
      ]
     },
     "metadata": {},
     "output_type": "display_data"
    }
   ],
   "source": [
    "pn.extension()"
   ]
  },
  {
   "cell_type": "code",
   "execution_count": 11,
   "metadata": {},
   "outputs": [],
   "source": [
    "def renderPlot(x='linear', y='polynomial'):\n",
    "\n",
    "    df['firstInterpolation'] = df['glucose'].interpolate(method=x).astype('f')\n",
    "    df['secondInterpolation'] = df['glucose'].interpolate(method=y, order=2).astype('f')\n",
    "    label = [x,y]\n",
    "    fig = figure(title='glocuse vs. time', x_axis_type='datetime', x_axis_label='time',\n",
    "             y_axis_label='glocuse level',plot_width=800, plot_height=800)\n",
    "    xs = [df['time'], df['time']]\n",
    "    ys = [df['firstInterpolation'], df['secondInterpolation']]\n",
    "\n",
    "    fig.multi_line(xs, ys, line_width=2, tags=['label','label'],color=['red','black'])\n",
    "    fig.circle(df['time'], df['glucose'], size=4, fill_color='blue')\n",
    "\n",
    "    output_notebook()\n",
    "    show(fig)"
   ]
  },
  {
   "cell_type": "code",
   "execution_count": 12,
   "metadata": {},
   "outputs": [
    {
     "data": {
      "text/html": [
       "<div class=\"bk-root\">\n",
       "        <a href=\"https://bokeh.org\" target=\"_blank\" class=\"bk-logo bk-logo-small bk-logo-notebook\"></a>\n",
       "        <span id=\"1413\">Loading BokehJS ...</span>\n",
       "    </div>\n"
      ]
     },
     "metadata": {},
     "output_type": "display_data"
    },
    {
     "data": {
      "application/javascript": "(function(root) {\n  function now() {\n    return new Date();\n  }\n\n  const force = true;\n\n  if (typeof root._bokeh_onload_callbacks === \"undefined\" || force === true) {\n    root._bokeh_onload_callbacks = [];\n    root._bokeh_is_loading = undefined;\n  }\n\nconst JS_MIME_TYPE = 'application/javascript';\n  const HTML_MIME_TYPE = 'text/html';\n  const EXEC_MIME_TYPE = 'application/vnd.bokehjs_exec.v0+json';\n  const CLASS_NAME = 'output_bokeh rendered_html';\n\n  /**\n   * Render data to the DOM node\n   */\n  function render(props, node) {\n    const script = document.createElement(\"script\");\n    node.appendChild(script);\n  }\n\n  /**\n   * Handle when an output is cleared or removed\n   */\n  function handleClearOutput(event, handle) {\n    const cell = handle.cell;\n\n    const id = cell.output_area._bokeh_element_id;\n    const server_id = cell.output_area._bokeh_server_id;\n    // Clean up Bokeh references\n    if (id != null && id in Bokeh.index) {\n      Bokeh.index[id].model.document.clear();\n      delete Bokeh.index[id];\n    }\n\n    if (server_id !== undefined) {\n      // Clean up Bokeh references\n      const cmd_clean = \"from bokeh.io.state import curstate; print(curstate().uuid_to_server['\" + server_id + \"'].get_sessions()[0].document.roots[0]._id)\";\n      cell.notebook.kernel.execute(cmd_clean, {\n        iopub: {\n          output: function(msg) {\n            const id = msg.content.text.trim();\n            if (id in Bokeh.index) {\n              Bokeh.index[id].model.document.clear();\n              delete Bokeh.index[id];\n            }\n          }\n        }\n      });\n      // Destroy server and session\n      const cmd_destroy = \"import bokeh.io.notebook as ion; ion.destroy_server('\" + server_id + \"')\";\n      cell.notebook.kernel.execute(cmd_destroy);\n    }\n  }\n\n  /**\n   * Handle when a new output is added\n   */\n  function handleAddOutput(event, handle) {\n    const output_area = handle.output_area;\n    const output = handle.output;\n\n    // limit handleAddOutput to display_data with EXEC_MIME_TYPE content only\n    if ((output.output_type != \"display_data\") || (!Object.prototype.hasOwnProperty.call(output.data, EXEC_MIME_TYPE))) {\n      return\n    }\n\n    const toinsert = output_area.element.find(\".\" + CLASS_NAME.split(' ')[0]);\n\n    if (output.metadata[EXEC_MIME_TYPE][\"id\"] !== undefined) {\n      toinsert[toinsert.length - 1].firstChild.textContent = output.data[JS_MIME_TYPE];\n      // store reference to embed id on output_area\n      output_area._bokeh_element_id = output.metadata[EXEC_MIME_TYPE][\"id\"];\n    }\n    if (output.metadata[EXEC_MIME_TYPE][\"server_id\"] !== undefined) {\n      const bk_div = document.createElement(\"div\");\n      bk_div.innerHTML = output.data[HTML_MIME_TYPE];\n      const script_attrs = bk_div.children[0].attributes;\n      for (let i = 0; i < script_attrs.length; i++) {\n        toinsert[toinsert.length - 1].firstChild.setAttribute(script_attrs[i].name, script_attrs[i].value);\n        toinsert[toinsert.length - 1].firstChild.textContent = bk_div.children[0].textContent\n      }\n      // store reference to server id on output_area\n      output_area._bokeh_server_id = output.metadata[EXEC_MIME_TYPE][\"server_id\"];\n    }\n  }\n\n  function register_renderer(events, OutputArea) {\n\n    function append_mime(data, metadata, element) {\n      // create a DOM node to render to\n      const toinsert = this.create_output_subarea(\n        metadata,\n        CLASS_NAME,\n        EXEC_MIME_TYPE\n      );\n      this.keyboard_manager.register_events(toinsert);\n      // Render to node\n      const props = {data: data, metadata: metadata[EXEC_MIME_TYPE]};\n      render(props, toinsert[toinsert.length - 1]);\n      element.append(toinsert);\n      return toinsert\n    }\n\n    /* Handle when an output is cleared or removed */\n    events.on('clear_output.CodeCell', handleClearOutput);\n    events.on('delete.Cell', handleClearOutput);\n\n    /* Handle when a new output is added */\n    events.on('output_added.OutputArea', handleAddOutput);\n\n    /**\n     * Register the mime type and append_mime function with output_area\n     */\n    OutputArea.prototype.register_mime_type(EXEC_MIME_TYPE, append_mime, {\n      /* Is output safe? */\n      safe: true,\n      /* Index of renderer in `output_area.display_order` */\n      index: 0\n    });\n  }\n\n  // register the mime type if in Jupyter Notebook environment and previously unregistered\n  if (root.Jupyter !== undefined) {\n    const events = require('base/js/events');\n    const OutputArea = require('notebook/js/outputarea').OutputArea;\n\n    if (OutputArea.prototype.mime_types().indexOf(EXEC_MIME_TYPE) == -1) {\n      register_renderer(events, OutputArea);\n    }\n  }\n  if (typeof (root._bokeh_timeout) === \"undefined\" || force === true) {\n    root._bokeh_timeout = Date.now() + 5000;\n    root._bokeh_failed_load = false;\n  }\n\n  const NB_LOAD_WARNING = {'data': {'text/html':\n     \"<div style='background-color: #fdd'>\\n\"+\n     \"<p>\\n\"+\n     \"BokehJS does not appear to have successfully loaded. If loading BokehJS from CDN, this \\n\"+\n     \"may be due to a slow or bad network connection. Possible fixes:\\n\"+\n     \"</p>\\n\"+\n     \"<ul>\\n\"+\n     \"<li>re-rerun `output_notebook()` to attempt to load from CDN again, or</li>\\n\"+\n     \"<li>use INLINE resources instead, as so:</li>\\n\"+\n     \"</ul>\\n\"+\n     \"<code>\\n\"+\n     \"from bokeh.resources import INLINE\\n\"+\n     \"output_notebook(resources=INLINE)\\n\"+\n     \"</code>\\n\"+\n     \"</div>\"}};\n\n  function display_loaded() {\n    const el = document.getElementById(\"1413\");\n    if (el != null) {\n      el.textContent = \"BokehJS is loading...\";\n    }\n    if (root.Bokeh !== undefined) {\n      if (el != null) {\n        el.textContent = \"BokehJS \" + root.Bokeh.version + \" successfully loaded.\";\n      }\n    } else if (Date.now() < root._bokeh_timeout) {\n      setTimeout(display_loaded, 100)\n    }\n  }\n\n  function run_callbacks() {\n    try {\n      root._bokeh_onload_callbacks.forEach(function(callback) {\n        if (callback != null)\n          callback();\n      });\n    } finally {\n      delete root._bokeh_onload_callbacks\n    }\n    console.debug(\"Bokeh: all callbacks have finished\");\n  }\n\n  function load_libs(css_urls, js_urls, callback) {\n    if (css_urls == null) css_urls = [];\n    if (js_urls == null) js_urls = [];\n\n    root._bokeh_onload_callbacks.push(callback);\n    if (root._bokeh_is_loading > 0) {\n      console.debug(\"Bokeh: BokehJS is being loaded, scheduling callback at\", now());\n      return null;\n    }\n    if (js_urls == null || js_urls.length === 0) {\n      run_callbacks();\n      return null;\n    }\n    console.debug(\"Bokeh: BokehJS not loaded, scheduling load and callback at\", now());\n    root._bokeh_is_loading = css_urls.length + js_urls.length;\n\n    function on_load() {\n      root._bokeh_is_loading--;\n      if (root._bokeh_is_loading === 0) {\n        console.debug(\"Bokeh: all BokehJS libraries/stylesheets loaded\");\n        run_callbacks()\n      }\n    }\n\n    function on_error(url) {\n      console.error(\"failed to load \" + url);\n    }\n\n    for (let i = 0; i < css_urls.length; i++) {\n      const url = css_urls[i];\n      const element = document.createElement(\"link\");\n      element.onload = on_load;\n      element.onerror = on_error.bind(null, url);\n      element.rel = \"stylesheet\";\n      element.type = \"text/css\";\n      element.href = url;\n      console.debug(\"Bokeh: injecting link tag for BokehJS stylesheet: \", url);\n      document.body.appendChild(element);\n    }\n\n    for (let i = 0; i < js_urls.length; i++) {\n      const url = js_urls[i];\n      const element = document.createElement('script');\n      element.onload = on_load;\n      element.onerror = on_error.bind(null, url);\n      element.async = false;\n      element.src = url;\n      console.debug(\"Bokeh: injecting script tag for BokehJS library: \", url);\n      document.head.appendChild(element);\n    }\n  };\n\n  function inject_raw_css(css) {\n    const element = document.createElement(\"style\");\n    element.appendChild(document.createTextNode(css));\n    document.body.appendChild(element);\n  }\n\n  const js_urls = [\"https://cdn.bokeh.org/bokeh/release/bokeh-2.4.3.min.js\", \"https://cdn.bokeh.org/bokeh/release/bokeh-gl-2.4.3.min.js\", \"https://cdn.bokeh.org/bokeh/release/bokeh-widgets-2.4.3.min.js\", \"https://cdn.bokeh.org/bokeh/release/bokeh-tables-2.4.3.min.js\", \"https://cdn.bokeh.org/bokeh/release/bokeh-mathjax-2.4.3.min.js\", \"https://unpkg.com/@holoviz/panel@0.13.1/dist/panel.min.js\"];\n  const css_urls = [];\n\n  const inline_js = [    function(Bokeh) {\n      Bokeh.set_log_level(\"info\");\n    },\nfunction(Bokeh) {\n    }\n  ];\n\n  function run_inline_js() {\n    if (root.Bokeh !== undefined || force === true) {\n          for (let i = 0; i < inline_js.length; i++) {\n      inline_js[i].call(root, root.Bokeh);\n    }\nif (force === true) {\n        display_loaded();\n      }} else if (Date.now() < root._bokeh_timeout) {\n      setTimeout(run_inline_js, 100);\n    } else if (!root._bokeh_failed_load) {\n      console.log(\"Bokeh: BokehJS failed to load within specified timeout.\");\n      root._bokeh_failed_load = true;\n    } else if (force !== true) {\n      const cell = $(document.getElementById(\"1413\")).parents('.cell').data().cell;\n      cell.output_area.append_execute_result(NB_LOAD_WARNING)\n    }\n  }\n\n  if (root._bokeh_is_loading === 0) {\n    console.debug(\"Bokeh: BokehJS loaded, going straight to plotting\");\n    run_inline_js();\n  } else {\n    load_libs(css_urls, js_urls, function() {\n      console.debug(\"Bokeh: BokehJS plotting callback run at\", now());\n      run_inline_js();\n    });\n  }\n}(window));",
      "application/vnd.bokehjs_load.v0+json": ""
     },
     "metadata": {},
     "output_type": "display_data"
    },
    {
     "data": {
      "text/html": [
       "\n",
       "  <div class=\"bk-root\" id=\"b78d4e6a-30f2-49b6-b475-7cce02da275c\" data-root-id=\"1368\"></div>\n"
      ]
     },
     "metadata": {},
     "output_type": "display_data"
    },
    {
     "data": {
      "application/javascript": "(function(root) {\n  function embed_document(root) {\n  const docs_json = {\"eee54ad7-f955-4c7c-b6af-e9fdac80fae3\":{\"defs\":[{\"extends\":null,\"module\":null,\"name\":\"ReactiveHTML1\",\"overrides\":[],\"properties\":[]},{\"extends\":null,\"module\":null,\"name\":\"FlexBox1\",\"overrides\":[],\"properties\":[{\"default\":\"flex-start\",\"kind\":null,\"name\":\"align_content\"},{\"default\":\"flex-start\",\"kind\":null,\"name\":\"align_items\"},{\"default\":\"row\",\"kind\":null,\"name\":\"flex_direction\"},{\"default\":\"wrap\",\"kind\":null,\"name\":\"flex_wrap\"},{\"default\":\"flex-start\",\"kind\":null,\"name\":\"justify_content\"}]},{\"extends\":null,\"module\":null,\"name\":\"GridStack1\",\"overrides\":[],\"properties\":[{\"default\":\"warn\",\"kind\":null,\"name\":\"mode\"},{\"default\":null,\"kind\":null,\"name\":\"ncols\"},{\"default\":null,\"kind\":null,\"name\":\"nrows\"},{\"default\":true,\"kind\":null,\"name\":\"allow_resize\"},{\"default\":true,\"kind\":null,\"name\":\"allow_drag\"},{\"default\":[],\"kind\":null,\"name\":\"state\"}]},{\"extends\":null,\"module\":null,\"name\":\"click1\",\"overrides\":[],\"properties\":[{\"default\":\"\",\"kind\":null,\"name\":\"terminal_output\"},{\"default\":\"\",\"kind\":null,\"name\":\"debug_name\"},{\"default\":0,\"kind\":null,\"name\":\"clears\"}]},{\"extends\":null,\"module\":null,\"name\":\"NotificationAreaBase1\",\"overrides\":[],\"properties\":[{\"default\":\"bottom-right\",\"kind\":null,\"name\":\"position\"},{\"default\":0,\"kind\":null,\"name\":\"_clear\"}]},{\"extends\":null,\"module\":null,\"name\":\"NotificationArea1\",\"overrides\":[],\"properties\":[{\"default\":[],\"kind\":null,\"name\":\"notifications\"},{\"default\":\"bottom-right\",\"kind\":null,\"name\":\"position\"},{\"default\":0,\"kind\":null,\"name\":\"_clear\"},{\"default\":[{\"background\":\"#ffc107\",\"icon\":{\"className\":\"fas fa-exclamation-triangle\",\"color\":\"white\",\"tagName\":\"i\"},\"type\":\"warning\"},{\"background\":\"#007bff\",\"icon\":{\"className\":\"fas fa-info-circle\",\"color\":\"white\",\"tagName\":\"i\"},\"type\":\"info\"}],\"kind\":null,\"name\":\"types\"}]},{\"extends\":null,\"module\":null,\"name\":\"Notification\",\"overrides\":[],\"properties\":[{\"default\":null,\"kind\":null,\"name\":\"background\"},{\"default\":3000,\"kind\":null,\"name\":\"duration\"},{\"default\":null,\"kind\":null,\"name\":\"icon\"},{\"default\":\"\",\"kind\":null,\"name\":\"message\"},{\"default\":null,\"kind\":null,\"name\":\"notification_type\"},{\"default\":false,\"kind\":null,\"name\":\"_destroyed\"}]},{\"extends\":null,\"module\":null,\"name\":\"TemplateActions1\",\"overrides\":[],\"properties\":[{\"default\":0,\"kind\":null,\"name\":\"open_modal\"},{\"default\":0,\"kind\":null,\"name\":\"close_modal\"}]},{\"extends\":null,\"module\":null,\"name\":\"MaterialTemplateActions1\",\"overrides\":[],\"properties\":[{\"default\":0,\"kind\":null,\"name\":\"open_modal\"},{\"default\":0,\"kind\":null,\"name\":\"close_modal\"}]}],\"roots\":{\"references\":[{\"attributes\":{\"below\":[{\"id\":\"1379\"}],\"center\":[{\"id\":\"1382\"},{\"id\":\"1386\"}],\"height\":800,\"left\":[{\"id\":\"1383\"}],\"renderers\":[{\"id\":\"1405\"},{\"id\":\"1411\"}],\"title\":{\"id\":\"1369\"},\"toolbar\":{\"id\":\"1394\"},\"width\":800,\"x_range\":{\"id\":\"1371\"},\"x_scale\":{\"id\":\"1375\"},\"y_range\":{\"id\":\"1373\"},\"y_scale\":{\"id\":\"1377\"}},\"id\":\"1368\",\"subtype\":\"Figure\",\"type\":\"Plot\"},{\"attributes\":{\"mantissas\":[1,2,5],\"max_interval\":500.0,\"num_minor_ticks\":0},\"id\":\"1452\",\"type\":\"AdaptiveTicker\"},{\"attributes\":{},\"id\":\"1373\",\"type\":\"DataRange1d\"},{\"attributes\":{\"coordinates\":null,\"group\":null,\"text\":\"glocuse vs. time\"},\"id\":\"1369\",\"type\":\"Title\"},{\"attributes\":{},\"id\":\"1392\",\"type\":\"HelpTool\"},{\"attributes\":{},\"id\":\"1377\",\"type\":\"LinearScale\"},{\"attributes\":{\"line_color\":{\"field\":\"line_color\"},\"line_width\":{\"value\":2},\"tags\":[\"label\",\"label\"],\"xs\":{\"field\":\"xs\"},\"ys\":{\"field\":\"ys\"}},\"id\":\"1402\",\"type\":\"MultiLine\"},{\"attributes\":{},\"id\":\"1448\",\"type\":\"Selection\"},{\"attributes\":{\"axis\":{\"id\":\"1379\"},\"coordinates\":null,\"group\":null,\"ticker\":null},\"id\":\"1382\",\"type\":\"Grid\"},{\"attributes\":{\"base\":60,\"mantissas\":[1,2,5,10,15,20,30],\"max_interval\":1800000.0,\"min_interval\":1000.0,\"num_minor_ticks\":0},\"id\":\"1453\",\"type\":\"AdaptiveTicker\"},{\"attributes\":{},\"id\":\"1375\",\"type\":\"LinearScale\"},{\"attributes\":{\"base\":24,\"mantissas\":[1,2,4,6,8,12],\"max_interval\":43200000.0,\"min_interval\":3600000.0,\"num_minor_ticks\":0},\"id\":\"1454\",\"type\":\"AdaptiveTicker\"},{\"attributes\":{},\"id\":\"1463\",\"type\":\"YearsTicker\"},{\"attributes\":{\"axis_label\":\"time\",\"coordinates\":null,\"formatter\":{\"id\":\"1445\"},\"group\":null,\"major_label_policy\":{\"id\":\"1446\"},\"ticker\":{\"id\":\"1380\"}},\"id\":\"1379\",\"type\":\"DatetimeAxis\"},{\"attributes\":{\"months\":[0,1,2,3,4,5,6,7,8,9,10,11]},\"id\":\"1459\",\"type\":\"MonthsTicker\"},{\"attributes\":{\"data\":{\"line_color\":[\"red\",\"black\"],\"xs\":[[1556150880000.0,1556151240000.0,1556152140000.0,1556153040000.0,1556153400000.0,1556153940000.0,1556154840000.0,1556155740000.0,1556156640000.0,1556157540000.0,1556158440000.0,1556159340000.0,1556160240000.0,1556161140000.0,1556162040000.0,1556162940000.0,1556163840000.0,1556164740000.0,1556165640000.0,1556166540000.0,1556167440000.0,1556168340000.0,1556169240000.0,1556170140000.0,1556171040000.0,1556171940000.0,1556172840000.0,1556173740000.0,1556174640000.0,1556175600000.0,1556175720000.0,1556176500000.0,1556177400000.0,1556177640000.0,1556178300000.0,1556179200000.0,1556180160000.0,1556180340000.0,1556181060000.0,1556181960000.0,1556182860000.0,1556183760000.0,1556184660000.0,1556185560000.0,1556186460000.0,1556187360000.0,1556188260000.0,1556189160000.0,1556190060000.0,1556190060000.0,1556190960000.0,1556191860000.0,1556192760000.0,1556193660000.0,1556194560000.0,1556195460000.0,1556196360000.0,1556197260000.0,1556198040000.0,1556198160000.0,1556201760000.0,1556201820000.0,1556202660000.0,1556203500000.0,1556204100000.0,1556204340000.0,1556204400000.0,1556205060000.0,1556205480000.0,1556205720000.0,1556206620000.0,1556206680000.0,1556207040000.0,1556207220000.0,1556207460000.0,1556207700000.0,1556208060000.0,1556208840000.0,1556209020000.0,1556209560000.0,1556209860000.0,1556210100000.0,1556211180000.0,1556211660000.0,1556212260000.0,1556212440000.0,1556212740000.0,1556212860000.0,1556212980000.0,1556213160000.0,1556213400000.0,1556213520000.0,1556213580000.0,1556213640000.0,1556214000000.0,1556214120000.0,1556214420000.0,1556214540000.0,1556214780000.0,1556215020000.0,1556215260000.0,1556215260000.0,1556215440000.0,1556215740000.0,1556215980000.0,1556216220000.0,1556218380000.0,1556218920000.0,1556219340000.0,1556219700000.0,1556219820000.0,1556220540000.0,1556220720000.0,1556221620000.0,1556222520000.0,1556223420000.0,1556224320000.0,1556225220000.0,1556226180000.0,1556226720000.0,1556227080000.0,1556227980000.0,1556228520000.0,1556228880000.0,1556229720000.0,1556229780000.0,1556230680000.0,1556231580000.0,1556231820000.0,1556232420000.0,1556232660000.0,1556233320000.0,1556234280000.0,1556235060000.0,1556235180000.0,1556236080000.0],[1556150880000.0,1556151240000.0,1556152140000.0,1556153040000.0,1556153400000.0,1556153940000.0,1556154840000.0,1556155740000.0,1556156640000.0,1556157540000.0,1556158440000.0,1556159340000.0,1556160240000.0,1556161140000.0,1556162040000.0,1556162940000.0,1556163840000.0,1556164740000.0,1556165640000.0,1556166540000.0,1556167440000.0,1556168340000.0,1556169240000.0,1556170140000.0,1556171040000.0,1556171940000.0,1556172840000.0,1556173740000.0,1556174640000.0,1556175600000.0,1556175720000.0,1556176500000.0,1556177400000.0,1556177640000.0,1556178300000.0,1556179200000.0,1556180160000.0,1556180340000.0,1556181060000.0,1556181960000.0,1556182860000.0,1556183760000.0,1556184660000.0,1556185560000.0,1556186460000.0,1556187360000.0,1556188260000.0,1556189160000.0,1556190060000.0,1556190060000.0,1556190960000.0,1556191860000.0,1556192760000.0,1556193660000.0,1556194560000.0,1556195460000.0,1556196360000.0,1556197260000.0,1556198040000.0,1556198160000.0,1556201760000.0,1556201820000.0,1556202660000.0,1556203500000.0,1556204100000.0,1556204340000.0,1556204400000.0,1556205060000.0,1556205480000.0,1556205720000.0,1556206620000.0,1556206680000.0,1556207040000.0,1556207220000.0,1556207460000.0,1556207700000.0,1556208060000.0,1556208840000.0,1556209020000.0,1556209560000.0,1556209860000.0,1556210100000.0,1556211180000.0,1556211660000.0,1556212260000.0,1556212440000.0,1556212740000.0,1556212860000.0,1556212980000.0,1556213160000.0,1556213400000.0,1556213520000.0,1556213580000.0,1556213640000.0,1556214000000.0,1556214120000.0,1556214420000.0,1556214540000.0,1556214780000.0,1556215020000.0,1556215260000.0,1556215260000.0,1556215440000.0,1556215740000.0,1556215980000.0,1556216220000.0,1556218380000.0,1556218920000.0,1556219340000.0,1556219700000.0,1556219820000.0,1556220540000.0,1556220720000.0,1556221620000.0,1556222520000.0,1556223420000.0,1556224320000.0,1556225220000.0,1556226180000.0,1556226720000.0,1556227080000.0,1556227980000.0,1556228520000.0,1556228880000.0,1556229720000.0,1556229780000.0,1556230680000.0,1556231580000.0,1556231820000.0,1556232420000.0,1556232660000.0,1556233320000.0,1556234280000.0,1556235060000.0,1556235180000.0,1556236080000.0]],\"ys\":[[109.0,109.46666717529297,109.93333435058594,110.4000015258789,110.86666870117188,111.33333587646484,111.80000305175781,112.26667022705078,112.73332977294922,113.19999694824219,113.66666412353516,114.13333129882812,114.5999984741211,115.06666564941406,115.53333282470703,116.0,116.46666717529297,116.93333435058594,117.4000015258789,117.86666870117188,118.33333587646484,118.80000305175781,119.26667022705078,119.73332977294922,120.19999694824219,120.66666412353516,121.13333129882812,121.5999984741211,122.06666564941406,122.53333282470703,123.0,134.6666717529297,146.3333282470703,158.0,156.8125,155.625,154.4375,153.25,152.0625,150.875,149.6875,148.5,147.3125,146.125,144.9375,143.75,142.5625,141.375,140.1875,139.0,140.3333282470703,141.6666717529297,143.0,144.3333282470703,145.6666717529297,147.0,148.3333282470703,149.6666717529297,151.0,143.6666717529297,136.3333282470703,129.0,145.0,161.0,184.0,178.0,178.0,121.0,111.0,106.0,91.0,97.0,106.0,106.0,97.0,86.0,100.0,114.0,121.5,129.0,123.5,118.0,118.0,115.0,105.0,109.0,107.0,111.0,120.0,137.0,134.0,131.5,129.0,125.0,122.0,124.0,125.5,127.0,121.0,123.0,122.0,123.0,124.0,126.0,128.0,119.0,110.0,119.0,128.0,116.0,111.0,106.0,111.625,117.25,122.875,128.5,134.125,139.75,145.375,151.0,142.6666717529297,134.3333282470703,126.0,128.0,130.0,126.0,122.0,118.0,114.0,110.0,106.0,107.66666412353516,109.33333587646484,111.0,111.0,111.0],[109.0,98.66845703125,89.08162689208984,80.23949432373047,72.1420669555664,64.78934478759766,58.18132019042969,52.3180046081543,47.19939422607422,42.82548522949219,39.19628143310547,36.3117790222168,34.17198181152344,32.77688980102539,32.12649917602539,32.2208137512207,33.05983352661133,34.6435546875,36.971981048583984,40.04511260986328,43.862945556640625,48.42548370361328,53.73272705078125,59.784671783447266,66.5813217163086,74.12267303466797,82.40872955322266,91.43949127197266,101.21495819091797,111.7351303100586,123.0,135.00958251953125,147.4013214111328,158.0,166.44308471679688,172.73056030273438,176.86244201660156,178.83872985839844,178.65940856933594,176.32449340820312,171.83396911621094,165.18785095214844,158.02023315429688,151.96524047851562,147.02284240722656,143.19305419921875,140.4758758544922,138.87130737304688,138.3793487548828,139.0,140.73326110839844,143.57913208007812,147.53759765625,152.6086883544922,158.25344848632812,161.2383270263672,161.0243682861328,157.61160278320312,151.0,141.1895751953125,130.07229614257812,129.0,139.86463928222656,161.0,184.0,178.0,178.0,121.0,111.0,106.0,91.0,97.0,106.0,106.0,97.0,86.0,95.65035247802734,114.0,125.41083526611328,129.0,123.88462829589844,118.0,118.0,115.0,105.0,109.0,107.0,111.0,120.0,137.0,134.0,131.0166015625,129.0,125.0,122.0,124.0,127.39982604980469,127.0,121.0,123.0,122.0,122.35751342773438,124.0,126.0,128.0,117.95344543457031,110.0,120.3342514038086,128.0,116.0,108.08804321289062,106.0,107.51275634765625,112.6263198852539,121.34068298339844,133.65585327148438,145.3265380859375,152.1074676513672,153.9986114501953,151.0,143.1116180419922,131.8150634765625,126.0,127.14801025390625,130.0,129.29684448242188,125.03856658935547,119.26099395751953,114.0,109.25557708740234,106.0,105.2055435180664,106.8722152709961,111.0,\"NaN\",\"NaN\"]]},\"selected\":{\"id\":\"1448\"},\"selection_policy\":{\"id\":\"1447\"}},\"id\":\"1401\",\"type\":\"ColumnDataSource\"},{\"attributes\":{},\"id\":\"1449\",\"type\":\"UnionRenderers\"},{\"attributes\":{\"days\":[1,15]},\"id\":\"1458\",\"type\":\"DaysTicker\"},{\"attributes\":{},\"id\":\"1391\",\"type\":\"ResetTool\"},{\"attributes\":{\"days\":[1,2,3,4,5,6,7,8,9,10,11,12,13,14,15,16,17,18,19,20,21,22,23,24,25,26,27,28,29,30,31]},\"id\":\"1455\",\"type\":\"DaysTicker\"},{\"attributes\":{\"days\":[1,4,7,10,13,16,19,22,25,28]},\"id\":\"1456\",\"type\":\"DaysTicker\"},{\"attributes\":{\"axis_label\":\"glocuse level\",\"coordinates\":null,\"formatter\":{\"id\":\"1442\"},\"group\":null,\"major_label_policy\":{\"id\":\"1443\"},\"ticker\":{\"id\":\"1384\"}},\"id\":\"1383\",\"type\":\"LinearAxis\"},{\"attributes\":{},\"id\":\"1388\",\"type\":\"WheelZoomTool\"},{\"attributes\":{\"days\":[1,8,15,22]},\"id\":\"1457\",\"type\":\"DaysTicker\"},{\"attributes\":{\"bottom_units\":\"screen\",\"coordinates\":null,\"fill_alpha\":0.5,\"fill_color\":\"lightgrey\",\"group\":null,\"left_units\":\"screen\",\"level\":\"overlay\",\"line_alpha\":1.0,\"line_color\":\"black\",\"line_dash\":[4,4],\"line_width\":2,\"right_units\":\"screen\",\"syncable\":false,\"top_units\":\"screen\"},\"id\":\"1393\",\"type\":\"BoxAnnotation\"},{\"attributes\":{\"months\":[0,6]},\"id\":\"1462\",\"type\":\"MonthsTicker\"},{\"attributes\":{\"fill_alpha\":{\"value\":0.2},\"fill_color\":{\"value\":\"blue\"},\"hatch_alpha\":{\"value\":0.2},\"line_alpha\":{\"value\":0.2},\"line_color\":{\"value\":\"#1f77b4\"},\"x\":{\"field\":\"x\"},\"y\":{\"field\":\"y\"}},\"id\":\"1410\",\"type\":\"Circle\"},{\"attributes\":{},\"id\":\"1387\",\"type\":\"PanTool\"},{\"attributes\":{\"months\":[0,2,4,6,8,10]},\"id\":\"1460\",\"type\":\"MonthsTicker\"},{\"attributes\":{\"num_minor_ticks\":5,\"tickers\":[{\"id\":\"1452\"},{\"id\":\"1453\"},{\"id\":\"1454\"},{\"id\":\"1455\"},{\"id\":\"1456\"},{\"id\":\"1457\"},{\"id\":\"1458\"},{\"id\":\"1459\"},{\"id\":\"1460\"},{\"id\":\"1461\"},{\"id\":\"1462\"},{\"id\":\"1463\"}]},\"id\":\"1380\",\"type\":\"DatetimeTicker\"},{\"attributes\":{\"line_alpha\":{\"value\":0.1},\"line_color\":{\"field\":\"line_color\"},\"line_width\":{\"value\":2},\"tags\":[\"label\",\"label\"],\"xs\":{\"field\":\"xs\"},\"ys\":{\"field\":\"ys\"}},\"id\":\"1403\",\"type\":\"MultiLine\"},{\"attributes\":{\"overlay\":{\"id\":\"1393\"}},\"id\":\"1389\",\"type\":\"BoxZoomTool\"},{\"attributes\":{\"months\":[0,4,8]},\"id\":\"1461\",\"type\":\"MonthsTicker\"},{\"attributes\":{\"line_alpha\":{\"value\":0.2},\"line_color\":{\"field\":\"line_color\"},\"line_width\":{\"value\":2},\"tags\":[\"label\",\"label\"],\"xs\":{\"field\":\"xs\"},\"ys\":{\"field\":\"ys\"}},\"id\":\"1404\",\"type\":\"MultiLine\"},{\"attributes\":{},\"id\":\"1450\",\"type\":\"Selection\"},{\"attributes\":{\"axis\":{\"id\":\"1383\"},\"coordinates\":null,\"dimension\":1,\"group\":null,\"ticker\":null},\"id\":\"1386\",\"type\":\"Grid\"},{\"attributes\":{\"coordinates\":null,\"data_source\":{\"id\":\"1401\"},\"glyph\":{\"id\":\"1402\"},\"group\":null,\"hover_glyph\":null,\"muted_glyph\":{\"id\":\"1404\"},\"nonselection_glyph\":{\"id\":\"1403\"},\"view\":{\"id\":\"1406\"}},\"id\":\"1405\",\"type\":\"GlyphRenderer\"},{\"attributes\":{},\"id\":\"1442\",\"type\":\"BasicTickFormatter\"},{\"attributes\":{\"fill_color\":{\"value\":\"blue\"},\"line_color\":{\"value\":\"#1f77b4\"},\"x\":{\"field\":\"x\"},\"y\":{\"field\":\"y\"}},\"id\":\"1408\",\"type\":\"Circle\"},{\"attributes\":{\"source\":{\"id\":\"1401\"}},\"id\":\"1406\",\"type\":\"CDSView\"},{\"attributes\":{\"data\":{\"x\":{\"__ndarray__\":\"AABwIB2ldkIAAFR4HaV2QgAADlQepXZCAADILx+ldkIAAKyHH6V2QgAAggsgpXZCAAA85yCldkIAAPbCIaV2QgAAsJ4ipXZCAABqeiOldkIAACRWJKV2QgAA3jElpXZCAACYDSaldkIAAFLpJqV2QgAADMUnpXZCAADGoCildkIAAIB8KaV2QgAAOlgqpXZCAAD0MyuldkIAAK4PLKV2QgAAaOsspXZCAAAixy2ldkIAANyiLqV2QgAAln4vpXZCAABQWjCldkIAAAo2MaV2QgAAxBEypXZCAAB+7TKldkIAADjJM6V2QgAAmLM0pXZCAADk0DSldkIAAFKPNaV2QgAADGs2pXZCAACkpTaldkIAAMZGN6V2QgAAgCI4pXZCAADgDDmldkIAANI4OaV2QgAAmug5pXZCAABUxDqldkIAAA6gO6V2QgAAyHs8pXZCAACCVz2ldkIAADwzPqV2QgAA9g4/pXZCAACw6j+ldkIAAGrGQKV2QgAAJKJBpXZCAADefUKldkIAAN59QqV2QgAAmFlDpXZCAABSNUSldkIAAAwRRaV2QgAAxuxFpXZCAACAyEaldkIAADqkR6V2QgAA9H9IpXZCAACuW0mldkIAABwaSqV2QgAAaDdKpXZCAABQpk2ldkIAAPa0TaV2QgAACoJOpXZCAAAeT0+ldkIAAJrhT6V2QgAAMhxQpXZCAADYKlCldkIAAPrLUKV2QgAAhDJRpXZCAAAcbVGldkIAANZIUqV2QgAAfFdSpXZCAABgr1KldkIAAFLbUqV2QgAA6hVTpXZCAACCUFOldkIAAGaoU6V2QgAA1GZUpXZCAADGklSldkIAAJwWVaV2QgAA2l9VpXZCAABymlWldkIAAB6iVqV2QgAAThdXpXZCAADKqVeldkIAALzVV6V2QgAA+h5YpXZCAABGPFildkIAAJJZWKV2QgAAhIVYpXZCAAAcwFildkIAAGjdWKV2QgAADuxYpXZCAAC0+lildkIAAJhSWaV2QgAA5G9ZpXZCAAAiuVmldkIAAG7WWaV2QgAABhFapXZCAACeS1qldkIAADaGWqV2QgAANoZapXZCAAAoslqldkIAAGb7WqV2QgAA/jVbpXZCAACWcFuldkIAAO5/XaV2QgAAxANepXZCAABOal6ldkIAADLCXqV2QgAAft9epXZCAABGj1+ldkIAADi7X6V2QgAA8pZgpXZCAACscmGldkIAAGZOYqV2QgAAICpjpXZCAADaBWSldkIAADrwZKV2QgAAEHRlpXZCAAD0y2WldkIAAK6nZqV2QgAAhCtnpXZCAABog2eldkIAAHxQaKV2QgAAIl9opXZCAADcOmmldkIAAJYWaqV2QgAALlFqpXZCAACq42qldkIAAEIea6V2QgAAZL9rpXZCAADEqWyldkIAADJobaV2QgAAfoVtpXZCAAA4YW6ldkI=\",\"dtype\":\"float64\",\"order\":\"little\",\"shape\":[136]},\"y\":{\"__ndarray__\":\"AAAAAABAW0AAAAAAAAD4fwAAAAAAAPh/AAAAAAAA+H8AAAAAAAD4fwAAAAAAAPh/AAAAAAAA+H8AAAAAAAD4fwAAAAAAAPh/AAAAAAAA+H8AAAAAAAD4fwAAAAAAAPh/AAAAAAAA+H8AAAAAAAD4fwAAAAAAAPh/AAAAAAAA+H8AAAAAAAD4fwAAAAAAAPh/AAAAAAAA+H8AAAAAAAD4fwAAAAAAAPh/AAAAAAAA+H8AAAAAAAD4fwAAAAAAAPh/AAAAAAAA+H8AAAAAAAD4fwAAAAAAAPh/AAAAAAAA+H8AAAAAAAD4fwAAAAAAAPh/AAAAAADAXkAAAAAAAAD4fwAAAAAAAPh/AAAAAADAY0AAAAAAAAD4fwAAAAAAAPh/AAAAAAAA+H8AAAAAAAD4fwAAAAAAAPh/AAAAAAAA+H8AAAAAAAD4fwAAAAAAAPh/AAAAAAAA+H8AAAAAAAD4fwAAAAAAAPh/AAAAAAAA+H8AAAAAAAD4fwAAAAAAAPh/AAAAAAAA+H8AAAAAAGBhQAAAAAAAAPh/AAAAAAAA+H8AAAAAAAD4fwAAAAAAAPh/AAAAAAAA+H8AAAAAAAD4fwAAAAAAAPh/AAAAAAAA+H8AAAAAAOBiQAAAAAAAAPh/AAAAAAAA+H8AAAAAACBgQAAAAAAAAPh/AAAAAAAgZEAAAAAAAABnQAAAAAAAQGZAAAAAAABAZkAAAAAAAEBeQAAAAAAAwFtAAAAAAACAWkAAAAAAAMBWQAAAAAAAQFhAAAAAAACAWkAAAAAAAIBaQAAAAAAAQFhAAAAAAACAVUAAAAAAAAD4fwAAAAAAgFxAAAAAAAAA+H8AAAAAACBgQAAAAAAAAPh/AAAAAACAXUAAAAAAAIBdQAAAAAAAwFxAAAAAAABAWkAAAAAAAEBbQAAAAAAAwFpAAAAAAADAW0AAAAAAAABeQAAAAAAAIGFAAAAAAADAYEAAAAAAAAD4fwAAAAAAIGBAAAAAAABAX0AAAAAAAIBeQAAAAAAAAF9AAAAAAAAA+H8AAAAAAMBfQAAAAAAAQF5AAAAAAADAXkAAAAAAAIBeQAAAAAAAAPh/AAAAAAAAX0AAAAAAAIBfQAAAAAAAAGBAAAAAAAAA+H8AAAAAAIBbQAAAAAAAAPh/AAAAAAAAYEAAAAAAAABdQAAAAAAAAPh/AAAAAACAWkAAAAAAAAD4fwAAAAAAAPh/AAAAAAAA+H8AAAAAAAD4fwAAAAAAAPh/AAAAAAAA+H8AAAAAAAD4fwAAAAAA4GJAAAAAAAAA+H8AAAAAAAD4fwAAAAAAgF9AAAAAAAAA+H8AAAAAAEBgQAAAAAAAAPh/AAAAAAAA+H8AAAAAAAD4fwAAAAAAgFxAAAAAAAAA+H8AAAAAAIBaQAAAAAAAAPh/AAAAAAAA+H8AAAAAAMBbQAAAAAAAAPh/AAAAAAAA+H8=\",\"dtype\":\"float64\",\"order\":\"little\",\"shape\":[136]}},\"selected\":{\"id\":\"1450\"},\"selection_policy\":{\"id\":\"1449\"}},\"id\":\"1407\",\"type\":\"ColumnDataSource\"},{\"attributes\":{},\"id\":\"1384\",\"type\":\"BasicTicker\"},{\"attributes\":{},\"id\":\"1443\",\"type\":\"AllLabels\"},{\"attributes\":{\"coordinates\":null,\"data_source\":{\"id\":\"1407\"},\"glyph\":{\"id\":\"1408\"},\"group\":null,\"hover_glyph\":null,\"muted_glyph\":{\"id\":\"1410\"},\"nonselection_glyph\":{\"id\":\"1409\"},\"view\":{\"id\":\"1412\"}},\"id\":\"1411\",\"type\":\"GlyphRenderer\"},{\"attributes\":{},\"id\":\"1390\",\"type\":\"SaveTool\"},{\"attributes\":{\"source\":{\"id\":\"1407\"}},\"id\":\"1412\",\"type\":\"CDSView\"},{\"attributes\":{},\"id\":\"1445\",\"type\":\"DatetimeTickFormatter\"},{\"attributes\":{\"fill_alpha\":{\"value\":0.1},\"fill_color\":{\"value\":\"blue\"},\"hatch_alpha\":{\"value\":0.1},\"line_alpha\":{\"value\":0.1},\"line_color\":{\"value\":\"#1f77b4\"},\"x\":{\"field\":\"x\"},\"y\":{\"field\":\"y\"}},\"id\":\"1409\",\"type\":\"Circle\"},{\"attributes\":{},\"id\":\"1446\",\"type\":\"AllLabels\"},{\"attributes\":{\"tools\":[{\"id\":\"1387\"},{\"id\":\"1388\"},{\"id\":\"1389\"},{\"id\":\"1390\"},{\"id\":\"1391\"},{\"id\":\"1392\"}]},\"id\":\"1394\",\"type\":\"Toolbar\"},{\"attributes\":{},\"id\":\"1371\",\"type\":\"DataRange1d\"},{\"attributes\":{},\"id\":\"1447\",\"type\":\"UnionRenderers\"}],\"root_ids\":[\"1368\"]},\"title\":\"Bokeh Application\",\"version\":\"2.4.3\"}};\n  const render_items = [{\"docid\":\"eee54ad7-f955-4c7c-b6af-e9fdac80fae3\",\"root_ids\":[\"1368\"],\"roots\":{\"1368\":\"b78d4e6a-30f2-49b6-b475-7cce02da275c\"}}];\n  root.Bokeh.embed.embed_items_notebook(docs_json, render_items);\n  }\n  if (root.Bokeh !== undefined) {\n    embed_document(root);\n  } else {\n    let attempts = 0;\n    const timer = setInterval(function(root) {\n      if (root.Bokeh !== undefined) {\n        clearInterval(timer);\n        embed_document(root);\n      } else {\n        attempts++;\n        if (attempts > 100) {\n          clearInterval(timer);\n          console.log(\"Bokeh: ERROR: Unable to run BokehJS code because BokehJS library is missing\");\n        }\n      }\n    }, 10, root)\n  }\n})(window);",
      "application/vnd.bokehjs_exec.v0+json": ""
     },
     "metadata": {
      "application/vnd.bokehjs_exec.v0+json": {
       "id": "1368"
      }
     },
     "output_type": "display_data"
    },
    {
     "data": {
      "application/vnd.jupyter.widget-view+json": {
       "model_id": "9f23bb8db08c4993b23b0a04519651a8",
       "version_major": 2,
       "version_minor": 0
      },
      "text/plain": [
       "BokehModel(combine_events=True, render_bundle={'docs_json': {'35e4011f-1bbe-4300-a01a-7a31e3a539a6': {'defs': …"
      ]
     },
     "metadata": {},
     "output_type": "display_data"
    },
    {
     "data": {
      "text/html": [
       "<div style=\"display: none\"></div>"
      ],
      "text/plain": [
       "Column\n",
       "    [0] Column\n",
       "        [0] Select(name='x', options=['linear', 'akima', ...], value='linear')\n",
       "        [1] Select(name='y', options=['linear', 'akima', ...], value='polynomial')\n",
       "    [1] Row\n",
       "        [0] Str(None, name='interactive00101')"
      ]
     },
     "execution_count": 12,
     "metadata": {},
     "output_type": "execute_result"
    },
    {
     "name": "stdout",
     "output_type": "stream",
     "text": [
      "Callback failed for object named \"x\" changing property {'value': 'polynomial'} \n",
      "Traceback (most recent call last):\n",
      "  File \"c:\\Anaconda3\\lib\\site-packages\\panel\\reactive.py\", line 315, in _process_events\n",
      "    self.param.update(**self_events)\n",
      "  File \"c:\\Anaconda3\\lib\\site-packages\\param\\parameterized.py\", line 1877, in update\n",
      "    self_._batch_call_watchers()\n",
      "  File \"c:\\Anaconda3\\lib\\site-packages\\param\\parameterized.py\", line 2038, in _batch_call_watchers\n",
      "    self_._execute_watcher(watcher, events)\n",
      "  File \"c:\\Anaconda3\\lib\\site-packages\\param\\parameterized.py\", line 2000, in _execute_watcher\n",
      "    watcher.fn(*args, **kwargs)\n",
      "  File \"c:\\Anaconda3\\lib\\site-packages\\panel\\interact.py\", line 188, in update_pane\n",
      "    new_object = self.object(**self.kwargs)\n",
      "  File \"C:\\Users\\Parsian computer\\AppData\\Local\\Temp\\ipykernel_2296\\3326979270.py\", line 3, in renderPlot\n",
      "    df['firstInterpolation'] = df['glucose'].interpolate(method=x).astype('f')\n",
      "  File \"c:\\Anaconda3\\lib\\site-packages\\pandas\\util\\_decorators.py\", line 311, in wrapper\n",
      "    return func(*args, **kwargs)\n",
      "  File \"c:\\Anaconda3\\lib\\site-packages\\pandas\\core\\series.py\", line 5545, in interpolate\n",
      "    return super().interpolate(\n",
      "  File \"c:\\Anaconda3\\lib\\site-packages\\pandas\\core\\generic.py\", line 7041, in interpolate\n",
      "    new_data = obj._mgr.interpolate(\n",
      "  File \"c:\\Anaconda3\\lib\\site-packages\\pandas\\core\\internals\\managers.py\", line 359, in interpolate\n",
      "    return self.apply(\"interpolate\", **kwargs)\n",
      "  File \"c:\\Anaconda3\\lib\\site-packages\\pandas\\core\\internals\\managers.py\", line 304, in apply\n",
      "    applied = getattr(b, f)(**kwargs)\n",
      "  File \"c:\\Anaconda3\\lib\\site-packages\\pandas\\core\\internals\\blocks.py\", line 1101, in interpolate\n",
      "    missing.interpolate_array_2d(\n",
      "  File \"c:\\Anaconda3\\lib\\site-packages\\pandas\\core\\missing.py\", line 249, in interpolate_array_2d\n",
      "    _interpolate_2d_with_fill(\n",
      "  File \"c:\\Anaconda3\\lib\\site-packages\\pandas\\core\\missing.py\", line 285, in _interpolate_2d_with_fill\n",
      "    clean_interp_method(method, index, **kwargs)\n",
      "  File \"c:\\Anaconda3\\lib\\site-packages\\pandas\\core\\missing.py\", line 157, in clean_interp_method\n",
      "    raise ValueError(\"You must specify the order of the spline or polynomial.\")\n",
      "ValueError: You must specify the order of the spline or polynomial.\n"
     ]
    },
    {
     "data": {
      "text/html": [
       "<div class=\"bk-root\">\n",
       "        <a href=\"https://bokeh.org\" target=\"_blank\" class=\"bk-logo bk-logo-small bk-logo-notebook\"></a>\n",
       "        <span id=\"1635\">Loading BokehJS ...</span>\n",
       "    </div>\n"
      ]
     },
     "metadata": {},
     "output_type": "display_data"
    },
    {
     "data": {
      "application/javascript": "(function(root) {\n  function now() {\n    return new Date();\n  }\n\n  const force = true;\n\n  if (typeof root._bokeh_onload_callbacks === \"undefined\" || force === true) {\n    root._bokeh_onload_callbacks = [];\n    root._bokeh_is_loading = undefined;\n  }\n\nconst JS_MIME_TYPE = 'application/javascript';\n  const HTML_MIME_TYPE = 'text/html';\n  const EXEC_MIME_TYPE = 'application/vnd.bokehjs_exec.v0+json';\n  const CLASS_NAME = 'output_bokeh rendered_html';\n\n  /**\n   * Render data to the DOM node\n   */\n  function render(props, node) {\n    const script = document.createElement(\"script\");\n    node.appendChild(script);\n  }\n\n  /**\n   * Handle when an output is cleared or removed\n   */\n  function handleClearOutput(event, handle) {\n    const cell = handle.cell;\n\n    const id = cell.output_area._bokeh_element_id;\n    const server_id = cell.output_area._bokeh_server_id;\n    // Clean up Bokeh references\n    if (id != null && id in Bokeh.index) {\n      Bokeh.index[id].model.document.clear();\n      delete Bokeh.index[id];\n    }\n\n    if (server_id !== undefined) {\n      // Clean up Bokeh references\n      const cmd_clean = \"from bokeh.io.state import curstate; print(curstate().uuid_to_server['\" + server_id + \"'].get_sessions()[0].document.roots[0]._id)\";\n      cell.notebook.kernel.execute(cmd_clean, {\n        iopub: {\n          output: function(msg) {\n            const id = msg.content.text.trim();\n            if (id in Bokeh.index) {\n              Bokeh.index[id].model.document.clear();\n              delete Bokeh.index[id];\n            }\n          }\n        }\n      });\n      // Destroy server and session\n      const cmd_destroy = \"import bokeh.io.notebook as ion; ion.destroy_server('\" + server_id + \"')\";\n      cell.notebook.kernel.execute(cmd_destroy);\n    }\n  }\n\n  /**\n   * Handle when a new output is added\n   */\n  function handleAddOutput(event, handle) {\n    const output_area = handle.output_area;\n    const output = handle.output;\n\n    // limit handleAddOutput to display_data with EXEC_MIME_TYPE content only\n    if ((output.output_type != \"display_data\") || (!Object.prototype.hasOwnProperty.call(output.data, EXEC_MIME_TYPE))) {\n      return\n    }\n\n    const toinsert = output_area.element.find(\".\" + CLASS_NAME.split(' ')[0]);\n\n    if (output.metadata[EXEC_MIME_TYPE][\"id\"] !== undefined) {\n      toinsert[toinsert.length - 1].firstChild.textContent = output.data[JS_MIME_TYPE];\n      // store reference to embed id on output_area\n      output_area._bokeh_element_id = output.metadata[EXEC_MIME_TYPE][\"id\"];\n    }\n    if (output.metadata[EXEC_MIME_TYPE][\"server_id\"] !== undefined) {\n      const bk_div = document.createElement(\"div\");\n      bk_div.innerHTML = output.data[HTML_MIME_TYPE];\n      const script_attrs = bk_div.children[0].attributes;\n      for (let i = 0; i < script_attrs.length; i++) {\n        toinsert[toinsert.length - 1].firstChild.setAttribute(script_attrs[i].name, script_attrs[i].value);\n        toinsert[toinsert.length - 1].firstChild.textContent = bk_div.children[0].textContent\n      }\n      // store reference to server id on output_area\n      output_area._bokeh_server_id = output.metadata[EXEC_MIME_TYPE][\"server_id\"];\n    }\n  }\n\n  function register_renderer(events, OutputArea) {\n\n    function append_mime(data, metadata, element) {\n      // create a DOM node to render to\n      const toinsert = this.create_output_subarea(\n        metadata,\n        CLASS_NAME,\n        EXEC_MIME_TYPE\n      );\n      this.keyboard_manager.register_events(toinsert);\n      // Render to node\n      const props = {data: data, metadata: metadata[EXEC_MIME_TYPE]};\n      render(props, toinsert[toinsert.length - 1]);\n      element.append(toinsert);\n      return toinsert\n    }\n\n    /* Handle when an output is cleared or removed */\n    events.on('clear_output.CodeCell', handleClearOutput);\n    events.on('delete.Cell', handleClearOutput);\n\n    /* Handle when a new output is added */\n    events.on('output_added.OutputArea', handleAddOutput);\n\n    /**\n     * Register the mime type and append_mime function with output_area\n     */\n    OutputArea.prototype.register_mime_type(EXEC_MIME_TYPE, append_mime, {\n      /* Is output safe? */\n      safe: true,\n      /* Index of renderer in `output_area.display_order` */\n      index: 0\n    });\n  }\n\n  // register the mime type if in Jupyter Notebook environment and previously unregistered\n  if (root.Jupyter !== undefined) {\n    const events = require('base/js/events');\n    const OutputArea = require('notebook/js/outputarea').OutputArea;\n\n    if (OutputArea.prototype.mime_types().indexOf(EXEC_MIME_TYPE) == -1) {\n      register_renderer(events, OutputArea);\n    }\n  }\n  if (typeof (root._bokeh_timeout) === \"undefined\" || force === true) {\n    root._bokeh_timeout = Date.now() + 5000;\n    root._bokeh_failed_load = false;\n  }\n\n  const NB_LOAD_WARNING = {'data': {'text/html':\n     \"<div style='background-color: #fdd'>\\n\"+\n     \"<p>\\n\"+\n     \"BokehJS does not appear to have successfully loaded. If loading BokehJS from CDN, this \\n\"+\n     \"may be due to a slow or bad network connection. Possible fixes:\\n\"+\n     \"</p>\\n\"+\n     \"<ul>\\n\"+\n     \"<li>re-rerun `output_notebook()` to attempt to load from CDN again, or</li>\\n\"+\n     \"<li>use INLINE resources instead, as so:</li>\\n\"+\n     \"</ul>\\n\"+\n     \"<code>\\n\"+\n     \"from bokeh.resources import INLINE\\n\"+\n     \"output_notebook(resources=INLINE)\\n\"+\n     \"</code>\\n\"+\n     \"</div>\"}};\n\n  function display_loaded() {\n    const el = document.getElementById(\"1635\");\n    if (el != null) {\n      el.textContent = \"BokehJS is loading...\";\n    }\n    if (root.Bokeh !== undefined) {\n      if (el != null) {\n        el.textContent = \"BokehJS \" + root.Bokeh.version + \" successfully loaded.\";\n      }\n    } else if (Date.now() < root._bokeh_timeout) {\n      setTimeout(display_loaded, 100)\n    }\n  }\n\n  function run_callbacks() {\n    try {\n      root._bokeh_onload_callbacks.forEach(function(callback) {\n        if (callback != null)\n          callback();\n      });\n    } finally {\n      delete root._bokeh_onload_callbacks\n    }\n    console.debug(\"Bokeh: all callbacks have finished\");\n  }\n\n  function load_libs(css_urls, js_urls, callback) {\n    if (css_urls == null) css_urls = [];\n    if (js_urls == null) js_urls = [];\n\n    root._bokeh_onload_callbacks.push(callback);\n    if (root._bokeh_is_loading > 0) {\n      console.debug(\"Bokeh: BokehJS is being loaded, scheduling callback at\", now());\n      return null;\n    }\n    if (js_urls == null || js_urls.length === 0) {\n      run_callbacks();\n      return null;\n    }\n    console.debug(\"Bokeh: BokehJS not loaded, scheduling load and callback at\", now());\n    root._bokeh_is_loading = css_urls.length + js_urls.length;\n\n    function on_load() {\n      root._bokeh_is_loading--;\n      if (root._bokeh_is_loading === 0) {\n        console.debug(\"Bokeh: all BokehJS libraries/stylesheets loaded\");\n        run_callbacks()\n      }\n    }\n\n    function on_error(url) {\n      console.error(\"failed to load \" + url);\n    }\n\n    for (let i = 0; i < css_urls.length; i++) {\n      const url = css_urls[i];\n      const element = document.createElement(\"link\");\n      element.onload = on_load;\n      element.onerror = on_error.bind(null, url);\n      element.rel = \"stylesheet\";\n      element.type = \"text/css\";\n      element.href = url;\n      console.debug(\"Bokeh: injecting link tag for BokehJS stylesheet: \", url);\n      document.body.appendChild(element);\n    }\n\n    for (let i = 0; i < js_urls.length; i++) {\n      const url = js_urls[i];\n      const element = document.createElement('script');\n      element.onload = on_load;\n      element.onerror = on_error.bind(null, url);\n      element.async = false;\n      element.src = url;\n      console.debug(\"Bokeh: injecting script tag for BokehJS library: \", url);\n      document.head.appendChild(element);\n    }\n  };\n\n  function inject_raw_css(css) {\n    const element = document.createElement(\"style\");\n    element.appendChild(document.createTextNode(css));\n    document.body.appendChild(element);\n  }\n\n  const js_urls = [\"https://cdn.bokeh.org/bokeh/release/bokeh-2.4.3.min.js\", \"https://cdn.bokeh.org/bokeh/release/bokeh-gl-2.4.3.min.js\", \"https://cdn.bokeh.org/bokeh/release/bokeh-widgets-2.4.3.min.js\", \"https://cdn.bokeh.org/bokeh/release/bokeh-tables-2.4.3.min.js\", \"https://cdn.bokeh.org/bokeh/release/bokeh-mathjax-2.4.3.min.js\", \"https://unpkg.com/@holoviz/panel@0.13.1/dist/panel.min.js\"];\n  const css_urls = [];\n\n  const inline_js = [    function(Bokeh) {\n      Bokeh.set_log_level(\"info\");\n    },\nfunction(Bokeh) {\n    }\n  ];\n\n  function run_inline_js() {\n    if (root.Bokeh !== undefined || force === true) {\n          for (let i = 0; i < inline_js.length; i++) {\n      inline_js[i].call(root, root.Bokeh);\n    }\nif (force === true) {\n        display_loaded();\n      }} else if (Date.now() < root._bokeh_timeout) {\n      setTimeout(run_inline_js, 100);\n    } else if (!root._bokeh_failed_load) {\n      console.log(\"Bokeh: BokehJS failed to load within specified timeout.\");\n      root._bokeh_failed_load = true;\n    } else if (force !== true) {\n      const cell = $(document.getElementById(\"1635\")).parents('.cell').data().cell;\n      cell.output_area.append_execute_result(NB_LOAD_WARNING)\n    }\n  }\n\n  if (root._bokeh_is_loading === 0) {\n    console.debug(\"Bokeh: BokehJS loaded, going straight to plotting\");\n    run_inline_js();\n  } else {\n    load_libs(css_urls, js_urls, function() {\n      console.debug(\"Bokeh: BokehJS plotting callback run at\", now());\n      run_inline_js();\n    });\n  }\n}(window));",
      "application/vnd.bokehjs_load.v0+json": ""
     },
     "metadata": {},
     "output_type": "display_data"
    },
    {
     "data": {
      "text/html": [
       "\n",
       "  <div class=\"bk-root\" id=\"16977aa1-fb64-4e8a-a4a8-a4d933cc2de0\" data-root-id=\"1590\"></div>\n"
      ]
     },
     "metadata": {},
     "output_type": "display_data"
    },
    {
     "data": {
      "application/javascript": "(function(root) {\n  function embed_document(root) {\n  const docs_json = {\"10fde831-7c08-4e20-97cd-cc2f3b58f73a\":{\"defs\":[{\"extends\":null,\"module\":null,\"name\":\"ReactiveHTML1\",\"overrides\":[],\"properties\":[]},{\"extends\":null,\"module\":null,\"name\":\"FlexBox1\",\"overrides\":[],\"properties\":[{\"default\":\"flex-start\",\"kind\":null,\"name\":\"align_content\"},{\"default\":\"flex-start\",\"kind\":null,\"name\":\"align_items\"},{\"default\":\"row\",\"kind\":null,\"name\":\"flex_direction\"},{\"default\":\"wrap\",\"kind\":null,\"name\":\"flex_wrap\"},{\"default\":\"flex-start\",\"kind\":null,\"name\":\"justify_content\"}]},{\"extends\":null,\"module\":null,\"name\":\"GridStack1\",\"overrides\":[],\"properties\":[{\"default\":\"warn\",\"kind\":null,\"name\":\"mode\"},{\"default\":null,\"kind\":null,\"name\":\"ncols\"},{\"default\":null,\"kind\":null,\"name\":\"nrows\"},{\"default\":true,\"kind\":null,\"name\":\"allow_resize\"},{\"default\":true,\"kind\":null,\"name\":\"allow_drag\"},{\"default\":[],\"kind\":null,\"name\":\"state\"}]},{\"extends\":null,\"module\":null,\"name\":\"click1\",\"overrides\":[],\"properties\":[{\"default\":\"\",\"kind\":null,\"name\":\"terminal_output\"},{\"default\":\"\",\"kind\":null,\"name\":\"debug_name\"},{\"default\":0,\"kind\":null,\"name\":\"clears\"}]},{\"extends\":null,\"module\":null,\"name\":\"NotificationAreaBase1\",\"overrides\":[],\"properties\":[{\"default\":\"bottom-right\",\"kind\":null,\"name\":\"position\"},{\"default\":0,\"kind\":null,\"name\":\"_clear\"}]},{\"extends\":null,\"module\":null,\"name\":\"NotificationArea1\",\"overrides\":[],\"properties\":[{\"default\":[],\"kind\":null,\"name\":\"notifications\"},{\"default\":\"bottom-right\",\"kind\":null,\"name\":\"position\"},{\"default\":0,\"kind\":null,\"name\":\"_clear\"},{\"default\":[{\"background\":\"#ffc107\",\"icon\":{\"className\":\"fas fa-exclamation-triangle\",\"color\":\"white\",\"tagName\":\"i\"},\"type\":\"warning\"},{\"background\":\"#007bff\",\"icon\":{\"className\":\"fas fa-info-circle\",\"color\":\"white\",\"tagName\":\"i\"},\"type\":\"info\"}],\"kind\":null,\"name\":\"types\"}]},{\"extends\":null,\"module\":null,\"name\":\"Notification\",\"overrides\":[],\"properties\":[{\"default\":null,\"kind\":null,\"name\":\"background\"},{\"default\":3000,\"kind\":null,\"name\":\"duration\"},{\"default\":null,\"kind\":null,\"name\":\"icon\"},{\"default\":\"\",\"kind\":null,\"name\":\"message\"},{\"default\":null,\"kind\":null,\"name\":\"notification_type\"},{\"default\":false,\"kind\":null,\"name\":\"_destroyed\"}]},{\"extends\":null,\"module\":null,\"name\":\"TemplateActions1\",\"overrides\":[],\"properties\":[{\"default\":0,\"kind\":null,\"name\":\"open_modal\"},{\"default\":0,\"kind\":null,\"name\":\"close_modal\"}]},{\"extends\":null,\"module\":null,\"name\":\"MaterialTemplateActions1\",\"overrides\":[],\"properties\":[{\"default\":0,\"kind\":null,\"name\":\"open_modal\"},{\"default\":0,\"kind\":null,\"name\":\"close_modal\"}]}],\"roots\":{\"references\":[{\"attributes\":{\"below\":[{\"id\":\"1601\"}],\"center\":[{\"id\":\"1604\"},{\"id\":\"1608\"}],\"height\":800,\"left\":[{\"id\":\"1605\"}],\"renderers\":[{\"id\":\"1627\"},{\"id\":\"1633\"}],\"title\":{\"id\":\"1591\"},\"toolbar\":{\"id\":\"1616\"},\"width\":800,\"x_range\":{\"id\":\"1593\"},\"x_scale\":{\"id\":\"1597\"},\"y_range\":{\"id\":\"1595\"},\"y_scale\":{\"id\":\"1599\"}},\"id\":\"1590\",\"subtype\":\"Figure\",\"type\":\"Plot\"},{\"attributes\":{\"coordinates\":null,\"data_source\":{\"id\":\"1629\"},\"glyph\":{\"id\":\"1630\"},\"group\":null,\"hover_glyph\":null,\"muted_glyph\":{\"id\":\"1632\"},\"nonselection_glyph\":{\"id\":\"1631\"},\"view\":{\"id\":\"1634\"}},\"id\":\"1633\",\"type\":\"GlyphRenderer\"},{\"attributes\":{\"bottom_units\":\"screen\",\"coordinates\":null,\"fill_alpha\":0.5,\"fill_color\":\"lightgrey\",\"group\":null,\"left_units\":\"screen\",\"level\":\"overlay\",\"line_alpha\":1.0,\"line_color\":\"black\",\"line_dash\":[4,4],\"line_width\":2,\"right_units\":\"screen\",\"syncable\":false,\"top_units\":\"screen\"},\"id\":\"1615\",\"type\":\"BoxAnnotation\"},{\"attributes\":{\"data\":{\"x\":{\"__ndarray__\":\"AABwIB2ldkIAAFR4HaV2QgAADlQepXZCAADILx+ldkIAAKyHH6V2QgAAggsgpXZCAAA85yCldkIAAPbCIaV2QgAAsJ4ipXZCAABqeiOldkIAACRWJKV2QgAA3jElpXZCAACYDSaldkIAAFLpJqV2QgAADMUnpXZCAADGoCildkIAAIB8KaV2QgAAOlgqpXZCAAD0MyuldkIAAK4PLKV2QgAAaOsspXZCAAAixy2ldkIAANyiLqV2QgAAln4vpXZCAABQWjCldkIAAAo2MaV2QgAAxBEypXZCAAB+7TKldkIAADjJM6V2QgAAmLM0pXZCAADk0DSldkIAAFKPNaV2QgAADGs2pXZCAACkpTaldkIAAMZGN6V2QgAAgCI4pXZCAADgDDmldkIAANI4OaV2QgAAmug5pXZCAABUxDqldkIAAA6gO6V2QgAAyHs8pXZCAACCVz2ldkIAADwzPqV2QgAA9g4/pXZCAACw6j+ldkIAAGrGQKV2QgAAJKJBpXZCAADefUKldkIAAN59QqV2QgAAmFlDpXZCAABSNUSldkIAAAwRRaV2QgAAxuxFpXZCAACAyEaldkIAADqkR6V2QgAA9H9IpXZCAACuW0mldkIAABwaSqV2QgAAaDdKpXZCAABQpk2ldkIAAPa0TaV2QgAACoJOpXZCAAAeT0+ldkIAAJrhT6V2QgAAMhxQpXZCAADYKlCldkIAAPrLUKV2QgAAhDJRpXZCAAAcbVGldkIAANZIUqV2QgAAfFdSpXZCAABgr1KldkIAAFLbUqV2QgAA6hVTpXZCAACCUFOldkIAAGaoU6V2QgAA1GZUpXZCAADGklSldkIAAJwWVaV2QgAA2l9VpXZCAABymlWldkIAAB6iVqV2QgAAThdXpXZCAADKqVeldkIAALzVV6V2QgAA+h5YpXZCAABGPFildkIAAJJZWKV2QgAAhIVYpXZCAAAcwFildkIAAGjdWKV2QgAADuxYpXZCAAC0+lildkIAAJhSWaV2QgAA5G9ZpXZCAAAiuVmldkIAAG7WWaV2QgAABhFapXZCAACeS1qldkIAADaGWqV2QgAANoZapXZCAAAoslqldkIAAGb7WqV2QgAA/jVbpXZCAACWcFuldkIAAO5/XaV2QgAAxANepXZCAABOal6ldkIAADLCXqV2QgAAft9epXZCAABGj1+ldkIAADi7X6V2QgAA8pZgpXZCAACscmGldkIAAGZOYqV2QgAAICpjpXZCAADaBWSldkIAADrwZKV2QgAAEHRlpXZCAAD0y2WldkIAAK6nZqV2QgAAhCtnpXZCAABog2eldkIAAHxQaKV2QgAAIl9opXZCAADcOmmldkIAAJYWaqV2QgAALlFqpXZCAACq42qldkIAAEIea6V2QgAAZL9rpXZCAADEqWyldkIAADJobaV2QgAAfoVtpXZCAAA4YW6ldkI=\",\"dtype\":\"float64\",\"order\":\"little\",\"shape\":[136]},\"y\":{\"__ndarray__\":\"AAAAAABAW0AAAAAAAAD4fwAAAAAAAPh/AAAAAAAA+H8AAAAAAAD4fwAAAAAAAPh/AAAAAAAA+H8AAAAAAAD4fwAAAAAAAPh/AAAAAAAA+H8AAAAAAAD4fwAAAAAAAPh/AAAAAAAA+H8AAAAAAAD4fwAAAAAAAPh/AAAAAAAA+H8AAAAAAAD4fwAAAAAAAPh/AAAAAAAA+H8AAAAAAAD4fwAAAAAAAPh/AAAAAAAA+H8AAAAAAAD4fwAAAAAAAPh/AAAAAAAA+H8AAAAAAAD4fwAAAAAAAPh/AAAAAAAA+H8AAAAAAAD4fwAAAAAAAPh/AAAAAADAXkAAAAAAAAD4fwAAAAAAAPh/AAAAAADAY0AAAAAAAAD4fwAAAAAAAPh/AAAAAAAA+H8AAAAAAAD4fwAAAAAAAPh/AAAAAAAA+H8AAAAAAAD4fwAAAAAAAPh/AAAAAAAA+H8AAAAAAAD4fwAAAAAAAPh/AAAAAAAA+H8AAAAAAAD4fwAAAAAAAPh/AAAAAAAA+H8AAAAAAGBhQAAAAAAAAPh/AAAAAAAA+H8AAAAAAAD4fwAAAAAAAPh/AAAAAAAA+H8AAAAAAAD4fwAAAAAAAPh/AAAAAAAA+H8AAAAAAOBiQAAAAAAAAPh/AAAAAAAA+H8AAAAAACBgQAAAAAAAAPh/AAAAAAAgZEAAAAAAAABnQAAAAAAAQGZAAAAAAABAZkAAAAAAAEBeQAAAAAAAwFtAAAAAAACAWkAAAAAAAMBWQAAAAAAAQFhAAAAAAACAWkAAAAAAAIBaQAAAAAAAQFhAAAAAAACAVUAAAAAAAAD4fwAAAAAAgFxAAAAAAAAA+H8AAAAAACBgQAAAAAAAAPh/AAAAAACAXUAAAAAAAIBdQAAAAAAAwFxAAAAAAABAWkAAAAAAAEBbQAAAAAAAwFpAAAAAAADAW0AAAAAAAABeQAAAAAAAIGFAAAAAAADAYEAAAAAAAAD4fwAAAAAAIGBAAAAAAABAX0AAAAAAAIBeQAAAAAAAAF9AAAAAAAAA+H8AAAAAAMBfQAAAAAAAQF5AAAAAAADAXkAAAAAAAIBeQAAAAAAAAPh/AAAAAAAAX0AAAAAAAIBfQAAAAAAAAGBAAAAAAAAA+H8AAAAAAIBbQAAAAAAAAPh/AAAAAAAAYEAAAAAAAABdQAAAAAAAAPh/AAAAAACAWkAAAAAAAAD4fwAAAAAAAPh/AAAAAAAA+H8AAAAAAAD4fwAAAAAAAPh/AAAAAAAA+H8AAAAAAAD4fwAAAAAA4GJAAAAAAAAA+H8AAAAAAAD4fwAAAAAAgF9AAAAAAAAA+H8AAAAAAEBgQAAAAAAAAPh/AAAAAAAA+H8AAAAAAAD4fwAAAAAAgFxAAAAAAAAA+H8AAAAAAIBaQAAAAAAAAPh/AAAAAAAA+H8AAAAAAMBbQAAAAAAAAPh/AAAAAAAA+H8=\",\"dtype\":\"float64\",\"order\":\"little\",\"shape\":[136]}},\"selected\":{\"id\":\"1696\"},\"selection_policy\":{\"id\":\"1695\"}},\"id\":\"1629\",\"type\":\"ColumnDataSource\"},{\"attributes\":{},\"id\":\"1595\",\"type\":\"DataRange1d\"},{\"attributes\":{\"fill_alpha\":{\"value\":0.2},\"fill_color\":{\"value\":\"blue\"},\"hatch_alpha\":{\"value\":0.2},\"line_alpha\":{\"value\":0.2},\"line_color\":{\"value\":\"#1f77b4\"},\"x\":{\"field\":\"x\"},\"y\":{\"field\":\"y\"}},\"id\":\"1632\",\"type\":\"Circle\"},{\"attributes\":{\"coordinates\":null,\"data_source\":{\"id\":\"1623\"},\"glyph\":{\"id\":\"1624\"},\"group\":null,\"hover_glyph\":null,\"muted_glyph\":{\"id\":\"1626\"},\"nonselection_glyph\":{\"id\":\"1625\"},\"view\":{\"id\":\"1628\"}},\"id\":\"1627\",\"type\":\"GlyphRenderer\"},{\"attributes\":{},\"id\":\"1610\",\"type\":\"WheelZoomTool\"},{\"attributes\":{},\"id\":\"1693\",\"type\":\"UnionRenderers\"},{\"attributes\":{},\"id\":\"1597\",\"type\":\"LinearScale\"},{\"attributes\":{},\"id\":\"1694\",\"type\":\"Selection\"},{\"attributes\":{\"tools\":[{\"id\":\"1609\"},{\"id\":\"1610\"},{\"id\":\"1611\"},{\"id\":\"1612\"},{\"id\":\"1613\"},{\"id\":\"1614\"}]},\"id\":\"1616\",\"type\":\"Toolbar\"},{\"attributes\":{},\"id\":\"1613\",\"type\":\"ResetTool\"},{\"attributes\":{\"mantissas\":[1,2,5],\"max_interval\":500.0,\"num_minor_ticks\":0},\"id\":\"1698\",\"type\":\"AdaptiveTicker\"},{\"attributes\":{},\"id\":\"1695\",\"type\":\"UnionRenderers\"},{\"attributes\":{\"base\":60,\"mantissas\":[1,2,5,10,15,20,30],\"max_interval\":1800000.0,\"min_interval\":1000.0,\"num_minor_ticks\":0},\"id\":\"1699\",\"type\":\"AdaptiveTicker\"},{\"attributes\":{\"fill_alpha\":{\"value\":0.1},\"fill_color\":{\"value\":\"blue\"},\"hatch_alpha\":{\"value\":0.1},\"line_alpha\":{\"value\":0.1},\"line_color\":{\"value\":\"#1f77b4\"},\"x\":{\"field\":\"x\"},\"y\":{\"field\":\"y\"}},\"id\":\"1631\",\"type\":\"Circle\"},{\"attributes\":{},\"id\":\"1593\",\"type\":\"DataRange1d\"},{\"attributes\":{\"base\":24,\"mantissas\":[1,2,4,6,8,12],\"max_interval\":43200000.0,\"min_interval\":3600000.0,\"num_minor_ticks\":0},\"id\":\"1700\",\"type\":\"AdaptiveTicker\"},{\"attributes\":{},\"id\":\"1709\",\"type\":\"YearsTicker\"},{\"attributes\":{\"months\":[0,1,2,3,4,5,6,7,8,9,10,11]},\"id\":\"1705\",\"type\":\"MonthsTicker\"},{\"attributes\":{\"days\":[1,15]},\"id\":\"1704\",\"type\":\"DaysTicker\"},{\"attributes\":{\"days\":[1,2,3,4,5,6,7,8,9,10,11,12,13,14,15,16,17,18,19,20,21,22,23,24,25,26,27,28,29,30,31]},\"id\":\"1701\",\"type\":\"DaysTicker\"},{\"attributes\":{\"days\":[1,4,7,10,13,16,19,22,25,28]},\"id\":\"1702\",\"type\":\"DaysTicker\"},{\"attributes\":{\"line_alpha\":{\"value\":0.2},\"line_color\":{\"field\":\"line_color\"},\"line_width\":{\"value\":2},\"tags\":[\"label\",\"label\"],\"xs\":{\"field\":\"xs\"},\"ys\":{\"field\":\"ys\"}},\"id\":\"1626\",\"type\":\"MultiLine\"},{\"attributes\":{\"days\":[1,8,15,22]},\"id\":\"1703\",\"type\":\"DaysTicker\"},{\"attributes\":{\"coordinates\":null,\"group\":null,\"text\":\"glocuse vs. time\"},\"id\":\"1591\",\"type\":\"Title\"},{\"attributes\":{},\"id\":\"1614\",\"type\":\"HelpTool\"},{\"attributes\":{\"months\":[0,6]},\"id\":\"1708\",\"type\":\"MonthsTicker\"},{\"attributes\":{\"axis\":{\"id\":\"1605\"},\"coordinates\":null,\"dimension\":1,\"group\":null,\"ticker\":null},\"id\":\"1608\",\"type\":\"Grid\"},{\"attributes\":{\"line_alpha\":{\"value\":0.1},\"line_color\":{\"field\":\"line_color\"},\"line_width\":{\"value\":2},\"tags\":[\"label\",\"label\"],\"xs\":{\"field\":\"xs\"},\"ys\":{\"field\":\"ys\"}},\"id\":\"1625\",\"type\":\"MultiLine\"},{\"attributes\":{},\"id\":\"1696\",\"type\":\"Selection\"},{\"attributes\":{},\"id\":\"1606\",\"type\":\"BasicTicker\"},{\"attributes\":{\"months\":[0,2,4,6,8,10]},\"id\":\"1706\",\"type\":\"MonthsTicker\"},{\"attributes\":{\"axis\":{\"id\":\"1601\"},\"coordinates\":null,\"group\":null,\"ticker\":null},\"id\":\"1604\",\"type\":\"Grid\"},{\"attributes\":{\"axis_label\":\"glocuse level\",\"coordinates\":null,\"formatter\":{\"id\":\"1688\"},\"group\":null,\"major_label_policy\":{\"id\":\"1689\"},\"ticker\":{\"id\":\"1606\"}},\"id\":\"1605\",\"type\":\"LinearAxis\"},{\"attributes\":{\"fill_color\":{\"value\":\"blue\"},\"line_color\":{\"value\":\"#1f77b4\"},\"x\":{\"field\":\"x\"},\"y\":{\"field\":\"y\"}},\"id\":\"1630\",\"type\":\"Circle\"},{\"attributes\":{\"num_minor_ticks\":5,\"tickers\":[{\"id\":\"1698\"},{\"id\":\"1699\"},{\"id\":\"1700\"},{\"id\":\"1701\"},{\"id\":\"1702\"},{\"id\":\"1703\"},{\"id\":\"1704\"},{\"id\":\"1705\"},{\"id\":\"1706\"},{\"id\":\"1707\"},{\"id\":\"1708\"},{\"id\":\"1709\"}]},\"id\":\"1602\",\"type\":\"DatetimeTicker\"},{\"attributes\":{\"months\":[0,4,8]},\"id\":\"1707\",\"type\":\"MonthsTicker\"},{\"attributes\":{},\"id\":\"1612\",\"type\":\"SaveTool\"},{\"attributes\":{\"source\":{\"id\":\"1629\"}},\"id\":\"1634\",\"type\":\"CDSView\"},{\"attributes\":{},\"id\":\"1688\",\"type\":\"BasicTickFormatter\"},{\"attributes\":{\"source\":{\"id\":\"1623\"}},\"id\":\"1628\",\"type\":\"CDSView\"},{\"attributes\":{},\"id\":\"1689\",\"type\":\"AllLabels\"},{\"attributes\":{},\"id\":\"1691\",\"type\":\"DatetimeTickFormatter\"},{\"attributes\":{\"data\":{\"line_color\":[\"red\",\"black\"],\"xs\":[[1556150880000.0,1556151240000.0,1556152140000.0,1556153040000.0,1556153400000.0,1556153940000.0,1556154840000.0,1556155740000.0,1556156640000.0,1556157540000.0,1556158440000.0,1556159340000.0,1556160240000.0,1556161140000.0,1556162040000.0,1556162940000.0,1556163840000.0,1556164740000.0,1556165640000.0,1556166540000.0,1556167440000.0,1556168340000.0,1556169240000.0,1556170140000.0,1556171040000.0,1556171940000.0,1556172840000.0,1556173740000.0,1556174640000.0,1556175600000.0,1556175720000.0,1556176500000.0,1556177400000.0,1556177640000.0,1556178300000.0,1556179200000.0,1556180160000.0,1556180340000.0,1556181060000.0,1556181960000.0,1556182860000.0,1556183760000.0,1556184660000.0,1556185560000.0,1556186460000.0,1556187360000.0,1556188260000.0,1556189160000.0,1556190060000.0,1556190060000.0,1556190960000.0,1556191860000.0,1556192760000.0,1556193660000.0,1556194560000.0,1556195460000.0,1556196360000.0,1556197260000.0,1556198040000.0,1556198160000.0,1556201760000.0,1556201820000.0,1556202660000.0,1556203500000.0,1556204100000.0,1556204340000.0,1556204400000.0,1556205060000.0,1556205480000.0,1556205720000.0,1556206620000.0,1556206680000.0,1556207040000.0,1556207220000.0,1556207460000.0,1556207700000.0,1556208060000.0,1556208840000.0,1556209020000.0,1556209560000.0,1556209860000.0,1556210100000.0,1556211180000.0,1556211660000.0,1556212260000.0,1556212440000.0,1556212740000.0,1556212860000.0,1556212980000.0,1556213160000.0,1556213400000.0,1556213520000.0,1556213580000.0,1556213640000.0,1556214000000.0,1556214120000.0,1556214420000.0,1556214540000.0,1556214780000.0,1556215020000.0,1556215260000.0,1556215260000.0,1556215440000.0,1556215740000.0,1556215980000.0,1556216220000.0,1556218380000.0,1556218920000.0,1556219340000.0,1556219700000.0,1556219820000.0,1556220540000.0,1556220720000.0,1556221620000.0,1556222520000.0,1556223420000.0,1556224320000.0,1556225220000.0,1556226180000.0,1556226720000.0,1556227080000.0,1556227980000.0,1556228520000.0,1556228880000.0,1556229720000.0,1556229780000.0,1556230680000.0,1556231580000.0,1556231820000.0,1556232420000.0,1556232660000.0,1556233320000.0,1556234280000.0,1556235060000.0,1556235180000.0,1556236080000.0],[1556150880000.0,1556151240000.0,1556152140000.0,1556153040000.0,1556153400000.0,1556153940000.0,1556154840000.0,1556155740000.0,1556156640000.0,1556157540000.0,1556158440000.0,1556159340000.0,1556160240000.0,1556161140000.0,1556162040000.0,1556162940000.0,1556163840000.0,1556164740000.0,1556165640000.0,1556166540000.0,1556167440000.0,1556168340000.0,1556169240000.0,1556170140000.0,1556171040000.0,1556171940000.0,1556172840000.0,1556173740000.0,1556174640000.0,1556175600000.0,1556175720000.0,1556176500000.0,1556177400000.0,1556177640000.0,1556178300000.0,1556179200000.0,1556180160000.0,1556180340000.0,1556181060000.0,1556181960000.0,1556182860000.0,1556183760000.0,1556184660000.0,1556185560000.0,1556186460000.0,1556187360000.0,1556188260000.0,1556189160000.0,1556190060000.0,1556190060000.0,1556190960000.0,1556191860000.0,1556192760000.0,1556193660000.0,1556194560000.0,1556195460000.0,1556196360000.0,1556197260000.0,1556198040000.0,1556198160000.0,1556201760000.0,1556201820000.0,1556202660000.0,1556203500000.0,1556204100000.0,1556204340000.0,1556204400000.0,1556205060000.0,1556205480000.0,1556205720000.0,1556206620000.0,1556206680000.0,1556207040000.0,1556207220000.0,1556207460000.0,1556207700000.0,1556208060000.0,1556208840000.0,1556209020000.0,1556209560000.0,1556209860000.0,1556210100000.0,1556211180000.0,1556211660000.0,1556212260000.0,1556212440000.0,1556212740000.0,1556212860000.0,1556212980000.0,1556213160000.0,1556213400000.0,1556213520000.0,1556213580000.0,1556213640000.0,1556214000000.0,1556214120000.0,1556214420000.0,1556214540000.0,1556214780000.0,1556215020000.0,1556215260000.0,1556215260000.0,1556215440000.0,1556215740000.0,1556215980000.0,1556216220000.0,1556218380000.0,1556218920000.0,1556219340000.0,1556219700000.0,1556219820000.0,1556220540000.0,1556220720000.0,1556221620000.0,1556222520000.0,1556223420000.0,1556224320000.0,1556225220000.0,1556226180000.0,1556226720000.0,1556227080000.0,1556227980000.0,1556228520000.0,1556228880000.0,1556229720000.0,1556229780000.0,1556230680000.0,1556231580000.0,1556231820000.0,1556232420000.0,1556232660000.0,1556233320000.0,1556234280000.0,1556235060000.0,1556235180000.0,1556236080000.0]],\"ys\":[[109.0,109.0,109.0,109.0,109.0,109.0,109.0,109.0,109.0,109.0,109.0,109.0,109.0,109.0,109.0,109.0,123.0,123.0,123.0,123.0,123.0,123.0,123.0,123.0,123.0,123.0,123.0,123.0,123.0,123.0,123.0,123.0,158.0,158.0,158.0,158.0,158.0,158.0,158.0,158.0,158.0,158.0,139.0,139.0,139.0,139.0,139.0,139.0,139.0,139.0,139.0,139.0,139.0,139.0,151.0,151.0,151.0,151.0,151.0,151.0,129.0,129.0,129.0,161.0,184.0,178.0,178.0,121.0,111.0,106.0,91.0,97.0,106.0,106.0,97.0,86.0,86.0,114.0,114.0,129.0,129.0,118.0,118.0,115.0,105.0,109.0,107.0,111.0,120.0,137.0,134.0,134.0,129.0,125.0,122.0,124.0,124.0,127.0,121.0,123.0,122.0,122.0,124.0,126.0,128.0,128.0,110.0,110.0,128.0,116.0,116.0,106.0,106.0,106.0,106.0,106.0,151.0,151.0,151.0,151.0,151.0,126.0,126.0,126.0,130.0,130.0,130.0,114.0,114.0,114.0,106.0,106.0,111.0,111.0,\"NaN\",\"NaN\"],[109.0,98.66845703125,89.08162689208984,80.23949432373047,72.1420669555664,64.78934478759766,58.18132019042969,52.3180046081543,47.19939422607422,42.82548522949219,39.19628143310547,36.3117790222168,34.17198181152344,32.77688980102539,32.12649917602539,32.2208137512207,33.05983352661133,34.6435546875,36.971981048583984,40.04511260986328,43.862945556640625,48.42548370361328,53.73272705078125,59.784671783447266,66.5813217163086,74.12267303466797,82.40872955322266,91.43949127197266,101.21495819091797,111.7351303100586,123.0,135.00958251953125,147.4013214111328,158.0,166.44308471679688,172.73056030273438,176.86244201660156,178.83872985839844,178.65940856933594,176.32449340820312,171.83396911621094,165.18785095214844,158.02023315429688,151.96524047851562,147.02284240722656,143.19305419921875,140.4758758544922,138.87130737304688,138.3793487548828,139.0,140.73326110839844,143.57913208007812,147.53759765625,152.6086883544922,158.25344848632812,161.2383270263672,161.0243682861328,157.61160278320312,151.0,141.1895751953125,130.07229614257812,129.0,139.86463928222656,161.0,184.0,178.0,178.0,121.0,111.0,106.0,91.0,97.0,106.0,106.0,97.0,86.0,95.65035247802734,114.0,125.41083526611328,129.0,123.88462829589844,118.0,118.0,115.0,105.0,109.0,107.0,111.0,120.0,137.0,134.0,131.0166015625,129.0,125.0,122.0,124.0,127.39982604980469,127.0,121.0,123.0,122.0,122.35751342773438,124.0,126.0,128.0,117.95344543457031,110.0,120.3342514038086,128.0,116.0,108.08804321289062,106.0,107.51275634765625,112.6263198852539,121.34068298339844,133.65585327148438,145.3265380859375,152.1074676513672,153.9986114501953,151.0,143.1116180419922,131.8150634765625,126.0,127.14801025390625,130.0,129.29684448242188,125.03856658935547,119.26099395751953,114.0,109.25557708740234,106.0,105.2055435180664,106.8722152709961,111.0,\"NaN\",\"NaN\"]]},\"selected\":{\"id\":\"1694\"},\"selection_policy\":{\"id\":\"1693\"}},\"id\":\"1623\",\"type\":\"ColumnDataSource\"},{\"attributes\":{\"overlay\":{\"id\":\"1615\"}},\"id\":\"1611\",\"type\":\"BoxZoomTool\"},{\"attributes\":{\"axis_label\":\"time\",\"coordinates\":null,\"formatter\":{\"id\":\"1691\"},\"group\":null,\"major_label_policy\":{\"id\":\"1692\"},\"ticker\":{\"id\":\"1602\"}},\"id\":\"1601\",\"type\":\"DatetimeAxis\"},{\"attributes\":{},\"id\":\"1599\",\"type\":\"LinearScale\"},{\"attributes\":{},\"id\":\"1609\",\"type\":\"PanTool\"},{\"attributes\":{},\"id\":\"1692\",\"type\":\"AllLabels\"},{\"attributes\":{\"line_color\":{\"field\":\"line_color\"},\"line_width\":{\"value\":2},\"tags\":[\"label\",\"label\"],\"xs\":{\"field\":\"xs\"},\"ys\":{\"field\":\"ys\"}},\"id\":\"1624\",\"type\":\"MultiLine\"}],\"root_ids\":[\"1590\"]},\"title\":\"Bokeh Application\",\"version\":\"2.4.3\"}};\n  const render_items = [{\"docid\":\"10fde831-7c08-4e20-97cd-cc2f3b58f73a\",\"root_ids\":[\"1590\"],\"roots\":{\"1590\":\"16977aa1-fb64-4e8a-a4a8-a4d933cc2de0\"}}];\n  root.Bokeh.embed.embed_items_notebook(docs_json, render_items);\n  }\n  if (root.Bokeh !== undefined) {\n    embed_document(root);\n  } else {\n    let attempts = 0;\n    const timer = setInterval(function(root) {\n      if (root.Bokeh !== undefined) {\n        clearInterval(timer);\n        embed_document(root);\n      } else {\n        attempts++;\n        if (attempts > 100) {\n          clearInterval(timer);\n          console.log(\"Bokeh: ERROR: Unable to run BokehJS code because BokehJS library is missing\");\n        }\n      }\n    }, 10, root)\n  }\n})(window);",
      "application/vnd.bokehjs_exec.v0+json": ""
     },
     "metadata": {
      "application/vnd.bokehjs_exec.v0+json": {
       "id": "1590"
      }
     },
     "output_type": "display_data"
    },
    {
     "data": {
      "text/html": [
       "<div class=\"bk-root\">\n",
       "        <a href=\"https://bokeh.org\" target=\"_blank\" class=\"bk-logo bk-logo-small bk-logo-notebook\"></a>\n",
       "        <span id=\"1875\">Loading BokehJS ...</span>\n",
       "    </div>\n"
      ]
     },
     "metadata": {},
     "output_type": "display_data"
    },
    {
     "data": {
      "application/javascript": "(function(root) {\n  function now() {\n    return new Date();\n  }\n\n  const force = true;\n\n  if (typeof root._bokeh_onload_callbacks === \"undefined\" || force === true) {\n    root._bokeh_onload_callbacks = [];\n    root._bokeh_is_loading = undefined;\n  }\n\nconst JS_MIME_TYPE = 'application/javascript';\n  const HTML_MIME_TYPE = 'text/html';\n  const EXEC_MIME_TYPE = 'application/vnd.bokehjs_exec.v0+json';\n  const CLASS_NAME = 'output_bokeh rendered_html';\n\n  /**\n   * Render data to the DOM node\n   */\n  function render(props, node) {\n    const script = document.createElement(\"script\");\n    node.appendChild(script);\n  }\n\n  /**\n   * Handle when an output is cleared or removed\n   */\n  function handleClearOutput(event, handle) {\n    const cell = handle.cell;\n\n    const id = cell.output_area._bokeh_element_id;\n    const server_id = cell.output_area._bokeh_server_id;\n    // Clean up Bokeh references\n    if (id != null && id in Bokeh.index) {\n      Bokeh.index[id].model.document.clear();\n      delete Bokeh.index[id];\n    }\n\n    if (server_id !== undefined) {\n      // Clean up Bokeh references\n      const cmd_clean = \"from bokeh.io.state import curstate; print(curstate().uuid_to_server['\" + server_id + \"'].get_sessions()[0].document.roots[0]._id)\";\n      cell.notebook.kernel.execute(cmd_clean, {\n        iopub: {\n          output: function(msg) {\n            const id = msg.content.text.trim();\n            if (id in Bokeh.index) {\n              Bokeh.index[id].model.document.clear();\n              delete Bokeh.index[id];\n            }\n          }\n        }\n      });\n      // Destroy server and session\n      const cmd_destroy = \"import bokeh.io.notebook as ion; ion.destroy_server('\" + server_id + \"')\";\n      cell.notebook.kernel.execute(cmd_destroy);\n    }\n  }\n\n  /**\n   * Handle when a new output is added\n   */\n  function handleAddOutput(event, handle) {\n    const output_area = handle.output_area;\n    const output = handle.output;\n\n    // limit handleAddOutput to display_data with EXEC_MIME_TYPE content only\n    if ((output.output_type != \"display_data\") || (!Object.prototype.hasOwnProperty.call(output.data, EXEC_MIME_TYPE))) {\n      return\n    }\n\n    const toinsert = output_area.element.find(\".\" + CLASS_NAME.split(' ')[0]);\n\n    if (output.metadata[EXEC_MIME_TYPE][\"id\"] !== undefined) {\n      toinsert[toinsert.length - 1].firstChild.textContent = output.data[JS_MIME_TYPE];\n      // store reference to embed id on output_area\n      output_area._bokeh_element_id = output.metadata[EXEC_MIME_TYPE][\"id\"];\n    }\n    if (output.metadata[EXEC_MIME_TYPE][\"server_id\"] !== undefined) {\n      const bk_div = document.createElement(\"div\");\n      bk_div.innerHTML = output.data[HTML_MIME_TYPE];\n      const script_attrs = bk_div.children[0].attributes;\n      for (let i = 0; i < script_attrs.length; i++) {\n        toinsert[toinsert.length - 1].firstChild.setAttribute(script_attrs[i].name, script_attrs[i].value);\n        toinsert[toinsert.length - 1].firstChild.textContent = bk_div.children[0].textContent\n      }\n      // store reference to server id on output_area\n      output_area._bokeh_server_id = output.metadata[EXEC_MIME_TYPE][\"server_id\"];\n    }\n  }\n\n  function register_renderer(events, OutputArea) {\n\n    function append_mime(data, metadata, element) {\n      // create a DOM node to render to\n      const toinsert = this.create_output_subarea(\n        metadata,\n        CLASS_NAME,\n        EXEC_MIME_TYPE\n      );\n      this.keyboard_manager.register_events(toinsert);\n      // Render to node\n      const props = {data: data, metadata: metadata[EXEC_MIME_TYPE]};\n      render(props, toinsert[toinsert.length - 1]);\n      element.append(toinsert);\n      return toinsert\n    }\n\n    /* Handle when an output is cleared or removed */\n    events.on('clear_output.CodeCell', handleClearOutput);\n    events.on('delete.Cell', handleClearOutput);\n\n    /* Handle when a new output is added */\n    events.on('output_added.OutputArea', handleAddOutput);\n\n    /**\n     * Register the mime type and append_mime function with output_area\n     */\n    OutputArea.prototype.register_mime_type(EXEC_MIME_TYPE, append_mime, {\n      /* Is output safe? */\n      safe: true,\n      /* Index of renderer in `output_area.display_order` */\n      index: 0\n    });\n  }\n\n  // register the mime type if in Jupyter Notebook environment and previously unregistered\n  if (root.Jupyter !== undefined) {\n    const events = require('base/js/events');\n    const OutputArea = require('notebook/js/outputarea').OutputArea;\n\n    if (OutputArea.prototype.mime_types().indexOf(EXEC_MIME_TYPE) == -1) {\n      register_renderer(events, OutputArea);\n    }\n  }\n  if (typeof (root._bokeh_timeout) === \"undefined\" || force === true) {\n    root._bokeh_timeout = Date.now() + 5000;\n    root._bokeh_failed_load = false;\n  }\n\n  const NB_LOAD_WARNING = {'data': {'text/html':\n     \"<div style='background-color: #fdd'>\\n\"+\n     \"<p>\\n\"+\n     \"BokehJS does not appear to have successfully loaded. If loading BokehJS from CDN, this \\n\"+\n     \"may be due to a slow or bad network connection. Possible fixes:\\n\"+\n     \"</p>\\n\"+\n     \"<ul>\\n\"+\n     \"<li>re-rerun `output_notebook()` to attempt to load from CDN again, or</li>\\n\"+\n     \"<li>use INLINE resources instead, as so:</li>\\n\"+\n     \"</ul>\\n\"+\n     \"<code>\\n\"+\n     \"from bokeh.resources import INLINE\\n\"+\n     \"output_notebook(resources=INLINE)\\n\"+\n     \"</code>\\n\"+\n     \"</div>\"}};\n\n  function display_loaded() {\n    const el = document.getElementById(\"1875\");\n    if (el != null) {\n      el.textContent = \"BokehJS is loading...\";\n    }\n    if (root.Bokeh !== undefined) {\n      if (el != null) {\n        el.textContent = \"BokehJS \" + root.Bokeh.version + \" successfully loaded.\";\n      }\n    } else if (Date.now() < root._bokeh_timeout) {\n      setTimeout(display_loaded, 100)\n    }\n  }\n\n  function run_callbacks() {\n    try {\n      root._bokeh_onload_callbacks.forEach(function(callback) {\n        if (callback != null)\n          callback();\n      });\n    } finally {\n      delete root._bokeh_onload_callbacks\n    }\n    console.debug(\"Bokeh: all callbacks have finished\");\n  }\n\n  function load_libs(css_urls, js_urls, callback) {\n    if (css_urls == null) css_urls = [];\n    if (js_urls == null) js_urls = [];\n\n    root._bokeh_onload_callbacks.push(callback);\n    if (root._bokeh_is_loading > 0) {\n      console.debug(\"Bokeh: BokehJS is being loaded, scheduling callback at\", now());\n      return null;\n    }\n    if (js_urls == null || js_urls.length === 0) {\n      run_callbacks();\n      return null;\n    }\n    console.debug(\"Bokeh: BokehJS not loaded, scheduling load and callback at\", now());\n    root._bokeh_is_loading = css_urls.length + js_urls.length;\n\n    function on_load() {\n      root._bokeh_is_loading--;\n      if (root._bokeh_is_loading === 0) {\n        console.debug(\"Bokeh: all BokehJS libraries/stylesheets loaded\");\n        run_callbacks()\n      }\n    }\n\n    function on_error(url) {\n      console.error(\"failed to load \" + url);\n    }\n\n    for (let i = 0; i < css_urls.length; i++) {\n      const url = css_urls[i];\n      const element = document.createElement(\"link\");\n      element.onload = on_load;\n      element.onerror = on_error.bind(null, url);\n      element.rel = \"stylesheet\";\n      element.type = \"text/css\";\n      element.href = url;\n      console.debug(\"Bokeh: injecting link tag for BokehJS stylesheet: \", url);\n      document.body.appendChild(element);\n    }\n\n    for (let i = 0; i < js_urls.length; i++) {\n      const url = js_urls[i];\n      const element = document.createElement('script');\n      element.onload = on_load;\n      element.onerror = on_error.bind(null, url);\n      element.async = false;\n      element.src = url;\n      console.debug(\"Bokeh: injecting script tag for BokehJS library: \", url);\n      document.head.appendChild(element);\n    }\n  };\n\n  function inject_raw_css(css) {\n    const element = document.createElement(\"style\");\n    element.appendChild(document.createTextNode(css));\n    document.body.appendChild(element);\n  }\n\n  const js_urls = [\"https://cdn.bokeh.org/bokeh/release/bokeh-2.4.3.min.js\", \"https://cdn.bokeh.org/bokeh/release/bokeh-gl-2.4.3.min.js\", \"https://cdn.bokeh.org/bokeh/release/bokeh-widgets-2.4.3.min.js\", \"https://cdn.bokeh.org/bokeh/release/bokeh-tables-2.4.3.min.js\", \"https://cdn.bokeh.org/bokeh/release/bokeh-mathjax-2.4.3.min.js\", \"https://unpkg.com/@holoviz/panel@0.13.1/dist/panel.min.js\"];\n  const css_urls = [];\n\n  const inline_js = [    function(Bokeh) {\n      Bokeh.set_log_level(\"info\");\n    },\nfunction(Bokeh) {\n    }\n  ];\n\n  function run_inline_js() {\n    if (root.Bokeh !== undefined || force === true) {\n          for (let i = 0; i < inline_js.length; i++) {\n      inline_js[i].call(root, root.Bokeh);\n    }\nif (force === true) {\n        display_loaded();\n      }} else if (Date.now() < root._bokeh_timeout) {\n      setTimeout(run_inline_js, 100);\n    } else if (!root._bokeh_failed_load) {\n      console.log(\"Bokeh: BokehJS failed to load within specified timeout.\");\n      root._bokeh_failed_load = true;\n    } else if (force !== true) {\n      const cell = $(document.getElementById(\"1875\")).parents('.cell').data().cell;\n      cell.output_area.append_execute_result(NB_LOAD_WARNING)\n    }\n  }\n\n  if (root._bokeh_is_loading === 0) {\n    console.debug(\"Bokeh: BokehJS loaded, going straight to plotting\");\n    run_inline_js();\n  } else {\n    load_libs(css_urls, js_urls, function() {\n      console.debug(\"Bokeh: BokehJS plotting callback run at\", now());\n      run_inline_js();\n    });\n  }\n}(window));",
      "application/vnd.bokehjs_load.v0+json": ""
     },
     "metadata": {},
     "output_type": "display_data"
    },
    {
     "data": {
      "text/html": [
       "\n",
       "  <div class=\"bk-root\" id=\"049f55dd-d904-4323-a1a2-a22b4c274aba\" data-root-id=\"1830\"></div>\n"
      ]
     },
     "metadata": {},
     "output_type": "display_data"
    },
    {
     "data": {
      "application/javascript": "(function(root) {\n  function embed_document(root) {\n  const docs_json = {\"51c58518-aab6-4eba-b5ca-82c694825827\":{\"defs\":[{\"extends\":null,\"module\":null,\"name\":\"ReactiveHTML1\",\"overrides\":[],\"properties\":[]},{\"extends\":null,\"module\":null,\"name\":\"FlexBox1\",\"overrides\":[],\"properties\":[{\"default\":\"flex-start\",\"kind\":null,\"name\":\"align_content\"},{\"default\":\"flex-start\",\"kind\":null,\"name\":\"align_items\"},{\"default\":\"row\",\"kind\":null,\"name\":\"flex_direction\"},{\"default\":\"wrap\",\"kind\":null,\"name\":\"flex_wrap\"},{\"default\":\"flex-start\",\"kind\":null,\"name\":\"justify_content\"}]},{\"extends\":null,\"module\":null,\"name\":\"GridStack1\",\"overrides\":[],\"properties\":[{\"default\":\"warn\",\"kind\":null,\"name\":\"mode\"},{\"default\":null,\"kind\":null,\"name\":\"ncols\"},{\"default\":null,\"kind\":null,\"name\":\"nrows\"},{\"default\":true,\"kind\":null,\"name\":\"allow_resize\"},{\"default\":true,\"kind\":null,\"name\":\"allow_drag\"},{\"default\":[],\"kind\":null,\"name\":\"state\"}]},{\"extends\":null,\"module\":null,\"name\":\"click1\",\"overrides\":[],\"properties\":[{\"default\":\"\",\"kind\":null,\"name\":\"terminal_output\"},{\"default\":\"\",\"kind\":null,\"name\":\"debug_name\"},{\"default\":0,\"kind\":null,\"name\":\"clears\"}]},{\"extends\":null,\"module\":null,\"name\":\"NotificationAreaBase1\",\"overrides\":[],\"properties\":[{\"default\":\"bottom-right\",\"kind\":null,\"name\":\"position\"},{\"default\":0,\"kind\":null,\"name\":\"_clear\"}]},{\"extends\":null,\"module\":null,\"name\":\"NotificationArea1\",\"overrides\":[],\"properties\":[{\"default\":[],\"kind\":null,\"name\":\"notifications\"},{\"default\":\"bottom-right\",\"kind\":null,\"name\":\"position\"},{\"default\":0,\"kind\":null,\"name\":\"_clear\"},{\"default\":[{\"background\":\"#ffc107\",\"icon\":{\"className\":\"fas fa-exclamation-triangle\",\"color\":\"white\",\"tagName\":\"i\"},\"type\":\"warning\"},{\"background\":\"#007bff\",\"icon\":{\"className\":\"fas fa-info-circle\",\"color\":\"white\",\"tagName\":\"i\"},\"type\":\"info\"}],\"kind\":null,\"name\":\"types\"}]},{\"extends\":null,\"module\":null,\"name\":\"Notification\",\"overrides\":[],\"properties\":[{\"default\":null,\"kind\":null,\"name\":\"background\"},{\"default\":3000,\"kind\":null,\"name\":\"duration\"},{\"default\":null,\"kind\":null,\"name\":\"icon\"},{\"default\":\"\",\"kind\":null,\"name\":\"message\"},{\"default\":null,\"kind\":null,\"name\":\"notification_type\"},{\"default\":false,\"kind\":null,\"name\":\"_destroyed\"}]},{\"extends\":null,\"module\":null,\"name\":\"TemplateActions1\",\"overrides\":[],\"properties\":[{\"default\":0,\"kind\":null,\"name\":\"open_modal\"},{\"default\":0,\"kind\":null,\"name\":\"close_modal\"}]},{\"extends\":null,\"module\":null,\"name\":\"MaterialTemplateActions1\",\"overrides\":[],\"properties\":[{\"default\":0,\"kind\":null,\"name\":\"open_modal\"},{\"default\":0,\"kind\":null,\"name\":\"close_modal\"}]}],\"roots\":{\"references\":[{\"attributes\":{\"below\":[{\"id\":\"1841\"}],\"center\":[{\"id\":\"1844\"},{\"id\":\"1848\"}],\"height\":800,\"left\":[{\"id\":\"1845\"}],\"renderers\":[{\"id\":\"1867\"},{\"id\":\"1873\"}],\"title\":{\"id\":\"1831\"},\"toolbar\":{\"id\":\"1856\"},\"width\":800,\"x_range\":{\"id\":\"1833\"},\"x_scale\":{\"id\":\"1837\"},\"y_range\":{\"id\":\"1835\"},\"y_scale\":{\"id\":\"1839\"}},\"id\":\"1830\",\"subtype\":\"Figure\",\"type\":\"Plot\"},{\"attributes\":{\"line_alpha\":{\"value\":0.2},\"line_color\":{\"field\":\"line_color\"},\"line_width\":{\"value\":2},\"tags\":[\"label\",\"label\"],\"xs\":{\"field\":\"xs\"},\"ys\":{\"field\":\"ys\"}},\"id\":\"1866\",\"type\":\"MultiLine\"},{\"attributes\":{\"fill_alpha\":{\"value\":0.2},\"fill_color\":{\"value\":\"blue\"},\"hatch_alpha\":{\"value\":0.2},\"line_alpha\":{\"value\":0.2},\"line_color\":{\"value\":\"#1f77b4\"},\"x\":{\"field\":\"x\"},\"y\":{\"field\":\"y\"}},\"id\":\"1872\",\"type\":\"Circle\"},{\"attributes\":{\"num_minor_ticks\":5,\"tickers\":[{\"id\":\"1962\"},{\"id\":\"1963\"},{\"id\":\"1964\"},{\"id\":\"1965\"},{\"id\":\"1966\"},{\"id\":\"1967\"},{\"id\":\"1968\"},{\"id\":\"1969\"},{\"id\":\"1970\"},{\"id\":\"1971\"},{\"id\":\"1972\"},{\"id\":\"1973\"}]},\"id\":\"1842\",\"type\":\"DatetimeTicker\"},{\"attributes\":{},\"id\":\"1835\",\"type\":\"DataRange1d\"},{\"attributes\":{},\"id\":\"1952\",\"type\":\"BasicTickFormatter\"},{\"attributes\":{\"coordinates\":null,\"data_source\":{\"id\":\"1863\"},\"glyph\":{\"id\":\"1864\"},\"group\":null,\"hover_glyph\":null,\"muted_glyph\":{\"id\":\"1866\"},\"nonselection_glyph\":{\"id\":\"1865\"},\"view\":{\"id\":\"1868\"}},\"id\":\"1867\",\"type\":\"GlyphRenderer\"},{\"attributes\":{\"coordinates\":null,\"data_source\":{\"id\":\"1869\"},\"glyph\":{\"id\":\"1870\"},\"group\":null,\"hover_glyph\":null,\"muted_glyph\":{\"id\":\"1872\"},\"nonselection_glyph\":{\"id\":\"1871\"},\"view\":{\"id\":\"1874\"}},\"id\":\"1873\",\"type\":\"GlyphRenderer\"},{\"attributes\":{},\"id\":\"1953\",\"type\":\"AllLabels\"},{\"attributes\":{\"source\":{\"id\":\"1869\"}},\"id\":\"1874\",\"type\":\"CDSView\"},{\"attributes\":{\"fill_alpha\":{\"value\":0.1},\"fill_color\":{\"value\":\"blue\"},\"hatch_alpha\":{\"value\":0.1},\"line_alpha\":{\"value\":0.1},\"line_color\":{\"value\":\"#1f77b4\"},\"x\":{\"field\":\"x\"},\"y\":{\"field\":\"y\"}},\"id\":\"1871\",\"type\":\"Circle\"},{\"attributes\":{},\"id\":\"1850\",\"type\":\"WheelZoomTool\"},{\"attributes\":{},\"id\":\"1955\",\"type\":\"DatetimeTickFormatter\"},{\"attributes\":{\"months\":[0,4,8]},\"id\":\"1971\",\"type\":\"MonthsTicker\"},{\"attributes\":{},\"id\":\"1849\",\"type\":\"PanTool\"},{\"attributes\":{},\"id\":\"1854\",\"type\":\"HelpTool\"},{\"attributes\":{},\"id\":\"1956\",\"type\":\"AllLabels\"},{\"attributes\":{},\"id\":\"1852\",\"type\":\"SaveTool\"},{\"attributes\":{\"axis_label\":\"glocuse level\",\"coordinates\":null,\"formatter\":{\"id\":\"1952\"},\"group\":null,\"major_label_policy\":{\"id\":\"1953\"},\"ticker\":{\"id\":\"1846\"}},\"id\":\"1845\",\"type\":\"LinearAxis\"},{\"attributes\":{\"data\":{\"line_color\":[\"red\",\"black\"],\"xs\":[[1556150880000.0,1556151240000.0,1556152140000.0,1556153040000.0,1556153400000.0,1556153940000.0,1556154840000.0,1556155740000.0,1556156640000.0,1556157540000.0,1556158440000.0,1556159340000.0,1556160240000.0,1556161140000.0,1556162040000.0,1556162940000.0,1556163840000.0,1556164740000.0,1556165640000.0,1556166540000.0,1556167440000.0,1556168340000.0,1556169240000.0,1556170140000.0,1556171040000.0,1556171940000.0,1556172840000.0,1556173740000.0,1556174640000.0,1556175600000.0,1556175720000.0,1556176500000.0,1556177400000.0,1556177640000.0,1556178300000.0,1556179200000.0,1556180160000.0,1556180340000.0,1556181060000.0,1556181960000.0,1556182860000.0,1556183760000.0,1556184660000.0,1556185560000.0,1556186460000.0,1556187360000.0,1556188260000.0,1556189160000.0,1556190060000.0,1556190060000.0,1556190960000.0,1556191860000.0,1556192760000.0,1556193660000.0,1556194560000.0,1556195460000.0,1556196360000.0,1556197260000.0,1556198040000.0,1556198160000.0,1556201760000.0,1556201820000.0,1556202660000.0,1556203500000.0,1556204100000.0,1556204340000.0,1556204400000.0,1556205060000.0,1556205480000.0,1556205720000.0,1556206620000.0,1556206680000.0,1556207040000.0,1556207220000.0,1556207460000.0,1556207700000.0,1556208060000.0,1556208840000.0,1556209020000.0,1556209560000.0,1556209860000.0,1556210100000.0,1556211180000.0,1556211660000.0,1556212260000.0,1556212440000.0,1556212740000.0,1556212860000.0,1556212980000.0,1556213160000.0,1556213400000.0,1556213520000.0,1556213580000.0,1556213640000.0,1556214000000.0,1556214120000.0,1556214420000.0,1556214540000.0,1556214780000.0,1556215020000.0,1556215260000.0,1556215260000.0,1556215440000.0,1556215740000.0,1556215980000.0,1556216220000.0,1556218380000.0,1556218920000.0,1556219340000.0,1556219700000.0,1556219820000.0,1556220540000.0,1556220720000.0,1556221620000.0,1556222520000.0,1556223420000.0,1556224320000.0,1556225220000.0,1556226180000.0,1556226720000.0,1556227080000.0,1556227980000.0,1556228520000.0,1556228880000.0,1556229720000.0,1556229780000.0,1556230680000.0,1556231580000.0,1556231820000.0,1556232420000.0,1556232660000.0,1556233320000.0,1556234280000.0,1556235060000.0,1556235180000.0,1556236080000.0],[1556150880000.0,1556151240000.0,1556152140000.0,1556153040000.0,1556153400000.0,1556153940000.0,1556154840000.0,1556155740000.0,1556156640000.0,1556157540000.0,1556158440000.0,1556159340000.0,1556160240000.0,1556161140000.0,1556162040000.0,1556162940000.0,1556163840000.0,1556164740000.0,1556165640000.0,1556166540000.0,1556167440000.0,1556168340000.0,1556169240000.0,1556170140000.0,1556171040000.0,1556171940000.0,1556172840000.0,1556173740000.0,1556174640000.0,1556175600000.0,1556175720000.0,1556176500000.0,1556177400000.0,1556177640000.0,1556178300000.0,1556179200000.0,1556180160000.0,1556180340000.0,1556181060000.0,1556181960000.0,1556182860000.0,1556183760000.0,1556184660000.0,1556185560000.0,1556186460000.0,1556187360000.0,1556188260000.0,1556189160000.0,1556190060000.0,1556190060000.0,1556190960000.0,1556191860000.0,1556192760000.0,1556193660000.0,1556194560000.0,1556195460000.0,1556196360000.0,1556197260000.0,1556198040000.0,1556198160000.0,1556201760000.0,1556201820000.0,1556202660000.0,1556203500000.0,1556204100000.0,1556204340000.0,1556204400000.0,1556205060000.0,1556205480000.0,1556205720000.0,1556206620000.0,1556206680000.0,1556207040000.0,1556207220000.0,1556207460000.0,1556207700000.0,1556208060000.0,1556208840000.0,1556209020000.0,1556209560000.0,1556209860000.0,1556210100000.0,1556211180000.0,1556211660000.0,1556212260000.0,1556212440000.0,1556212740000.0,1556212860000.0,1556212980000.0,1556213160000.0,1556213400000.0,1556213520000.0,1556213580000.0,1556213640000.0,1556214000000.0,1556214120000.0,1556214420000.0,1556214540000.0,1556214780000.0,1556215020000.0,1556215260000.0,1556215260000.0,1556215440000.0,1556215740000.0,1556215980000.0,1556216220000.0,1556218380000.0,1556218920000.0,1556219340000.0,1556219700000.0,1556219820000.0,1556220540000.0,1556220720000.0,1556221620000.0,1556222520000.0,1556223420000.0,1556224320000.0,1556225220000.0,1556226180000.0,1556226720000.0,1556227080000.0,1556227980000.0,1556228520000.0,1556228880000.0,1556229720000.0,1556229780000.0,1556230680000.0,1556231580000.0,1556231820000.0,1556232420000.0,1556232660000.0,1556233320000.0,1556234280000.0,1556235060000.0,1556235180000.0,1556236080000.0]],\"ys\":[[109.0,109.0,109.0,109.0,109.0,109.0,109.0,109.0,109.0,109.0,109.0,109.0,109.0,109.0,109.0,109.0,123.0,123.0,123.0,123.0,123.0,123.0,123.0,123.0,123.0,123.0,123.0,123.0,123.0,123.0,123.0,123.0,158.0,158.0,158.0,158.0,158.0,158.0,158.0,158.0,158.0,158.0,139.0,139.0,139.0,139.0,139.0,139.0,139.0,139.0,139.0,139.0,139.0,139.0,151.0,151.0,151.0,151.0,151.0,151.0,129.0,129.0,129.0,161.0,184.0,178.0,178.0,121.0,111.0,106.0,91.0,97.0,106.0,106.0,97.0,86.0,86.0,114.0,114.0,129.0,129.0,118.0,118.0,115.0,105.0,109.0,107.0,111.0,120.0,137.0,134.0,134.0,129.0,125.0,122.0,124.0,124.0,127.0,121.0,123.0,122.0,122.0,124.0,126.0,128.0,128.0,110.0,110.0,128.0,116.0,116.0,106.0,106.0,106.0,106.0,106.0,151.0,151.0,151.0,151.0,151.0,126.0,126.0,126.0,130.0,130.0,130.0,114.0,114.0,114.0,106.0,106.0,111.0,111.0,\"NaN\",\"NaN\"],[109.0,112.93883514404297,116.63819885253906,120.09809112548828,123.31852722167969,126.29949951171875,129.041015625,131.54306030273438,133.80563354492188,135.82876586914062,137.61241149902344,139.15660095214844,140.46133422851562,141.52659606933594,142.35240173339844,142.93873596191406,143.28561401367188,143.39303588867188,143.26097106933594,142.88946533203125,142.2784881591797,141.42803955078125,140.338134765625,139.00877380371094,137.43994140625,135.6316375732422,133.58389282226562,131.29666137695312,128.7699737548828,126.00382995605469,123.0,124.80401611328125,136.47210693359375,158.0,182.73590087890625,204.01316833496094,221.83425903320312,236.19920349121094,247.10797119140625,254.56057739257812,258.5570373535156,259.0973205566406,256.1814270019531,249.8093719482422,239.9811553955078,226.69677734375,209.95623779296875,189.75953674316406,166.10665893554688,139.0,113.51301574707031,94.7333984375,82.6587905883789,77.28917694091797,78.62456512451172,86.66495513916016,101.41034698486328,122.86073303222656,151.0,169.56507873535156,162.19615173339844,129.0,113.94400024414062,161.0,184.0,178.0,178.0,121.0,111.0,106.0,91.0,97.0,106.0,106.0,97.0,86.0,92.63095092773438,114.0,131.62181091308594,129.0,120.34185028076172,118.0,118.0,115.0,105.0,109.0,107.0,111.0,120.0,137.0,134.0,126.71337890625,129.0,125.0,122.0,124.0,127.95563507080078,127.0,121.0,123.0,122.0,120.10088348388672,124.0,126.0,128.0,121.41618347167969,110.0,108.35638427734375,128.0,116.0,89.80825805664062,106.0,139.10682678222656,164.61087036132812,182.18991088867188,191.84393310546875,193.57296752929688,187.3769989013672,173.25601196289062,151.0,131.02870178222656,122.50171661376953,126.0,131.27635192871094,130.0,126.07392883300781,121.9169921875,117.83837127685547,114.0,109.91608428955078,106.0,104.08354949951172,105.72599792480469,111.0,119.90481567382812,132.44119262695312]]},\"selected\":{\"id\":\"1958\"},\"selection_policy\":{\"id\":\"1957\"}},\"id\":\"1863\",\"type\":\"ColumnDataSource\"},{\"attributes\":{},\"id\":\"1846\",\"type\":\"BasicTicker\"},{\"attributes\":{\"line_color\":{\"field\":\"line_color\"},\"line_width\":{\"value\":2},\"tags\":[\"label\",\"label\"],\"xs\":{\"field\":\"xs\"},\"ys\":{\"field\":\"ys\"}},\"id\":\"1864\",\"type\":\"MultiLine\"},{\"attributes\":{\"axis_label\":\"time\",\"coordinates\":null,\"formatter\":{\"id\":\"1955\"},\"group\":null,\"major_label_policy\":{\"id\":\"1956\"},\"ticker\":{\"id\":\"1842\"}},\"id\":\"1841\",\"type\":\"DatetimeAxis\"},{\"attributes\":{\"axis\":{\"id\":\"1845\"},\"coordinates\":null,\"dimension\":1,\"group\":null,\"ticker\":null},\"id\":\"1848\",\"type\":\"Grid\"},{\"attributes\":{},\"id\":\"1957\",\"type\":\"UnionRenderers\"},{\"attributes\":{\"overlay\":{\"id\":\"1855\"}},\"id\":\"1851\",\"type\":\"BoxZoomTool\"},{\"attributes\":{},\"id\":\"1853\",\"type\":\"ResetTool\"},{\"attributes\":{},\"id\":\"1958\",\"type\":\"Selection\"},{\"attributes\":{\"line_alpha\":{\"value\":0.1},\"line_color\":{\"field\":\"line_color\"},\"line_width\":{\"value\":2},\"tags\":[\"label\",\"label\"],\"xs\":{\"field\":\"xs\"},\"ys\":{\"field\":\"ys\"}},\"id\":\"1865\",\"type\":\"MultiLine\"},{\"attributes\":{\"mantissas\":[1,2,5],\"max_interval\":500.0,\"num_minor_ticks\":0},\"id\":\"1962\",\"type\":\"AdaptiveTicker\"},{\"attributes\":{\"tools\":[{\"id\":\"1849\"},{\"id\":\"1850\"},{\"id\":\"1851\"},{\"id\":\"1852\"},{\"id\":\"1853\"},{\"id\":\"1854\"}]},\"id\":\"1856\",\"type\":\"Toolbar\"},{\"attributes\":{\"data\":{\"x\":{\"__ndarray__\":\"AABwIB2ldkIAAFR4HaV2QgAADlQepXZCAADILx+ldkIAAKyHH6V2QgAAggsgpXZCAAA85yCldkIAAPbCIaV2QgAAsJ4ipXZCAABqeiOldkIAACRWJKV2QgAA3jElpXZCAACYDSaldkIAAFLpJqV2QgAADMUnpXZCAADGoCildkIAAIB8KaV2QgAAOlgqpXZCAAD0MyuldkIAAK4PLKV2QgAAaOsspXZCAAAixy2ldkIAANyiLqV2QgAAln4vpXZCAABQWjCldkIAAAo2MaV2QgAAxBEypXZCAAB+7TKldkIAADjJM6V2QgAAmLM0pXZCAADk0DSldkIAAFKPNaV2QgAADGs2pXZCAACkpTaldkIAAMZGN6V2QgAAgCI4pXZCAADgDDmldkIAANI4OaV2QgAAmug5pXZCAABUxDqldkIAAA6gO6V2QgAAyHs8pXZCAACCVz2ldkIAADwzPqV2QgAA9g4/pXZCAACw6j+ldkIAAGrGQKV2QgAAJKJBpXZCAADefUKldkIAAN59QqV2QgAAmFlDpXZCAABSNUSldkIAAAwRRaV2QgAAxuxFpXZCAACAyEaldkIAADqkR6V2QgAA9H9IpXZCAACuW0mldkIAABwaSqV2QgAAaDdKpXZCAABQpk2ldkIAAPa0TaV2QgAACoJOpXZCAAAeT0+ldkIAAJrhT6V2QgAAMhxQpXZCAADYKlCldkIAAPrLUKV2QgAAhDJRpXZCAAAcbVGldkIAANZIUqV2QgAAfFdSpXZCAABgr1KldkIAAFLbUqV2QgAA6hVTpXZCAACCUFOldkIAAGaoU6V2QgAA1GZUpXZCAADGklSldkIAAJwWVaV2QgAA2l9VpXZCAABymlWldkIAAB6iVqV2QgAAThdXpXZCAADKqVeldkIAALzVV6V2QgAA+h5YpXZCAABGPFildkIAAJJZWKV2QgAAhIVYpXZCAAAcwFildkIAAGjdWKV2QgAADuxYpXZCAAC0+lildkIAAJhSWaV2QgAA5G9ZpXZCAAAiuVmldkIAAG7WWaV2QgAABhFapXZCAACeS1qldkIAADaGWqV2QgAANoZapXZCAAAoslqldkIAAGb7WqV2QgAA/jVbpXZCAACWcFuldkIAAO5/XaV2QgAAxANepXZCAABOal6ldkIAADLCXqV2QgAAft9epXZCAABGj1+ldkIAADi7X6V2QgAA8pZgpXZCAACscmGldkIAAGZOYqV2QgAAICpjpXZCAADaBWSldkIAADrwZKV2QgAAEHRlpXZCAAD0y2WldkIAAK6nZqV2QgAAhCtnpXZCAABog2eldkIAAHxQaKV2QgAAIl9opXZCAADcOmmldkIAAJYWaqV2QgAALlFqpXZCAACq42qldkIAAEIea6V2QgAAZL9rpXZCAADEqWyldkIAADJobaV2QgAAfoVtpXZCAAA4YW6ldkI=\",\"dtype\":\"float64\",\"order\":\"little\",\"shape\":[136]},\"y\":{\"__ndarray__\":\"AAAAAABAW0AAAAAAAAD4fwAAAAAAAPh/AAAAAAAA+H8AAAAAAAD4fwAAAAAAAPh/AAAAAAAA+H8AAAAAAAD4fwAAAAAAAPh/AAAAAAAA+H8AAAAAAAD4fwAAAAAAAPh/AAAAAAAA+H8AAAAAAAD4fwAAAAAAAPh/AAAAAAAA+H8AAAAAAAD4fwAAAAAAAPh/AAAAAAAA+H8AAAAAAAD4fwAAAAAAAPh/AAAAAAAA+H8AAAAAAAD4fwAAAAAAAPh/AAAAAAAA+H8AAAAAAAD4fwAAAAAAAPh/AAAAAAAA+H8AAAAAAAD4fwAAAAAAAPh/AAAAAADAXkAAAAAAAAD4fwAAAAAAAPh/AAAAAADAY0AAAAAAAAD4fwAAAAAAAPh/AAAAAAAA+H8AAAAAAAD4fwAAAAAAAPh/AAAAAAAA+H8AAAAAAAD4fwAAAAAAAPh/AAAAAAAA+H8AAAAAAAD4fwAAAAAAAPh/AAAAAAAA+H8AAAAAAAD4fwAAAAAAAPh/AAAAAAAA+H8AAAAAAGBhQAAAAAAAAPh/AAAAAAAA+H8AAAAAAAD4fwAAAAAAAPh/AAAAAAAA+H8AAAAAAAD4fwAAAAAAAPh/AAAAAAAA+H8AAAAAAOBiQAAAAAAAAPh/AAAAAAAA+H8AAAAAACBgQAAAAAAAAPh/AAAAAAAgZEAAAAAAAABnQAAAAAAAQGZAAAAAAABAZkAAAAAAAEBeQAAAAAAAwFtAAAAAAACAWkAAAAAAAMBWQAAAAAAAQFhAAAAAAACAWkAAAAAAAIBaQAAAAAAAQFhAAAAAAACAVUAAAAAAAAD4fwAAAAAAgFxAAAAAAAAA+H8AAAAAACBgQAAAAAAAAPh/AAAAAACAXUAAAAAAAIBdQAAAAAAAwFxAAAAAAABAWkAAAAAAAEBbQAAAAAAAwFpAAAAAAADAW0AAAAAAAABeQAAAAAAAIGFAAAAAAADAYEAAAAAAAAD4fwAAAAAAIGBAAAAAAABAX0AAAAAAAIBeQAAAAAAAAF9AAAAAAAAA+H8AAAAAAMBfQAAAAAAAQF5AAAAAAADAXkAAAAAAAIBeQAAAAAAAAPh/AAAAAAAAX0AAAAAAAIBfQAAAAAAAAGBAAAAAAAAA+H8AAAAAAIBbQAAAAAAAAPh/AAAAAAAAYEAAAAAAAABdQAAAAAAAAPh/AAAAAACAWkAAAAAAAAD4fwAAAAAAAPh/AAAAAAAA+H8AAAAAAAD4fwAAAAAAAPh/AAAAAAAA+H8AAAAAAAD4fwAAAAAA4GJAAAAAAAAA+H8AAAAAAAD4fwAAAAAAgF9AAAAAAAAA+H8AAAAAAEBgQAAAAAAAAPh/AAAAAAAA+H8AAAAAAAD4fwAAAAAAgFxAAAAAAAAA+H8AAAAAAIBaQAAAAAAAAPh/AAAAAAAA+H8AAAAAAMBbQAAAAAAAAPh/AAAAAAAA+H8=\",\"dtype\":\"float64\",\"order\":\"little\",\"shape\":[136]}},\"selected\":{\"id\":\"1960\"},\"selection_policy\":{\"id\":\"1959\"}},\"id\":\"1869\",\"type\":\"ColumnDataSource\"},{\"attributes\":{\"base\":60,\"mantissas\":[1,2,5,10,15,20,30],\"max_interval\":1800000.0,\"min_interval\":1000.0,\"num_minor_ticks\":0},\"id\":\"1963\",\"type\":\"AdaptiveTicker\"},{\"attributes\":{\"base\":24,\"mantissas\":[1,2,4,6,8,12],\"max_interval\":43200000.0,\"min_interval\":3600000.0,\"num_minor_ticks\":0},\"id\":\"1964\",\"type\":\"AdaptiveTicker\"},{\"attributes\":{\"coordinates\":null,\"group\":null,\"text\":\"glocuse vs. time\"},\"id\":\"1831\",\"type\":\"Title\"},{\"attributes\":{},\"id\":\"1973\",\"type\":\"YearsTicker\"},{\"attributes\":{\"axis\":{\"id\":\"1841\"},\"coordinates\":null,\"group\":null,\"ticker\":null},\"id\":\"1844\",\"type\":\"Grid\"},{\"attributes\":{\"source\":{\"id\":\"1863\"}},\"id\":\"1868\",\"type\":\"CDSView\"},{\"attributes\":{},\"id\":\"1959\",\"type\":\"UnionRenderers\"},{\"attributes\":{\"bottom_units\":\"screen\",\"coordinates\":null,\"fill_alpha\":0.5,\"fill_color\":\"lightgrey\",\"group\":null,\"left_units\":\"screen\",\"level\":\"overlay\",\"line_alpha\":1.0,\"line_color\":\"black\",\"line_dash\":[4,4],\"line_width\":2,\"right_units\":\"screen\",\"syncable\":false,\"top_units\":\"screen\"},\"id\":\"1855\",\"type\":\"BoxAnnotation\"},{\"attributes\":{\"months\":[0,1,2,3,4,5,6,7,8,9,10,11]},\"id\":\"1969\",\"type\":\"MonthsTicker\"},{\"attributes\":{},\"id\":\"1833\",\"type\":\"DataRange1d\"},{\"attributes\":{\"days\":[1,15]},\"id\":\"1968\",\"type\":\"DaysTicker\"},{\"attributes\":{\"fill_color\":{\"value\":\"blue\"},\"line_color\":{\"value\":\"#1f77b4\"},\"x\":{\"field\":\"x\"},\"y\":{\"field\":\"y\"}},\"id\":\"1870\",\"type\":\"Circle\"},{\"attributes\":{\"days\":[1,2,3,4,5,6,7,8,9,10,11,12,13,14,15,16,17,18,19,20,21,22,23,24,25,26,27,28,29,30,31]},\"id\":\"1965\",\"type\":\"DaysTicker\"},{\"attributes\":{\"days\":[1,4,7,10,13,16,19,22,25,28]},\"id\":\"1966\",\"type\":\"DaysTicker\"},{\"attributes\":{\"days\":[1,8,15,22]},\"id\":\"1967\",\"type\":\"DaysTicker\"},{\"attributes\":{\"months\":[0,6]},\"id\":\"1972\",\"type\":\"MonthsTicker\"},{\"attributes\":{\"months\":[0,2,4,6,8,10]},\"id\":\"1970\",\"type\":\"MonthsTicker\"},{\"attributes\":{},\"id\":\"1839\",\"type\":\"LinearScale\"},{\"attributes\":{},\"id\":\"1960\",\"type\":\"Selection\"},{\"attributes\":{},\"id\":\"1837\",\"type\":\"LinearScale\"}],\"root_ids\":[\"1830\"]},\"title\":\"Bokeh Application\",\"version\":\"2.4.3\"}};\n  const render_items = [{\"docid\":\"51c58518-aab6-4eba-b5ca-82c694825827\",\"root_ids\":[\"1830\"],\"roots\":{\"1830\":\"049f55dd-d904-4323-a1a2-a22b4c274aba\"}}];\n  root.Bokeh.embed.embed_items_notebook(docs_json, render_items);\n  }\n  if (root.Bokeh !== undefined) {\n    embed_document(root);\n  } else {\n    let attempts = 0;\n    const timer = setInterval(function(root) {\n      if (root.Bokeh !== undefined) {\n        clearInterval(timer);\n        embed_document(root);\n      } else {\n        attempts++;\n        if (attempts > 100) {\n          clearInterval(timer);\n          console.log(\"Bokeh: ERROR: Unable to run BokehJS code because BokehJS library is missing\");\n        }\n      }\n    }, 10, root)\n  }\n})(window);",
      "application/vnd.bokehjs_exec.v0+json": ""
     },
     "metadata": {
      "application/vnd.bokehjs_exec.v0+json": {
       "id": "1830"
      }
     },
     "output_type": "display_data"
    }
   ],
   "source": [
    "interpolateMethods = pd.Series(['linear','akima', 'barycentric', 'cubic', 'cubispline', 'from_derivates', 'index',\n",
    "                                'krogh', 'nearest', 'pad', 'pchip', 'piecewise_polynomial', 'polynomial',\n",
    "                                'quadric', 'slinear', 'spline', 'time', 'zero', 'bfill', 'pad', 'ffill'])\n",
    "\n",
    "inter_plot = pn.interact(renderPlot, x=interpolateMethods, y= interpolateMethods)\n",
    "inter_plot"
   ]
  },
  {
   "cell_type": "markdown",
   "metadata": {},
   "source": [
    "*the red line is first interpolated glocuse level, the black line is \n",
    "the second interpolated glocuse level and the blue circles are the original data*"
   ]
  },
  {
   "cell_type": "code",
   "execution_count": 18,
   "metadata": {},
   "outputs": [
    {
     "data": {
      "text/plain": [
       "time\n",
       "2019-04-25 00:08:00   NaN\n",
       "2019-04-25 00:14:00   NaN\n",
       "2019-04-25 00:29:00   NaN\n",
       "2019-04-25 00:44:00   NaN\n",
       "2019-04-25 00:50:00   NaN\n",
       "                       ..\n",
       "2019-04-25 23:02:00   NaN\n",
       "2019-04-25 23:18:00   NaN\n",
       "2019-04-25 23:31:00   NaN\n",
       "2019-04-25 23:33:00   NaN\n",
       "2019-04-25 23:48:00   NaN\n",
       "Name: glucose, Length: 136, dtype: float64"
      ]
     },
     "execution_count": 18,
     "metadata": {},
     "output_type": "execute_result"
    }
   ],
   "source": [
    "rollingMean = pd.Series(df['glucose'], index=df['time'])\n",
    "rollingMean = rollingMean.rolling(window='1H').mean()\n",
    "rollingMean"
   ]
  }
 ],
 "metadata": {
  "kernelspec": {
   "display_name": "Python 3",
   "language": "python",
   "name": "python3"
  },
  "language_info": {
   "codemirror_mode": {
    "name": "ipython",
    "version": 3
   },
   "file_extension": ".py",
   "mimetype": "text/x-python",
   "name": "python",
   "nbconvert_exporter": "python",
   "pygments_lexer": "ipython3",
   "version": "3.11.1"
  }
 },
 "nbformat": 4,
 "nbformat_minor": 4
}
