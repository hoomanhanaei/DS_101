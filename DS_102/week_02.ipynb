{
 "cells": [
  {
   "cell_type": "markdown",
   "metadata": {},
   "source": [
    "# Week 02 Assignment glucose level data\n",
    "\n",
    "\n",
    "Missing data occurs commonly in many data applications. Especially wearable sensor devices encounter measurement errors resulting in missing data. Although pandas can handle missing data, for instance, to exclude missing data in the descriptive analysis, we might decide to reshape our data to improve quality. We might consider excluding certain rows, columns, or decide to impute our data if we take an argumentative approach. This week we will work with sensor data of a semester 01 project. The data is timeseries related but a lot of sensor errors occurred. First, we inspect the quality data. Then we will work with imputation, interpolation, and smoothing techniques to overcome this issue of the error readings. Finaly we plot the data. Visualization is a method to translate data into information. As a data scientist you should be able to choose an appropiate visualizations. \n",
    "\n",
    "\n",
    "Keywords: data loading, data inspection, data exploration, data cleaning, impute data, missing data, timeseries, pandas, visualization, interactive plots, overflow/underflow error\n",
    "\n",
    "More to read\n",
    "- https://fennaf.gitbook.io/bfvm22prog1/\n",
    "- https://towardsdatascience.com/how-to-analyze-blood-glucose-data-with-python-data-science-packages-4f160f9564be\n",
    "\n",
    "\n",
    "More about pandas and bokeh programming\n",
    "- https://pandas.pydata.org/pandas-docs/stable/reference/api/pandas.DataFrame.interpolate.html\n",
    "- https://rubberduckdebugging.com/\n",
    "- https://docs.bokeh.org/en/latest/docs/gallery.html\n",
    "\n",
    "\n",
    "Learning objectives\n",
    "\n",
    "- Further practice numpy / pandas\n",
    "- Read, inspect, clean, and impute JSON data. Handle missing data\n",
    "- Apply different interpolation/smoothing techniques\n",
    "- Recognize overflow/underflow error\n",
    "- Perform visual and statistical analysis for time series data\n",
    "- Maintain development environment \n",
    "- Apply coding standards and FAIR principles\n",
    "\n",
    "\n",
    "Note: you can bring your own sensor data, but for the practical you need some missing data points. \n",
    "\n",
    "By the end of this week the student can:\n",
    "\n",
    "- load a json dataset \n",
    "- typecast the Pandas DataFrame to appropiate data types\n",
    "- inspect the dataset for quality and metadata information\n",
    "- add a column with interpolated data in Pandas DataFrame\n",
    "- perform visual analysis\n",
    "\n",
    "please add your own topics you want to learn here: https://padlet.com/ffeenstra1/69vbvy0l8t32rq55\n",
    "\n",
    "\n",
    "The assignment consists of 6 parts:\n",
    "\n",
    "- [part 1: load the data](#0)\n",
    "     - [Exercise 1.1](#ex-11)\n",
    "- [part 2: prepare for inspection](#1)\n",
    "     - [Exercise 2.1](#ex-21)\n",
    "- [part 3: inspect the data](#2)\n",
    "     - [Exercise 3.1](#ex-31)\n",
    "- [part 4: interpolate the data](#3)\n",
    "     - [Exercise 4.1](#ex-41)\n",
    "- [part 5: visualize the data](#4)\n",
    "     - [Exercise 5.1](#ex-51)\n",
    "- [part 6: Challenge](#5)\n",
    "     - [Exercise 6.1](#ex-61)\n",
    "\n",
    "Part 1 and 5 are mandatory, part 6 is optional (bonus)\n",
    "Mind you that you cannot copy code without referencing the code. If you copy code you need to be able to explain your code verbally and you will not get the full score. \n"
   ]
  },
  {
   "cell_type": "markdown",
   "metadata": {},
   "source": [
    "<a name='0'></a>\n",
    "## Part 1: Load the data\n",
    "\n",
    "Instructions: Load the json datafile `glucose.json` into a pandas dataframe. Check your dataframe with a `.head()` to compare with the expected outcome. \n",
    "\n",
    "Preferably we read the data not with a hard coded data path but using a config file. See https://fennaf.gitbook.io/bfvm22prog1/data-processing/configuration-files/yaml\n",
    "\n",
    "<details>    \n",
    "<summary>\n",
    "    <font size=\"3\" color=\"darkgreen\"><b>Hints</b></font>\n",
    "</summary>\n",
    "<ul><li>json.load() method reads a file, pd.read_json converts it to a Pandas DataFrame</li>\n",
    "    <li>when loading into a Pandas DataFrame use records orientation </li>\n",
    "</ul>\n",
    "</details>\n",
    "\n",
    "<a name='ex-11'></a>\n",
    "### Code your solution"
   ]
  },
  {
   "cell_type": "code",
   "execution_count": 1,
   "metadata": {},
   "outputs": [
    {
     "name": "stdout",
     "output_type": "stream",
     "text": [
      "2.2.3\n",
      "2.2.3\n"
     ]
    }
   ],
   "source": [
    "import pandas as pd\n",
    "print(pd.__version__)\n",
    "import numpy as np\n",
    "print(np.__version__)\n",
    "import json as jsn\n",
    "# import panel as pn\n",
    "import yaml\n",
    "from io import StringIO"
   ]
  },
  {
   "cell_type": "code",
   "execution_count": 2,
   "metadata": {},
   "outputs": [],
   "source": [
    "def configReader(config_path):\n",
    "    \"\"\"\n",
    "    This function opens config.yaml file \n",
    "    and fetches the file's data.\n",
    "    input: configue file path\n",
    "    output: configue file\n",
    "    \"\"\"\n",
    "    with open(config_path, \"r\") as file:\n",
    "        config = yaml.safe_load(file)\n",
    "    return config"
   ]
  },
  {
   "cell_type": "code",
   "execution_count": 3,
   "metadata": {},
   "outputs": [
    {
     "name": "stdout",
     "output_type": "stream",
     "text": [
      "dict_keys(['dir_path', 'eeg', 'glucose'])\n"
     ]
    }
   ],
   "source": [
    "# Parsing the config file.\n",
    "config = configReader(\"../config/config.yaml\")\n",
    "print(config.keys())\n",
    "# config.values()"
   ]
  },
  {
   "cell_type": "code",
   "execution_count": 4,
   "metadata": {},
   "outputs": [
    {
     "name": "stdout",
     "output_type": "stream",
     "text": [
      "       ID              time  recordtype glucose\n",
      "0  2845.0  2019-04-25 00:08           1     109\n",
      "1  2850.0  2019-04-25 00:50           1        \n",
      "2  2877.0  2019-04-25 07:02           1     123\n",
      "3  2881.0  2019-04-25 07:34           1     158\n",
      "4  2886.0  2019-04-25 08:19           1        \n"
     ]
    }
   ],
   "source": [
    "# opening and reading the json file from config. \n",
    "glucose_json = open(f\"{config['dir_path']}/{config['glucose']}\")\n",
    "# glucose_json.read()\n",
    "\n",
    "# Deserializing json file to make it ready for tabular format. (parsing)\n",
    "glucose_data = jsn.load(glucose_json)\n",
    "\n",
    "# to avoide the following\n",
    "\"\"\"\n",
    "Pandas Warning: \n",
    "FutureWarning: Passing literal json to 'read_json' is deprecated\\\n",
    "and will be removed in a future version.\n",
    "To read from a literal string, wrap it in a 'StringIO' object.\n",
    "\"\"\"\n",
    "# wrap the json in stringio object\n",
    "json_buffer = StringIO(glucose_data)\n",
    "\n",
    "# Creating a DataFrame from the json file.\n",
    "glucose_df = pd.read_json(json_buffer)\n",
    "print(glucose_df.head())"
   ]
  },
  {
   "cell_type": "code",
   "execution_count": 5,
   "metadata": {},
   "outputs": [
    {
     "name": "stdout",
     "output_type": "stream",
     "text": [
      "Shape:\n",
      "(136, 4)\n",
      "\n",
      "Columns:\n",
      "Index(['ID', 'time', 'recordtype', 'glucose'], dtype='object')\n",
      "\n",
      "Data Types:\n",
      "ID            float64\n",
      "time           object\n",
      "recordtype      int64\n",
      "glucose        object\n",
      "dtype: object\n"
     ]
    }
   ],
   "source": [
    "# Inspecting the DataFrame.\n",
    "print(f\"Shape:\\n{glucose_df.shape}\")\n",
    "print(f\"\\nColumns:\\n{glucose_df.columns}\")\n",
    "print(f\"\\nData Types:\\n{glucose_df.dtypes}\")"
   ]
  },
  {
   "cell_type": "markdown",
   "metadata": {},
   "source": [
    "#### Expected outcome: "
   ]
  },
  {
   "cell_type": "raw",
   "metadata": {},
   "source": [
    "       ID              time  recordtype glucose\n",
    "0  2845.0  2019-04-25 00:08           1     109\n",
    "1  2850.0  2019-04-25 00:50           1        \n",
    "2  2877.0  2019-04-25 07:02           1     123\n",
    "3  2881.0  2019-04-25 07:34           1     158\n",
    "4  2886.0  2019-04-25 08:19           1        "
   ]
  },
  {
   "cell_type": "markdown",
   "metadata": {},
   "source": [
    "<a name='1'></a>\n",
    "## Part 2: Prepare the data\n",
    "\n",
    "Check the datatypes of your dataframe.\n",
    "- The `glucose` field should be an integer.\n",
    "- the `time` field should have a datetime format.\n",
    "- If the datatypes are different you should typecast them to the right format.\n",
    "- Make sure that your dataset is sorted by the time column.\n",
    "\n",
    "\n",
    "<details>    \n",
    "<summary>\n",
    "    <font size=\"3\" color=\"darkgreen\"><b>Hints</b></font>\n",
    "</summary>\n",
    "<ul><li>use astype() method or pandas.DataFrame.to_datetime() for instance</li>\n",
    "    <li>make sure that the empty spaces are filled with NaN. Use errors='coerce'</li>\n",
    "    <li>set_index(), sort_index() and reset_index() are helpful to sort on index</li>\n",
    "</ul>\n",
    "</details>\n",
    "\n",
    "<a name='ex-21'></a>\n",
    "### Code your solution"
   ]
  },
  {
   "cell_type": "code",
   "execution_count": 6,
   "metadata": {},
   "outputs": [
    {
     "name": "stdout",
     "output_type": "stream",
     "text": [
      "\n",
      "Data Types:\n",
      "ID                   float64\n",
      "time          datetime64[ns]\n",
      "recordtype             int64\n",
      "glucose              float64\n",
      "dtype: object\n"
     ]
    }
   ],
   "source": [
    "# Typecasting the 'time' column to datetime.\n",
    "glucose_df['time'] = pd.to_datetime(glucose_df['time'])\n",
    "\n",
    "# Typecasting the 'glucose' column to integer.\n",
    "# glucose_df['glucose'] = glucose_df['glucose'].astype(int, errors='ignore')\n",
    "glucose_df['glucose'] = pd.to_numeric(glucose_df['glucose'], errors='coerce').astype('float')\n",
    "\n",
    "# Typecasting the 'ID' column to integer.\n",
    "# glucose_df['ID'] = pd.to_numeric(glucose_df['ID'], errors='coerce').astype('Int64')\n",
    "print(f\"\\nData Types:\\n{glucose_df.dtypes}\")"
   ]
  },
  {
   "cell_type": "code",
   "execution_count": 7,
   "metadata": {},
   "outputs": [
    {
     "data": {
      "text/html": [
       "<div>\n",
       "<style scoped>\n",
       "    .dataframe tbody tr th:only-of-type {\n",
       "        vertical-align: middle;\n",
       "    }\n",
       "\n",
       "    .dataframe tbody tr th {\n",
       "        vertical-align: top;\n",
       "    }\n",
       "\n",
       "    .dataframe thead th {\n",
       "        text-align: right;\n",
       "    }\n",
       "</style>\n",
       "<table border=\"1\" class=\"dataframe\">\n",
       "  <thead>\n",
       "    <tr style=\"text-align: right;\">\n",
       "      <th></th>\n",
       "      <th>time</th>\n",
       "      <th>ID</th>\n",
       "      <th>recordtype</th>\n",
       "      <th>glucose</th>\n",
       "    </tr>\n",
       "  </thead>\n",
       "  <tbody>\n",
       "    <tr>\n",
       "      <th>0</th>\n",
       "      <td>2019-04-25 00:08:00</td>\n",
       "      <td>2.845000e+03</td>\n",
       "      <td>1</td>\n",
       "      <td>109.0</td>\n",
       "    </tr>\n",
       "    <tr>\n",
       "      <th>1</th>\n",
       "      <td>2019-04-25 00:14:00</td>\n",
       "      <td>1.614305e+19</td>\n",
       "      <td>0</td>\n",
       "      <td>NaN</td>\n",
       "    </tr>\n",
       "    <tr>\n",
       "      <th>2</th>\n",
       "      <td>2019-04-25 00:29:00</td>\n",
       "      <td>1.614305e+19</td>\n",
       "      <td>0</td>\n",
       "      <td>NaN</td>\n",
       "    </tr>\n",
       "    <tr>\n",
       "      <th>3</th>\n",
       "      <td>2019-04-25 00:44:00</td>\n",
       "      <td>1.614305e+19</td>\n",
       "      <td>0</td>\n",
       "      <td>NaN</td>\n",
       "    </tr>\n",
       "    <tr>\n",
       "      <th>4</th>\n",
       "      <td>2019-04-25 00:50:00</td>\n",
       "      <td>2.850000e+03</td>\n",
       "      <td>1</td>\n",
       "      <td>NaN</td>\n",
       "    </tr>\n",
       "    <tr>\n",
       "      <th>...</th>\n",
       "      <td>...</td>\n",
       "      <td>...</td>\n",
       "      <td>...</td>\n",
       "      <td>...</td>\n",
       "    </tr>\n",
       "    <tr>\n",
       "      <th>131</th>\n",
       "      <td>2019-04-25 23:02:00</td>\n",
       "      <td>1.614305e+19</td>\n",
       "      <td>0</td>\n",
       "      <td>NaN</td>\n",
       "    </tr>\n",
       "    <tr>\n",
       "      <th>132</th>\n",
       "      <td>2019-04-25 23:18:00</td>\n",
       "      <td>1.614305e+19</td>\n",
       "      <td>0</td>\n",
       "      <td>NaN</td>\n",
       "    </tr>\n",
       "    <tr>\n",
       "      <th>133</th>\n",
       "      <td>2019-04-25 23:31:00</td>\n",
       "      <td>3.062000e+03</td>\n",
       "      <td>1</td>\n",
       "      <td>111.0</td>\n",
       "    </tr>\n",
       "    <tr>\n",
       "      <th>134</th>\n",
       "      <td>2019-04-25 23:33:00</td>\n",
       "      <td>1.614305e+19</td>\n",
       "      <td>0</td>\n",
       "      <td>NaN</td>\n",
       "    </tr>\n",
       "    <tr>\n",
       "      <th>135</th>\n",
       "      <td>2019-04-25 23:48:00</td>\n",
       "      <td>1.614305e+19</td>\n",
       "      <td>0</td>\n",
       "      <td>NaN</td>\n",
       "    </tr>\n",
       "  </tbody>\n",
       "</table>\n",
       "<p>136 rows × 4 columns</p>\n",
       "</div>"
      ],
      "text/plain": [
       "                   time            ID  recordtype  glucose\n",
       "0   2019-04-25 00:08:00  2.845000e+03           1    109.0\n",
       "1   2019-04-25 00:14:00  1.614305e+19           0      NaN\n",
       "2   2019-04-25 00:29:00  1.614305e+19           0      NaN\n",
       "3   2019-04-25 00:44:00  1.614305e+19           0      NaN\n",
       "4   2019-04-25 00:50:00  2.850000e+03           1      NaN\n",
       "..                  ...           ...         ...      ...\n",
       "131 2019-04-25 23:02:00  1.614305e+19           0      NaN\n",
       "132 2019-04-25 23:18:00  1.614305e+19           0      NaN\n",
       "133 2019-04-25 23:31:00  3.062000e+03           1    111.0\n",
       "134 2019-04-25 23:33:00  1.614305e+19           0      NaN\n",
       "135 2019-04-25 23:48:00  1.614305e+19           0      NaN\n",
       "\n",
       "[136 rows x 4 columns]"
      ]
     },
     "execution_count": 7,
     "metadata": {},
     "output_type": "execute_result"
    }
   ],
   "source": [
    "# Creating a copy of the DataFrame.\n",
    "ndf_glucose = glucose_df.copy()\n",
    "# re-aranging the columns. Sorting the DataFrame by 'time'.\n",
    "ndf_glucose = ndf_glucose[['time'] + [col for col in ndf_glucose.columns if col != 'time']]\n",
    "ndf_glucose = ndf_glucose.sort_values(by='time').reset_index(drop=True)\n",
    "ndf_glucose"
   ]
  },
  {
   "cell_type": "markdown",
   "metadata": {},
   "source": [
    "#### Expected outcome: "
   ]
  },
  {
   "cell_type": "raw",
   "metadata": {},
   "source": [
    "ID                     int64\n",
    "time          datetime64[ns]\n",
    "recordtype             int64\n",
    "glucose              float64\n",
    "dtype: object"
   ]
  },
  {
   "cell_type": "markdown",
   "metadata": {},
   "source": [
    "<a name='2'></a>\n",
    "## Part 3: Inspect the data\n",
    "\n",
    "Now that we prepared the data we are going to inspect the data to get more familiar with the data. You can answer the questions below but feel free to explore the data further by plotting and or statistics, group by overviews and so on. \n",
    "\n",
    "To be answered at least:\n",
    "- what is the quantity of the data (observations and features)\n",
    "- what is the percentage missing data for glucose?\n",
    "- is there a specific pattern for glucose value and recordtype?\n",
    "- what is the time range?\n",
    "\n",
    "Code the solutions to your answers. Create meaningful overviews or statistics\n",
    "\n",
    "<details>    \n",
    "<summary>\n",
    "    <font size=\"3\" color=\"darkgreen\"><b>Hints</b></font>\n",
    "</summary>\n",
    "<ul><li>In the week 01 assignment some functions were explained to inspect missing values</li>\n",
    "    <li>In the week 01 assignment some functions were explained to groupby value</li>\n",
    "</ul>\n",
    "</details>\n",
    "\n",
    "<a name='ex-31'></a>\n",
    "### Code your solution"
   ]
  },
  {
   "cell_type": "code",
   "execution_count": 8,
   "metadata": {},
   "outputs": [
    {
     "name": "stdout",
     "output_type": "stream",
     "text": [
      "Basic statistical summaries of numerical columns:\n",
      "                          ID  recordtype  glucose\n",
      "count                  136.0       136.0     52.0\n",
      "mean   9733307937665581056.0         0.4    123.4\n",
      "std    7927805510548373504.0         0.5     20.7\n",
      "min                   2845.0         0.0     86.0\n",
      "25%                   2991.5         0.0    109.8\n",
      "50%   16143047311250231296.0         0.0    121.5\n",
      "75%   16143047311250231296.0         1.0    129.0\n",
      "max   16143047311250233344.0         1.0    184.0\n"
     ]
    }
   ],
   "source": [
    "# Inspecting the DataFrame by isolating numerical columns.\n",
    "num_cols = ndf_glucose.select_dtypes(include=['number'])\n",
    "\n",
    "\n",
    "# number of decimals set to 1 to prevent the dataset getting crowded with decimals.\n",
    "pd.set_option('display.float_format', '{:.1f}'.format)\n",
    "# Basic statistical summaries of numerical columns.\n",
    "print(f\"Basic statistical summaries of numerical columns:\\n{num_cols.describe()}\")"
   ]
  },
  {
   "cell_type": "code",
   "execution_count": 9,
   "metadata": {},
   "outputs": [
    {
     "name": "stdout",
     "output_type": "stream",
     "text": [
      "Missing values:\n",
      "time           0\n",
      "ID             0\n",
      "recordtype     0\n",
      "glucose       84\n",
      "dtype: int64\n",
      "\n",
      "Percentage of missing values:\n",
      "time          0.0\n",
      "ID            0.0\n",
      "recordtype    0.0\n",
      "glucose      61.8\n",
      "dtype: float64\n",
      "\n",
      "Number of duplicates: (0)\n"
     ]
    }
   ],
   "source": [
    "# Checking for missing values.\n",
    "print(f\"Missing values:\\n{ndf_glucose.isnull().sum()}\")\n",
    "\n",
    "# Percentage of missing values.\n",
    "print(f\"\\nPercentage of missing values:\\n{ndf_glucose.isnull().mean() * 100}\")\n",
    "\n",
    "# Checking for duplicates.\n",
    "print(f\"\\nNumber of duplicates: ({ndf_glucose.duplicated().sum()})\")"
   ]
  },
  {
   "cell_type": "code",
   "execution_count": 10,
   "metadata": {},
   "outputs": [
    {
     "name": "stdout",
     "output_type": "stream",
     "text": [
      "time range for this experiment is:\n",
      "(Timestamp('2019-04-25 00:08:00'), Timestamp('2019-04-25 23:48:00'))\n",
      "0 days 23:40:00\n"
     ]
    }
   ],
   "source": [
    "# Checking the time range of the data.\n",
    "time_range = ndf_glucose['time'].min(), ndf_glucose['time'].max()\n",
    "time_diff = time_range[1] - time_range[0]\n",
    "print(f\"time range for this experiment is:\\n{time_range}\\n{time_diff}\")"
   ]
  },
  {
   "cell_type": "code",
   "execution_count": 12,
   "metadata": {},
   "outputs": [
    {
     "data": {
      "image/png": "[encoded data removed]",
      "text/plain": [
       "<Figure size 800x400 with 1 Axes>"
      ]
     },
     "metadata": {},
     "output_type": "display_data"
    }
   ],
   "source": [
    "import matplotlib.pyplot as plt\n",
    "import seaborn as sns\n",
    "\n",
    "# Setting the matplotlib global configurations.\n",
    "plt.rc('axes', labelsize=10)\n",
    "plt.rc('xtick', labelsize=8)\n",
    "plt.rc('ytick', labelsize=8)\n",
    "\n",
    "# Line Plot for glucose over time (visualizing time range for each registered glucose value)\n",
    "plt.figure(figsize=(8,4))\n",
    "plt.plot(ndf_glucose['time'], ndf_glucose['glucose'],\n",
    "         marker='o', linestyle='--', color='black')\n",
    "plt.title('Glucose Levels Over Time', fontsize=14)\n",
    "plt.xlabel('Time')\n",
    "plt.ylabel('Glucose Level')\n",
    "plt.grid()\n",
    "plt.show()"
   ]
  },
  {
   "cell_type": "code",
   "execution_count": 13,
   "metadata": {},
   "outputs": [
    {
     "name": "stdout",
     "output_type": "stream",
     "text": [
      "\n",
      "lenght of unique values:\n",
      "56\n"
     ]
    }
   ],
   "source": [
    "# number of decimals set to 1.\n",
    "# column ID likely contains very large values, which Pandas automatically formats using scientific notation/\n",
    "# for brevity when the numbers exceed a certain size.\n",
    "# Despite setting pd.set_option('display.float_format', '{:.1f}'.format),/\n",
    "# this option does not affect the formatting of arrays or lists (e.g., the output of .unique())./\n",
    "# Instead, scientific notation persists due to the NumPy array returned by .unique().\n",
    "pd.set_option('display.float_format', '{:.1f}'.format)\n",
    "\n",
    "# checking for unique values in the 'ID' column, and/\n",
    "# Inspecting how many values are associated with each ID.\n",
    "grouped_id = ndf_glucose.groupby(['ID']).size()\n",
    "print(f\"\\nlenght of unique values:\\n{len(grouped_id)}\")"
   ]
  },
  {
   "cell_type": "code",
   "execution_count": 14,
   "metadata": {},
   "outputs": [
    {
     "data": {
      "image/png": "[encoded data removed]",
      "text/plain": [
       "<Figure size 1400x600 with 1 Axes>"
      ]
     },
     "metadata": {},
     "output_type": "display_data"
    }
   ],
   "source": [
    "# Visualizing the grouped by ID columns results.(number of values associated with each ID)\n",
    "grouped_id.plot(kind=\"bar\", figsize=(14, 6), color=\"black\")\n",
    "plt.title(\"Count of Records per ID\", fontsize=14)\n",
    "plt.xlabel(\"Patient's ID\")\n",
    "plt.ylabel(\"Value Counts\")\n",
    "plt.yticks(range(1,50,2))\n",
    "plt.xticks(rotation=45)\n",
    "plt.grid(alpha=0.4)\n",
    "plt.show()\n"
   ]
  },
  {
   "cell_type": "code",
   "execution_count": 15,
   "metadata": {},
   "outputs": [
    {
     "name": "stdout",
     "output_type": "stream",
     "text": [
      "                                   time  glucose\n",
      "recordtype ID                                   \n",
      "0          16143047311250231296.0    50        0\n",
      "           16143047311250233344.0    32        0\n",
      "1          2845.0                     1        1\n",
      "           2850.0                     1        0\n",
      "           2877.0                     1        1\n"
     ]
    }
   ],
   "source": [
    "print(f\"{ndf_glucose.groupby(['recordtype', 'ID']).count().head()}\")\n",
    "# The ID column in dataset contains extremely large numbers (e.g., 16143047311250231296.0)/\n",
    "# alongside smaller ones (e.g., 2845.0 and 2850.0).\n",
    "# These values may have been introduced due to data corruption or placeholders for missing IDs."
   ]
  },
  {
   "cell_type": "code",
   "execution_count": 16,
   "metadata": {},
   "outputs": [
    {
     "name": "stdout",
     "output_type": "stream",
     "text": [
      "Unique values in the 'recordType' column:\n",
      "[1 0]\n",
      "            time  ID  glucose\n",
      "recordtype                   \n",
      "0             82  82        0\n",
      "1             54  54       52\n",
      "\n",
      "it seems that there is (0) glucose registers for recordtype (0)\n",
      "it seems that there is (52) glucose registers for recordtype (1)\n"
     ]
    }
   ],
   "source": [
    "# Unique vqlues in the 'recordType' column.\n",
    "print(f\"Unique values in the 'recordType' column:\\n{ndf_glucose['recordtype'].unique()}\")\n",
    "\n",
    "# corresponding counts of the unique values in the 'recordType' column.\n",
    "grouped_recordtype = ndf_glucose.groupby(['recordtype']).count()\n",
    "print(grouped_recordtype)\n",
    "\n",
    "print(f\"\\nit seems that there is ({grouped_recordtype.glucose[0]}) glucose registers for recordtype ({grouped_recordtype.index[0]})\")\n",
    "print(f\"it seems that there is ({grouped_recordtype.glucose[1]}) glucose registers for recordtype ({grouped_recordtype.index[1]})\")"
   ]
  },
  {
   "cell_type": "code",
   "execution_count": 17,
   "metadata": {},
   "outputs": [
    {
     "data": {
      "image/png": "[encoded data removed]",
      "text/plain": [
       "<Figure size 800x400 with 1 Axes>"
      ]
     },
     "metadata": {},
     "output_type": "display_data"
    }
   ],
   "source": [
    "# Frequency of each unique record type in dataset.\n",
    "plt.figure(figsize=(8,4))\n",
    "plt.bar(ndf_glucose['recordtype'].value_counts().index,\n",
    "        ndf_glucose['recordtype'].value_counts().values,\n",
    "        color='black',\n",
    "        width=0.2)\n",
    "plt.title('Count of Record Types', fontsize=14)\n",
    "plt.xlabel('Record Type')\n",
    "plt.ylabel('Count')\n",
    "plt.grid(axis='y', linestyle='--')\n",
    "plt.show()"
   ]
  },
  {
   "cell_type": "markdown",
   "metadata": {},
   "source": [
    "- so we can coclude that the record type `(0)` as well as those long `(ambiguous IDs)` are registered in dataset in response to miising values or data corruption or when the glucose value was unknown"
   ]
  },
  {
   "cell_type": "code",
   "execution_count": 18,
   "metadata": {},
   "outputs": [
    {
     "data": {
      "image/png": "[encoded data removed]",
      "text/plain": [
       "<Figure size 800x400 with 1 Axes>"
      ]
     },
     "metadata": {},
     "output_type": "display_data"
    }
   ],
   "source": [
    "# Histogram for Distribution of glucose\n",
    "plt.figure(figsize=(8,4))\n",
    "plt.hist(ndf_glucose['glucose'], bins=20, color='black')\n",
    "plt.title('Distribution of Glucose Levels', fontsize=14)\n",
    "plt.xlabel('Glucose')\n",
    "plt.ylabel('Frequency')\n",
    "\n",
    "plt.grid(axis='x')\n",
    "plt.show()"
   ]
  },
  {
   "cell_type": "code",
   "execution_count": 19,
   "metadata": {},
   "outputs": [
    {
     "data": {
      "image/png": "[encoded data removed]",
      "text/plain": [
       "<Figure size 800x500 with 2 Axes>"
      ]
     },
     "metadata": {},
     "output_type": "display_data"
    }
   ],
   "source": [
    "# To investigate correlations between time and glucose columns\n",
    "plt.figure(figsize=(8, 5))\n",
    "sns.heatmap(ndf_glucose[['time', 'glucose']].corr(), annot=True, cmap='coolwarm')\n",
    "plt.title('Time and Glucose Correlation Matrix')\n",
    "plt.show()\n"
   ]
  },
  {
   "cell_type": "markdown",
   "metadata": {},
   "source": [
    "#### Expected outcome percentage missing data\n",
    "0.6176470588235294"
   ]
  },
  {
   "cell_type": "markdown",
   "metadata": {},
   "source": [
    "<a name='3'></a>\n",
    "## Part 4: Interpolate the data\n",
    "\n",
    "A lot of data is missing. Use interpolation to fill the missing values. Create a new column with the interpolated data. Take an argumentative approach. Select an interpolation method that suits the nature of the data and explain your choice. Mind you that the expected outcome of the interpolation values can differ from the example below\n",
    "\n",
    "<details>    \n",
    "<summary>\n",
    "    <font size=\"3\" color=\"darkgreen\"><b>Hints</b></font>\n",
    "</summary>\n",
    "<ul><li>use Pandas.DataFrame.interpolate() method</li>\n",
    "</ul>\n",
    "</details>\n",
    "\n",
    "<a name='ex-41'></a>\n",
    "### Code your solution"
   ]
  },
  {
   "cell_type": "markdown",
   "metadata": {},
   "source": [
    "* when almost more than 60% of Continuous Glucose Monitor (CGM) data is missing, interpolation can be tricky but still possible. The best method depends on the distribution of missing data, and the size of missing data gaps."
   ]
  },
  {
   "cell_type": "code",
   "execution_count": 20,
   "metadata": {},
   "outputs": [
    {
     "data": {
      "text/html": [
       "<div>\n",
       "<style scoped>\n",
       "    .dataframe tbody tr th:only-of-type {\n",
       "        vertical-align: middle;\n",
       "    }\n",
       "\n",
       "    .dataframe tbody tr th {\n",
       "        vertical-align: top;\n",
       "    }\n",
       "\n",
       "    .dataframe thead th {\n",
       "        text-align: right;\n",
       "    }\n",
       "</style>\n",
       "<table border=\"1\" class=\"dataframe\">\n",
       "  <thead>\n",
       "    <tr style=\"text-align: right;\">\n",
       "      <th></th>\n",
       "      <th>time</th>\n",
       "      <th>ID</th>\n",
       "      <th>recordtype</th>\n",
       "      <th>glucose</th>\n",
       "      <th>interpolated_glucose</th>\n",
       "    </tr>\n",
       "  </thead>\n",
       "  <tbody>\n",
       "    <tr>\n",
       "      <th>0</th>\n",
       "      <td>2019-04-25 00:08:00</td>\n",
       "      <td>2845.0</td>\n",
       "      <td>1</td>\n",
       "      <td>109.0</td>\n",
       "      <td>109.0</td>\n",
       "    </tr>\n",
       "    <tr>\n",
       "      <th>1</th>\n",
       "      <td>2019-04-25 00:14:00</td>\n",
       "      <td>16143047311250231296.0</td>\n",
       "      <td>0</td>\n",
       "      <td>NaN</td>\n",
       "      <td>109.5</td>\n",
       "    </tr>\n",
       "    <tr>\n",
       "      <th>2</th>\n",
       "      <td>2019-04-25 00:29:00</td>\n",
       "      <td>16143047311250231296.0</td>\n",
       "      <td>0</td>\n",
       "      <td>NaN</td>\n",
       "      <td>109.9</td>\n",
       "    </tr>\n",
       "    <tr>\n",
       "      <th>3</th>\n",
       "      <td>2019-04-25 00:44:00</td>\n",
       "      <td>16143047311250231296.0</td>\n",
       "      <td>0</td>\n",
       "      <td>NaN</td>\n",
       "      <td>110.4</td>\n",
       "    </tr>\n",
       "    <tr>\n",
       "      <th>4</th>\n",
       "      <td>2019-04-25 00:50:00</td>\n",
       "      <td>2850.0</td>\n",
       "      <td>1</td>\n",
       "      <td>NaN</td>\n",
       "      <td>110.9</td>\n",
       "    </tr>\n",
       "  </tbody>\n",
       "</table>\n",
       "</div>"
      ],
      "text/plain": [
       "                 time                     ID  recordtype  glucose  \\\n",
       "0 2019-04-25 00:08:00                 2845.0           1    109.0   \n",
       "1 2019-04-25 00:14:00 16143047311250231296.0           0      NaN   \n",
       "2 2019-04-25 00:29:00 16143047311250231296.0           0      NaN   \n",
       "3 2019-04-25 00:44:00 16143047311250231296.0           0      NaN   \n",
       "4 2019-04-25 00:50:00                 2850.0           1      NaN   \n",
       "\n",
       "   interpolated_glucose  \n",
       "0                 109.0  \n",
       "1                 109.5  \n",
       "2                 109.9  \n",
       "3                 110.4  \n",
       "4                 110.9  "
      ]
     },
     "execution_count": 20,
     "metadata": {},
     "output_type": "execute_result"
    }
   ],
   "source": [
    "# Linear Interpolation from pandas.\n",
    "\n",
    "interpolated_df = ndf_glucose.copy()\n",
    "\n",
    "interpolated_df['interpolated_glucose'] = interpolated_df['glucose'].interpolate(method='linear').astype('float')\n",
    "interpolated_df.head()"
   ]
  },
  {
   "cell_type": "code",
   "execution_count": 21,
   "metadata": {},
   "outputs": [
    {
     "data": {
      "image/png": "[encoded data removed]",
      "text/plain": [
       "<Figure size 800x400 with 1 Axes>"
      ]
     },
     "metadata": {},
     "output_type": "display_data"
    }
   ],
   "source": [
    "# Line Plot for interpolated glucose over time.\n",
    "plt.figure(figsize=(8,4))\n",
    "plt.plot(interpolated_df['time'], interpolated_df['interpolated_glucose'],\n",
    "         marker='o', linestyle='--', color='black')\n",
    "plt.title('Interpolated Glucose Levels Over Time', fontsize=14)\n",
    "plt.xlabel('Time')\n",
    "plt.ylabel('Glucose Level')\n",
    "plt.grid()\n",
    "plt.show()"
   ]
  },
  {
   "cell_type": "code",
   "execution_count": 22,
   "metadata": {},
   "outputs": [
    {
     "data": {
      "image/png": "[encoded data removed]",
      "text/plain": [
       "<Figure size 800x500 with 2 Axes>"
      ]
     },
     "metadata": {},
     "output_type": "display_data"
    }
   ],
   "source": [
    "# To investigate correlations between time and glucose columns.\n",
    "plt.figure(figsize=(8, 5))\n",
    "sns.heatmap(interpolated_df[['time', 'interpolated_glucose']].corr(), annot=True, cmap='coolwarm')\n",
    "plt.title('Time and Glucose Correlation Matrix')\n",
    "plt.show()\n"
   ]
  },
  {
   "cell_type": "code",
   "execution_count": 24,
   "metadata": {},
   "outputs": [
    {
     "name": "stdout",
     "output_type": "stream",
     "text": [
      "(136, 6)\n"
     ]
    },
    {
     "data": {
      "text/html": [
       "<div>\n",
       "<style scoped>\n",
       "    .dataframe tbody tr th:only-of-type {\n",
       "        vertical-align: middle;\n",
       "    }\n",
       "\n",
       "    .dataframe tbody tr th {\n",
       "        vertical-align: top;\n",
       "    }\n",
       "\n",
       "    .dataframe thead th {\n",
       "        text-align: right;\n",
       "    }\n",
       "</style>\n",
       "<table border=\"1\" class=\"dataframe\">\n",
       "  <thead>\n",
       "    <tr style=\"text-align: right;\">\n",
       "      <th></th>\n",
       "      <th>time</th>\n",
       "      <th>time_numeric</th>\n",
       "      <th>ID</th>\n",
       "      <th>recordtype</th>\n",
       "      <th>glucose</th>\n",
       "      <th>interpolated_glucose</th>\n",
       "    </tr>\n",
       "  </thead>\n",
       "  <tbody>\n",
       "    <tr>\n",
       "      <th>0</th>\n",
       "      <td>2019-04-25 00:08:00</td>\n",
       "      <td>0.0</td>\n",
       "      <td>2845.0</td>\n",
       "      <td>1</td>\n",
       "      <td>109.0</td>\n",
       "      <td>109.0</td>\n",
       "    </tr>\n",
       "    <tr>\n",
       "      <th>1</th>\n",
       "      <td>2019-04-25 00:14:00</td>\n",
       "      <td>360.0</td>\n",
       "      <td>16143047311250231296.0</td>\n",
       "      <td>0</td>\n",
       "      <td>NaN</td>\n",
       "      <td>109.5</td>\n",
       "    </tr>\n",
       "    <tr>\n",
       "      <th>2</th>\n",
       "      <td>2019-04-25 00:29:00</td>\n",
       "      <td>1260.0</td>\n",
       "      <td>16143047311250231296.0</td>\n",
       "      <td>0</td>\n",
       "      <td>NaN</td>\n",
       "      <td>109.9</td>\n",
       "    </tr>\n",
       "    <tr>\n",
       "      <th>3</th>\n",
       "      <td>2019-04-25 00:44:00</td>\n",
       "      <td>2160.0</td>\n",
       "      <td>16143047311250231296.0</td>\n",
       "      <td>0</td>\n",
       "      <td>NaN</td>\n",
       "      <td>110.4</td>\n",
       "    </tr>\n",
       "    <tr>\n",
       "      <th>4</th>\n",
       "      <td>2019-04-25 00:50:00</td>\n",
       "      <td>2520.0</td>\n",
       "      <td>2850.0</td>\n",
       "      <td>1</td>\n",
       "      <td>NaN</td>\n",
       "      <td>110.9</td>\n",
       "    </tr>\n",
       "  </tbody>\n",
       "</table>\n",
       "</div>"
      ],
      "text/plain": [
       "                 time  time_numeric                     ID  recordtype  \\\n",
       "0 2019-04-25 00:08:00           0.0                 2845.0           1   \n",
       "1 2019-04-25 00:14:00         360.0 16143047311250231296.0           0   \n",
       "2 2019-04-25 00:29:00        1260.0 16143047311250231296.0           0   \n",
       "3 2019-04-25 00:44:00        2160.0 16143047311250231296.0           0   \n",
       "4 2019-04-25 00:50:00        2520.0                 2850.0           1   \n",
       "\n",
       "   glucose  interpolated_glucose  \n",
       "0    109.0                 109.0  \n",
       "1      NaN                 109.5  \n",
       "2      NaN                 109.9  \n",
       "3      NaN                 110.4  \n",
       "4      NaN                 110.9  "
      ]
     },
     "execution_count": 24,
     "metadata": {},
     "output_type": "execute_result"
    }
   ],
   "source": [
    "# Using interpolation methods from scipy library.\n",
    "from scipy.interpolate import interp1d\n",
    "\n",
    "# Convert time to numeric values (e.g., seconds from the first timestamp)/\n",
    "# its necessary when working with scipy interpolation method.\n",
    "# time delta calculate the distance of each time point from the starting point.\n",
    "time_delta = interpolated_df['time'] - interpolated_df['time'].min()\n",
    "\n",
    "# converting datetime to seconds, and adding them to a new 'time_numeric' column.\n",
    "interpolated_df.loc[:, 'time_numeric'] = time_delta.dt.total_seconds()\n",
    "\n",
    "# Re-arranging columns\n",
    "interpolated_df = interpolated_df[['time', 'time_numeric'] + [col for col in interpolated_df.columns if col not in ['time', 'time_numeric']]]\n",
    "print(interpolated_df.shape)\n",
    "interpolated_df.head()"
   ]
  },
  {
   "cell_type": "code",
   "execution_count": 25,
   "metadata": {},
   "outputs": [
    {
     "name": "stdout",
     "output_type": "stream",
     "text": [
      "84\n",
      "0\n"
     ]
    }
   ],
   "source": [
    "# Checking for nan values.\n",
    "print(interpolated_df['glucose'].isna().sum())\n",
    "\n",
    "# Removing nan values.We need a clean dataset (without NaNs) to build an interpolation function/\n",
    "# that maps known time values to known glucose values./\n",
    "# This function will later be used to fill in the missing values.\n",
    "no_nan_interpolated_df = interpolated_df.dropna(subset=['glucose'])\n",
    "\n",
    "# Double checking to see if nans are droped.\n",
    "print(no_nan_interpolated_df['glucose'].isna().sum())"
   ]
  },
  {
   "cell_type": "code",
   "execution_count": 26,
   "metadata": {},
   "outputs": [],
   "source": [
    "# Create interpolation function.\n",
    "time_numeric = no_nan_interpolated_df['time_numeric']\n",
    "no_nan_glucose = no_nan_interpolated_df['glucose']\n",
    "\n",
    "# this function outputs estimated glucose values based on known data.\n",
    "# Linear\n",
    "l_interpolation_f = interp1d(time_numeric,no_nan_glucose, kind='linear', fill_value='extrapolate')\n",
    "# Nearest\n",
    "n_interpolation_f = interp1d(time_numeric,no_nan_glucose, kind='nearest', fill_value='extrapolate')\n",
    "# Cubic\n",
    "c_interpolation_f = interp1d(time_numeric,no_nan_glucose, kind='cubic', fill_value='extrapolate')"
   ]
  },
  {
   "cell_type": "code",
   "execution_count": 27,
   "metadata": {},
   "outputs": [
    {
     "name": "stdout",
     "output_type": "stream",
     "text": [
      "(136, 9)\n"
     ]
    },
    {
     "data": {
      "text/html": [
       "<div>\n",
       "<style scoped>\n",
       "    .dataframe tbody tr th:only-of-type {\n",
       "        vertical-align: middle;\n",
       "    }\n",
       "\n",
       "    .dataframe tbody tr th {\n",
       "        vertical-align: top;\n",
       "    }\n",
       "\n",
       "    .dataframe thead th {\n",
       "        text-align: right;\n",
       "    }\n",
       "</style>\n",
       "<table border=\"1\" class=\"dataframe\">\n",
       "  <thead>\n",
       "    <tr style=\"text-align: right;\">\n",
       "      <th></th>\n",
       "      <th>time</th>\n",
       "      <th>time_numeric</th>\n",
       "      <th>ID</th>\n",
       "      <th>recordtype</th>\n",
       "      <th>glucose</th>\n",
       "      <th>interpolated_glucose</th>\n",
       "      <th>interpolated_glucose_l</th>\n",
       "      <th>interpolated_glucose_n</th>\n",
       "      <th>interpolated_glucose_c</th>\n",
       "    </tr>\n",
       "  </thead>\n",
       "  <tbody>\n",
       "    <tr>\n",
       "      <th>0</th>\n",
       "      <td>2019-04-25 00:08:00</td>\n",
       "      <td>0.0</td>\n",
       "      <td>2845.0</td>\n",
       "      <td>1</td>\n",
       "      <td>109.0</td>\n",
       "      <td>109.0</td>\n",
       "      <td>NaN</td>\n",
       "      <td>NaN</td>\n",
       "      <td>NaN</td>\n",
       "    </tr>\n",
       "    <tr>\n",
       "      <th>1</th>\n",
       "      <td>2019-04-25 00:14:00</td>\n",
       "      <td>360.0</td>\n",
       "      <td>16143047311250231296.0</td>\n",
       "      <td>0</td>\n",
       "      <td>NaN</td>\n",
       "      <td>109.5</td>\n",
       "      <td>109.2</td>\n",
       "      <td>109.0</td>\n",
       "      <td>77.6</td>\n",
       "    </tr>\n",
       "    <tr>\n",
       "      <th>2</th>\n",
       "      <td>2019-04-25 00:29:00</td>\n",
       "      <td>1260.0</td>\n",
       "      <td>16143047311250231296.0</td>\n",
       "      <td>0</td>\n",
       "      <td>NaN</td>\n",
       "      <td>109.9</td>\n",
       "      <td>109.7</td>\n",
       "      <td>109.0</td>\n",
       "      <td>6.0</td>\n",
       "    </tr>\n",
       "    <tr>\n",
       "      <th>3</th>\n",
       "      <td>2019-04-25 00:44:00</td>\n",
       "      <td>2160.0</td>\n",
       "      <td>16143047311250231296.0</td>\n",
       "      <td>0</td>\n",
       "      <td>NaN</td>\n",
       "      <td>110.4</td>\n",
       "      <td>110.2</td>\n",
       "      <td>109.0</td>\n",
       "      <td>-55.8</td>\n",
       "    </tr>\n",
       "    <tr>\n",
       "      <th>4</th>\n",
       "      <td>2019-04-25 00:50:00</td>\n",
       "      <td>2520.0</td>\n",
       "      <td>2850.0</td>\n",
       "      <td>1</td>\n",
       "      <td>NaN</td>\n",
       "      <td>110.9</td>\n",
       "      <td>110.4</td>\n",
       "      <td>109.0</td>\n",
       "      <td>-78.0</td>\n",
       "    </tr>\n",
       "  </tbody>\n",
       "</table>\n",
       "</div>"
      ],
      "text/plain": [
       "                 time  time_numeric                     ID  recordtype  \\\n",
       "0 2019-04-25 00:08:00           0.0                 2845.0           1   \n",
       "1 2019-04-25 00:14:00         360.0 16143047311250231296.0           0   \n",
       "2 2019-04-25 00:29:00        1260.0 16143047311250231296.0           0   \n",
       "3 2019-04-25 00:44:00        2160.0 16143047311250231296.0           0   \n",
       "4 2019-04-25 00:50:00        2520.0                 2850.0           1   \n",
       "\n",
       "   glucose  interpolated_glucose  interpolated_glucose_l  \\\n",
       "0    109.0                 109.0                     NaN   \n",
       "1      NaN                 109.5                   109.2   \n",
       "2      NaN                 109.9                   109.7   \n",
       "3      NaN                 110.4                   110.2   \n",
       "4      NaN                 110.9                   110.4   \n",
       "\n",
       "   interpolated_glucose_n  interpolated_glucose_c  \n",
       "0                     NaN                     NaN  \n",
       "1                   109.0                    77.6  \n",
       "2                   109.0                     6.0  \n",
       "3                   109.0                   -55.8  \n",
       "4                   109.0                   -78.0  "
      ]
     },
     "execution_count": 27,
     "metadata": {},
     "output_type": "execute_result"
    }
   ],
   "source": [
    "# calling the interpolation function on the numeric time column to fill the missing values/\n",
    "# (actually it affects all the values not especifically nans).\n",
    "\n",
    "# interpolated_df['interpolated_glucose_l'] = l_interpolation_f(interpolated_df['time_numeric'])\n",
    "# interpolated_df['interpolated_glucose_n'] = n_interpolation_f(interpolated_df['time_numeric'])\n",
    "# interpolated_df['interpolated_glucose_c'] = c_interpolation_f(interpolated_df['time_numeric'])\n",
    "\n",
    "# when we want to especifically interpolate just the missing or nans.\n",
    "nan_vals = interpolated_df['glucose'].isna()\n",
    "# Linear\n",
    "interpolated_df.loc[nan_vals,'interpolated_glucose_l'] = l_interpolation_f(interpolated_df.loc[nan_vals,'time_numeric'])\n",
    "# Nearest\n",
    "interpolated_df.loc[nan_vals,'interpolated_glucose_n'] = n_interpolation_f(interpolated_df.loc[nan_vals,'time_numeric'])\n",
    "# Cubic\n",
    "interpolated_df.loc[nan_vals,'interpolated_glucose_c'] = c_interpolation_f(interpolated_df.loc[nan_vals,'time_numeric'])\n",
    "print(interpolated_df.shape)\n",
    "interpolated_df.head()"
   ]
  },
  {
   "cell_type": "markdown",
   "metadata": {},
   "source": [
    "#### Example outcome"
   ]
  },
  {
   "cell_type": "raw",
   "metadata": {},
   "source": [
    "                 time                   ID  recordtype  glucose  interpolated\n",
    "0 2019-04-25 00:08:00                 2845           1    109.0    109.000000\n",
    "1 2019-04-25 00:14:00 -9223372036854775808           0      NaN    109.466667\n",
    "2 2019-04-25 00:29:00 -9223372036854775808           0      NaN    109.933333\n",
    "3 2019-04-25 00:44:00 -9223372036854775808           0      NaN    110.400000\n",
    "4 2019-04-25 00:50:00                 2850           1      NaN    110.866667"
   ]
  },
  {
   "cell_type": "markdown",
   "metadata": {},
   "source": [
    "<a name='4'></a>\n",
    "## Part 5: Plot the data\n",
    "\n",
    "Create a plot with the original data and the interpolated data. Consider what the best representation is for visualisation of actual values and modelled/imputed values. Provide argumentation for the plot of choice. \n",
    "\n",
    "Mind you, there are several types of plots. The most used are: \n",
    "- Compare values->\tBar, boxplot, violin plot, scatter, line. \n",
    "- Show composition-> Stacked bar, pie, mosaic, area, burtin.\n",
    "- Show distribution-> \tHistogram, density, qqplot, bubble. \n",
    "- Analyzing trend-> Line, bar, dual axis \n",
    "- Relations-> Scatter, heatmap\n",
    "\n",
    "\n",
    "### Code your solution"
   ]
  },
  {
   "cell_type": "code",
   "execution_count": 28,
   "metadata": {},
   "outputs": [
    {
     "data": {
      "text/html": [
       "    <style>\n",
       "        .bk-notebook-logo {\n",
       "            display: block;\n",
       "            width: 20px;\n",
       "            height: 20px;\n",
       "            background-image: url(data:image/png;base64,iVBORw0KGgoAAAANSUhEUgAAABQAAAAUCAYAAACNiR0NAAAABHNCSVQICAgIfAhkiAAAAAlwSFlzAAALEgAACxIB0t1+/AAAABx0RVh0U29mdHdhcmUAQWRvYmUgRmlyZXdvcmtzIENTNui8sowAAAOkSURBVDiNjZRtaJVlGMd/1/08zzln5zjP1LWcU9N0NkN8m2CYjpgQYQXqSs0I84OLIC0hkEKoPtiH3gmKoiJDU7QpLgoLjLIQCpEsNJ1vqUOdO7ppbuec5+V+rj4ctwzd8IIbbi6u+8f1539dt3A78eXC7QizUF7gyV1fD1Yqg4JWz84yffhm0qkFqBogB9rM8tZdtwVsPUhWhGcFJngGeWrPzHm5oaMmkfEg1usvLFyc8jLRqDOMru7AyC8saQr7GG7f5fvDeH7Ej8CM66nIF+8yngt6HWaKh7k49Soy9nXurCi1o3qUbS3zWfrYeQDTB/Qj6kX6Ybhw4B+bOYoLKCC9H3Nu/leUTZ1JdRWkkn2ldcCamzrcf47KKXdAJllSlxAOkRgyHsGC/zRday5Qld9DyoM4/q/rUoy/CXh3jzOu3bHUVZeU+DEn8FInkPBFlu3+nW3Nw0mk6vCDiWg8CeJaxEwuHS3+z5RgY+YBR6V1Z1nxSOfoaPa4LASWxxdNp+VWTk7+4vzaou8v8PN+xo+KY2xsw6une2frhw05CTYOmQvsEhjhWjn0bmXPjpE1+kplmmkP3suftwTubK9Vq22qKmrBhpY4jvd5afdRA3wGjFAgcnTK2s4hY0/GPNIb0nErGMCRxWOOX64Z8RAC4oCXdklmEvcL8o0BfkNK4lUg9HTl+oPlQxdNo3Mg4Nv175e/1LDGzZen30MEjRUtmXSfiTVu1kK8W4txyV6BMKlbgk3lMwYCiusNy9fVfvvwMxv8Ynl6vxoByANLTWplvuj/nF9m2+PDtt1eiHPBr1oIfhCChQMBw6Aw0UulqTKZdfVvfG7VcfIqLG9bcldL/+pdWTLxLUy8Qq38heUIjh4XlzZxzQm19lLFlr8vdQ97rjZVOLf8nclzckbcD4wxXMidpX30sFd37Fv/GtwwhzhxGVAprjbg0gCAEeIgwCZyTV2Z1REEW8O4py0wsjeloKoMr6iCY6dP92H6Vw/oTyICIthibxjm/DfN9lVz8IqtqKYLUXfoKVMVQVVJOElGjrnnUt9T9wbgp8AyYKaGlqingHZU/uG2NTZSVqwHQTWkx9hxjkpWDaCg6Ckj5qebgBVbT3V3NNXMSiWSDdGV3hrtzla7J+duwPOToIg42ChPQOQjspnSlp1V+Gjdged7+8UN5CRAV7a5EdFNwCjEaBR27b3W890TE7g24NAP/mMDXRWrGoFPQI9ls/MWO2dWFAar/xcOIImbbpA3zgAAAABJRU5ErkJggg==);\n",
       "        }\n",
       "    </style>\n",
       "    <div>\n",
       "        <a href=\"https://bokeh.org\" target=\"_blank\" class=\"bk-notebook-logo\"></a>\n",
       "        <span id=\"fc7f9436-3332-45a4-b19d-1ee39897d80a\">Loading BokehJS ...</span>\n",
       "    </div>\n"
      ]
     },
     "metadata": {},
     "output_type": "display_data"
    },
    {
     "data": {
      "application/javascript": "'use strict';\n(function(root) {\n  function now() {\n    return new Date();\n  }\n\n  const force = true;\n\n  if (typeof root._bokeh_onload_callbacks === \"undefined\" || force === true) {\n    root._bokeh_onload_callbacks = [];\n    root._bokeh_is_loading = undefined;\n  }\n\nconst JS_MIME_TYPE = 'application/javascript';\n  const HTML_MIME_TYPE = 'text/html';\n  const EXEC_MIME_TYPE = 'application/vnd.bokehjs_exec.v0+json';\n  const CLASS_NAME = 'output_bokeh rendered_html';\n\n  /**\n   * Render data to the DOM node\n   */\n  function render(props, node) {\n    const script = document.createElement(\"script\");\n    node.appendChild(script);\n  }\n\n  /**\n   * Handle when an output is cleared or removed\n   */\n  function handleClearOutput(event, handle) {\n    function drop(id) {\n      const view = Bokeh.index.get_by_id(id)\n      if (view != null) {\n        view.model.document.clear()\n        Bokeh.index.delete(view)\n      }\n    }\n\n    const cell = handle.cell;\n\n    const id = cell.output_area._bokeh_element_id;\n    const server_id = cell.output_area._bokeh_server_id;\n\n    // Clean up Bokeh references\n    if (id != null) {\n      drop(id)\n    }\n\n    if (server_id !== undefined) {\n      // Clean up Bokeh references\n      const cmd_clean = \"from bokeh.io.state import curstate; print(curstate().uuid_to_server['\" + server_id + \"'].get_sessions()[0].document.roots[0]._id)\";\n      cell.notebook.kernel.execute(cmd_clean, {\n        iopub: {\n          output: function(msg) {\n            const id = msg.content.text.trim()\n            drop(id)\n          }\n        }\n      });\n      // Destroy server and session\n      const cmd_destroy = \"import bokeh.io.notebook as ion; ion.destroy_server('\" + server_id + \"')\";\n      cell.notebook.kernel.execute(cmd_destroy);\n    }\n  }\n\n  /**\n   * Handle when a new output is added\n   */\n  function handleAddOutput(event, handle) {\n    const output_area = handle.output_area;\n    const output = handle.output;\n\n    // limit handleAddOutput to display_data with EXEC_MIME_TYPE content only\n    if ((output.output_type != \"display_data\") || (!Object.prototype.hasOwnProperty.call(output.data, EXEC_MIME_TYPE))) {\n      return\n    }\n\n    const toinsert = output_area.element.find(\".\" + CLASS_NAME.split(' ')[0]);\n\n    if (output.metadata[EXEC_MIME_TYPE][\"id\"] !== undefined) {\n      toinsert[toinsert.length - 1].firstChild.textContent = output.data[JS_MIME_TYPE];\n      // store reference to embed id on output_area\n      output_area._bokeh_element_id = output.metadata[EXEC_MIME_TYPE][\"id\"];\n    }\n    if (output.metadata[EXEC_MIME_TYPE][\"server_id\"] !== undefined) {\n      const bk_div = document.createElement(\"div\");\n      bk_div.innerHTML = output.data[HTML_MIME_TYPE];\n      const script_attrs = bk_div.children[0].attributes;\n      for (let i = 0; i < script_attrs.length; i++) {\n        toinsert[toinsert.length - 1].firstChild.setAttribute(script_attrs[i].name, script_attrs[i].value);\n        toinsert[toinsert.length - 1].firstChild.textContent = bk_div.children[0].textContent\n      }\n      // store reference to server id on output_area\n      output_area._bokeh_server_id = output.metadata[EXEC_MIME_TYPE][\"server_id\"];\n    }\n  }\n\n  function register_renderer(events, OutputArea) {\n\n    function append_mime(data, metadata, element) {\n      // create a DOM node to render to\n      const toinsert = this.create_output_subarea(\n        metadata,\n        CLASS_NAME,\n        EXEC_MIME_TYPE\n      );\n      this.keyboard_manager.register_events(toinsert);\n      // Render to node\n      const props = {data: data, metadata: metadata[EXEC_MIME_TYPE]};\n      render(props, toinsert[toinsert.length - 1]);\n      element.append(toinsert);\n      return toinsert\n    }\n\n    /* Handle when an output is cleared or removed */\n    events.on('clear_output.CodeCell', handleClearOutput);\n    events.on('delete.Cell', handleClearOutput);\n\n    /* Handle when a new output is added */\n    events.on('output_added.OutputArea', handleAddOutput);\n\n    /**\n     * Register the mime type and append_mime function with output_area\n     */\n    OutputArea.prototype.register_mime_type(EXEC_MIME_TYPE, append_mime, {\n      /* Is output safe? */\n      safe: true,\n      /* Index of renderer in `output_area.display_order` */\n      index: 0\n    });\n  }\n\n  // register the mime type if in Jupyter Notebook environment and previously unregistered\n  if (root.Jupyter !== undefined) {\n    const events = require('base/js/events');\n    const OutputArea = require('notebook/js/outputarea').OutputArea;\n\n    if (OutputArea.prototype.mime_types().indexOf(EXEC_MIME_TYPE) == -1) {\n      register_renderer(events, OutputArea);\n    }\n  }\n  if (typeof (root._bokeh_timeout) === \"undefined\" || force === true) {\n    root._bokeh_timeout = Date.now() + 5000;\n    root._bokeh_failed_load = false;\n  }\n\n  const NB_LOAD_WARNING = {'data': {'text/html':\n     \"<div style='background-color: #fdd'>\\n\"+\n     \"<p>\\n\"+\n     \"BokehJS does not appear to have successfully loaded. If loading BokehJS from CDN, this \\n\"+\n     \"may be due to a slow or bad network connection. Possible fixes:\\n\"+\n     \"</p>\\n\"+\n     \"<ul>\\n\"+\n     \"<li>re-rerun `output_notebook()` to attempt to load from CDN again, or</li>\\n\"+\n     \"<li>use INLINE resources instead, as so:</li>\\n\"+\n     \"</ul>\\n\"+\n     \"<code>\\n\"+\n     \"from bokeh.resources import INLINE\\n\"+\n     \"output_notebook(resources=INLINE)\\n\"+\n     \"</code>\\n\"+\n     \"</div>\"}};\n\n  function display_loaded(error = null) {\n    const el = document.getElementById(\"fc7f9436-3332-45a4-b19d-1ee39897d80a\");\n    if (el != null) {\n      const html = (() => {\n        if (typeof root.Bokeh === \"undefined\") {\n          if (error == null) {\n            return \"BokehJS is loading ...\";\n          } else {\n            return \"BokehJS failed to load.\";\n          }\n        } else {\n          const prefix = `BokehJS ${root.Bokeh.version}`;\n          if (error == null) {\n            return `${prefix} successfully loaded.`;\n          } else {\n            return `${prefix} <b>encountered errors</b> while loading and may not function as expected.`;\n          }\n        }\n      })();\n      el.innerHTML = html;\n\n      if (error != null) {\n        const wrapper = document.createElement(\"div\");\n        wrapper.style.overflow = \"auto\";\n        wrapper.style.height = \"5em\";\n        wrapper.style.resize = \"vertical\";\n        const content = document.createElement(\"div\");\n        content.style.fontFamily = \"monospace\";\n        content.style.whiteSpace = \"pre-wrap\";\n        content.style.backgroundColor = \"rgb(255, 221, 221)\";\n        content.textContent = error.stack ?? error.toString();\n        wrapper.append(content);\n        el.append(wrapper);\n      }\n    } else if (Date.now() < root._bokeh_timeout) {\n      setTimeout(() => display_loaded(error), 100);\n    }\n  }\n\n  function run_callbacks() {\n    try {\n      root._bokeh_onload_callbacks.forEach(function(callback) {\n        if (callback != null)\n          callback();\n      });\n    } finally {\n      delete root._bokeh_onload_callbacks\n    }\n    console.debug(\"Bokeh: all callbacks have finished\");\n  }\n\n  function load_libs(css_urls, js_urls, callback) {\n    if (css_urls == null) css_urls = [];\n    if (js_urls == null) js_urls = [];\n\n    root._bokeh_onload_callbacks.push(callback);\n    if (root._bokeh_is_loading > 0) {\n      console.debug(\"Bokeh: BokehJS is being loaded, scheduling callback at\", now());\n      return null;\n    }\n    if (js_urls == null || js_urls.length === 0) {\n      run_callbacks();\n      return null;\n    }\n    console.debug(\"Bokeh: BokehJS not loaded, scheduling load and callback at\", now());\n    root._bokeh_is_loading = css_urls.length + js_urls.length;\n\n    function on_load() {\n      root._bokeh_is_loading--;\n      if (root._bokeh_is_loading === 0) {\n        console.debug(\"Bokeh: all BokehJS libraries/stylesheets loaded\");\n        run_callbacks()\n      }\n    }\n\n    function on_error(url) {\n      console.error(\"failed to load \" + url);\n    }\n\n    for (let i = 0; i < css_urls.length; i++) {\n      const url = css_urls[i];\n      const element = document.createElement(\"link\");\n      element.onload = on_load;\n      element.onerror = on_error.bind(null, url);\n      element.rel = \"stylesheet\";\n      element.type = \"text/css\";\n      element.href = url;\n      console.debug(\"Bokeh: injecting link tag for BokehJS stylesheet: \", url);\n      document.body.appendChild(element);\n    }\n\n    for (let i = 0; i < js_urls.length; i++) {\n      const url = js_urls[i];\n      const element = document.createElement('script');\n      element.onload = on_load;\n      element.onerror = on_error.bind(null, url);\n      element.async = false;\n      element.src = url;\n      console.debug(\"Bokeh: injecting script tag for BokehJS library: \", url);\n      document.head.appendChild(element);\n    }\n  };\n\n  function inject_raw_css(css) {\n    const element = document.createElement(\"style\");\n    element.appendChild(document.createTextNode(css));\n    document.body.appendChild(element);\n  }\n\n  const js_urls = [\"https://cdn.bokeh.org/bokeh/release/bokeh-3.6.3.min.js\", \"https://cdn.bokeh.org/bokeh/release/bokeh-gl-3.6.3.min.js\", \"https://cdn.bokeh.org/bokeh/release/bokeh-widgets-3.6.3.min.js\", \"https://cdn.bokeh.org/bokeh/release/bokeh-tables-3.6.3.min.js\", \"https://cdn.bokeh.org/bokeh/release/bokeh-mathjax-3.6.3.min.js\"];\n  const css_urls = [];\n\n  const inline_js = [    function(Bokeh) {\n      Bokeh.set_log_level(\"info\");\n    },\nfunction(Bokeh) {\n    }\n  ];\n\n  function run_inline_js() {\n    if (root.Bokeh !== undefined || force === true) {\n      try {\n            for (let i = 0; i < inline_js.length; i++) {\n      inline_js[i].call(root, root.Bokeh);\n    }\n\n      } catch (error) {display_loaded(error);throw error;\n      }if (force === true) {\n        display_loaded();\n      }} else if (Date.now() < root._bokeh_timeout) {\n      setTimeout(run_inline_js, 100);\n    } else if (!root._bokeh_failed_load) {\n      console.log(\"Bokeh: BokehJS failed to load within specified timeout.\");\n      root._bokeh_failed_load = true;\n    } else if (force !== true) {\n      const cell = $(document.getElementById(\"fc7f9436-3332-45a4-b19d-1ee39897d80a\")).parents('.cell').data().cell;\n      cell.output_area.append_execute_result(NB_LOAD_WARNING)\n    }\n  }\n\n  if (root._bokeh_is_loading === 0) {\n    console.debug(\"Bokeh: BokehJS loaded, going straight to plotting\");\n    run_inline_js();\n  } else {\n    load_libs(css_urls, js_urls, function() {\n      console.debug(\"Bokeh: BokehJS plotting callback run at\", now());\n      run_inline_js();\n    });\n  }\n}(window));",
      "application/vnd.bokehjs_load.v0+json": ""
     },
     "metadata": {},
     "output_type": "display_data"
    }
   ],
   "source": [
    "from bokeh.plotting import figure, show, ColumnDataSource, output_file\n",
    "from bokeh.models import Legend, Select, CustomJS\n",
    "from bokeh.layouts import gridplot, column\n",
    "from bokeh.io import output_notebook\n",
    "output_notebook()"
   ]
  },
  {
   "cell_type": "code",
   "execution_count": 29,
   "metadata": {},
   "outputs": [],
   "source": [
    "# Creating a ColumnDataSource object.\n",
    "# Create a ColumnDataSource object to store data dynamically.\n",
    "source = ColumnDataSource(data={\n",
    "    'x': interpolated_df['time_numeric'],\n",
    "    'y': interpolated_df['glucose'],\n",
    "    'y_linear': interpolated_df['interpolated_glucose_l'],\n",
    "    'y_nearest': interpolated_df['interpolated_glucose_n'],\n",
    "    'y_cubic': interpolated_df['interpolated_glucose_c'],\n",
    "})\n",
    "\n",
    "# ColumnDataSource requires all arrays to be of the same length./\n",
    "# thats why a separate source for missing values.\n",
    "missing_source =ColumnDataSource(data={\n",
    "    # Isolating the missing Data Points.\n",
    "    'missing_data': interpolated_df['time_numeric'][interpolated_df['glucose'].isna()],\n",
    "    # setting the missing data points on x axis.\n",
    "    'missing_data_y': np.zeros_like(interpolated_df['time_numeric'][interpolated_df['glucose'].isna()])\n",
    "})\n"
   ]
  },
  {
   "cell_type": "code",
   "execution_count": 30,
   "metadata": {},
   "outputs": [],
   "source": [
    "# Plotting the original and interpolated data for comparison.\n",
    "\n",
    "# Create the bokeh figure\n",
    "p = figure(\n",
    "    width=1000, height=500,\n",
    "    title='Comparing different interpolation methods',\n",
    "    tools='pan, wheel_zoom, reset, save'\n",
    ")\n",
    "\n",
    "# Setting axises labels\n",
    "p.xaxis.axis_label = 'Time (s)'\n",
    "p.yaxis.axis_label = 'Glucose level'\n",
    "p.title.align = 'center'\n",
    "p.title.text_font_size = '16pt'\n",
    "\n",
    "\n",
    "# Function for creating scatter plot.\n",
    "def scatter_plot(plot, source, x_col, y_col, color, marker):\n",
    "    \"\"\"\n",
    "    Creates a scatter plot for a given x and y.\n",
    "    \"\"\"\n",
    "    return plot.scatter(\n",
    "        x_col, y_col, source=source,\n",
    "        color=color, marker=marker,\n",
    "        size=6, alpha=0.8)\n",
    "\n",
    "\n",
    "# function for creating a line plot.\n",
    "def line_plot(plot, source, x_col, y_col, color):\n",
    "    \"\"\"\n",
    "    Creates a line plot for a given interpolation method.\n",
    "    \"\"\"\n",
    "    return plot.line(\n",
    "        x_col, y_col, source=source,\n",
    "        color=color, line_width=2)\n",
    "\n",
    "\n",
    "# Create interpolation line plots.\n",
    "original_data = line_plot(p, source, 'x', 'y', 'black')\n",
    "linear_interpol = line_plot(p, source, 'x', 'y_linear', 'blue')\n",
    "nearest_interpol = line_plot(p, source, 'x', 'y_nearest', 'red')\n",
    "cubic_interpol = line_plot(p, source, 'x', 'y_cubic', 'green')\n",
    "\n",
    "# Scatter plot of the original glucose registers (prior to interpolation)\n",
    "original_data_points = scatter_plot(p, source, 'x', 'y', color='black', marker='o')\n",
    "\n",
    "# Plotting original missing data points.\n",
    "original_missing_data = scatter_plot(p, missing_source, 'missing_data', 'missing_data_y',\n",
    "    color='green', marker='x')\n",
    "\n",
    "\n",
    "# Defining a legend object. (mainly to set the legend outside of the plot)\n",
    "legend = Legend(items=[\n",
    "    ('Original Data', [original_data_points]),\n",
    "    ('Linear Interpolation', [linear_interpol]),\n",
    "    ('Nearest Interpolation', [nearest_interpol]),\n",
    "    ('Cubic Interpolation', [cubic_interpol]),\n",
    "    ('Original Missing Data', [original_missing_data])\n",
    "])\n",
    "p.add_layout(legend,'left')\n",
    "\n",
    "# show(p)"
   ]
  },
  {
   "cell_type": "markdown",
   "metadata": {},
   "source": [
    "**The primary glucose dataset is fragmented due to missing data; however, the interpolated datasets became continuous.**"
   ]
  },
  {
   "cell_type": "markdown",
   "metadata": {},
   "source": [
    "<a name='6'></a>\n",
    "## Part 6: Challenge\n",
    "\n",
    "It might even be interesting to introduce a widget in which you can select different methods to interpolate.\n",
    "1. Can you improve the interpolation by choosing an other method?\n",
    "2. Can you add an rolling mean line? \n",
    "2. Can you improve the plot by making it interactive?\n",
    "\n",
    "<a name='ex-61'></a>\n",
    "### Code your solution"
   ]
  },
  {
   "cell_type": "code",
   "execution_count": 31,
   "metadata": {},
   "outputs": [
    {
     "data": {
      "text/html": [
       "\n",
       "  <div id=\"c942cdb6-08f3-4e65-b651-196f7826d69f\" data-root-id=\"p1095\" style=\"display: contents;\"></div>\n"
      ]
     },
     "metadata": {},
     "output_type": "display_data"
    },
    {
     "data": {
      "application/javascript": "(function(root) {\n  function embed_document(root) {\n  const docs_json = {\"1ed9ec00-7ca0-4373-96f4-b0e5c3c7990a\":{\"version\":\"3.6.3\",\"title\":\"Bokeh Application\",\"roots\":[{\"type\":\"object\",\"name\":\"Column\",\"id\":\"p1095\",\"attributes\":{\"children\":[{\"type\":\"object\",\"name\":\"Select\",\"id\":\"p1093\",\"attributes\":{\"js_property_callbacks\":{\"type\":\"map\",\"entries\":[[\"change:value\",[{\"type\":\"object\",\"name\":\"CustomJS\",\"id\":\"p1094\",\"attributes\":{\"args\":{\"type\":\"map\",\"entries\":[[\"linear\",{\"type\":\"object\",\"name\":\"GlyphRenderer\",\"id\":\"p1048\",\"attributes\":{\"data_source\":{\"type\":\"object\",\"name\":\"ColumnDataSource\",\"id\":\"p1001\",\"attributes\":{\"selected\":{\"type\":\"object\",\"name\":\"Selection\",\"id\":\"p1002\",\"attributes\":{\"indices\":[],\"line_indices\":[]}},\"selection_policy\":{\"type\":\"object\",\"name\":\"UnionRenderers\",\"id\":\"p1003\"},\"data\":{\"type\":\"map\",\"entries\":[[\"x\",{\"type\":\"ndarray\",\"array\":{\"type\":\"bytes\",\"data\":\"AAAAAAAAAAAAAAAAAIB2QAAAAAAAsJNAAAAAAADgoEAAAAAAALCjQAAAAAAA6KdAAAAAAADwrkAAAAAAAPyyQAAAAAAAgLZAAAAAAAAEukAAAAAAAIi9QAAAAAAAhsBAAAAAAABIwkAAAAAAAArEQAAAAAAAzMVAAAAAAACOx0AAAAAAAFDJQAAAAAAAEstAAAAAAADUzEAAAAAAAJbOQAAAAAAALNBAAAAAAAAN0UAAAAAAAO7RQAAAAAAAz9JAAAAAAACw00AAAAAAAJHUQAAAAAAActVAAAAAAABT1kAAAAAAADTXQAAAAAAAJNhAAAAAAABC2EAAAAAAAAXZQAAAAAAA5tlAAAAAAAAi2kAAAAAAAMfaQAAAAAAAqNtAAAAAAACY3EAAAAAAAMXcQAAAAAAAed1AAAAAAABa3kAAAAAAADvfQAAAAAAADuBAAAAAAIB+4EAAAAAAAO/gQAAAAACAX+FAAAAAAADQ4UAAAAAAgEDiQAAAAAAAseJAAAAAAIAh40AAAAAAgCHjQAAAAAAAkuNAAAAAAIAC5EAAAAAAAHPkQAAAAACA4+RAAAAAAABU5UAAAAAAgMTlQAAAAAAANeZAAAAAAICl5kAAAAAAAAfnQAAAAAAAFudAAAAAAADY6EAAAAAAgN/oQAAAAACASOlAAAAAAICx6UAAAAAAgPzpQAAAAACAGupAAAAAAAAi6kAAAAAAgHTqQAAAAAAAqepAAAAAAADH6kAAAAAAgDfrQAAAAAAAP+tAAAAAAABs60AAAAAAgILrQAAAAACAoOtAAAAAAIC+60AAAAAAgOvrQAAAAAAATexAAAAAAIBj7EAAAAAAAKfsQAAAAACAzOxAAAAAAIDq7EAAAAAAgHHtQAAAAACAre1AAAAAAID47UAAAAAAAA/uQAAAAACANO5AAAAAAIBD7kAAAAAAgFLuQAAAAAAAae5AAAAAAACH7kAAAAAAAJbuQAAAAACAne5AAAAAAACl7kAAAAAAANLuQAAAAAAA4e5AAAAAAIAG70AAAAAAgBXvQAAAAACAM+9AAAAAAIBR70AAAAAAgG/vQAAAAACAb+9AAAAAAACG70AAAAAAgKvvQAAAAACAye9AAAAAAIDn70AAAAAAwHrwQAAAAACAnPBAAAAAAMC28EAAAAAAQM3wQAAAAADA1PBAAAAAAMAB8UAAAAAAAA3xQAAAAABARfFAAAAAAIB98UAAAAAAwLXxQAAAAAAA7vFAAAAAAEAm8kAAAAAAQGLyQAAAAAAAhPJAAAAAAICa8kAAAAAAwNLyQAAAAACA9PJAAAAAAAAL80AAAAAAgD/zQAAAAABAQ/NAAAAAAIB780AAAAAAwLPzQAAAAADAwvNAAAAAAEDo80AAAAAAQPfzQAAAAACAIPRAAAAAAIBc9EAAAAAAQI30QAAAAADAlPRAAAAAAADN9EA=\"},\"shape\":[136],\"dtype\":\"float64\",\"order\":\"little\"}],[\"y\",{\"type\":\"ndarray\",\"array\":{\"type\":\"bytes\",\"data\":\"AAAAAABAW0AAAAAAAAD4fwAAAAAAAPh/AAAAAAAA+H8AAAAAAAD4fwAAAAAAAPh/AAAAAAAA+H8AAAAAAAD4fwAAAAAAAPh/AAAAAAAA+H8AAAAAAAD4fwAAAAAAAPh/AAAAAAAA+H8AAAAAAAD4fwAAAAAAAPh/AAAAAAAA+H8AAAAAAAD4fwAAAAAAAPh/AAAAAAAA+H8AAAAAAAD4fwAAAAAAAPh/AAAAAAAA+H8AAAAAAAD4fwAAAAAAAPh/AAAAAAAA+H8AAAAAAAD4fwAAAAAAAPh/AAAAAAAA+H8AAAAAAAD4fwAAAAAAAPh/AAAAAADAXkAAAAAAAAD4fwAAAAAAAPh/AAAAAADAY0AAAAAAAAD4fwAAAAAAAPh/AAAAAAAA+H8AAAAAAAD4fwAAAAAAAPh/AAAAAAAA+H8AAAAAAAD4fwAAAAAAAPh/AAAAAAAA+H8AAAAAAAD4fwAAAAAAAPh/AAAAAAAA+H8AAAAAAAD4fwAAAAAAAPh/AAAAAAAA+H8AAAAAAGBhQAAAAAAAAPh/AAAAAAAA+H8AAAAAAAD4fwAAAAAAAPh/AAAAAAAA+H8AAAAAAAD4fwAAAAAAAPh/AAAAAAAA+H8AAAAAAOBiQAAAAAAAAPh/AAAAAAAA+H8AAAAAACBgQAAAAAAAAPh/AAAAAAAgZEAAAAAAAABnQAAAAAAAQGZAAAAAAABAZkAAAAAAAEBeQAAAAAAAwFtAAAAAAACAWkAAAAAAAMBWQAAAAAAAQFhAAAAAAACAWkAAAAAAAIBaQAAAAAAAQFhAAAAAAACAVUAAAAAAAAD4fwAAAAAAgFxAAAAAAAAA+H8AAAAAACBgQAAAAAAAAPh/AAAAAACAXUAAAAAAAIBdQAAAAAAAwFxAAAAAAABAWkAAAAAAAEBbQAAAAAAAwFpAAAAAAADAW0AAAAAAAABeQAAAAAAAIGFAAAAAAADAYEAAAAAAAAD4fwAAAAAAIGBAAAAAAABAX0AAAAAAAIBeQAAAAAAAAF9AAAAAAAAA+H8AAAAAAMBfQAAAAAAAQF5AAAAAAADAXkAAAAAAAIBeQAAAAAAAAPh/AAAAAAAAX0AAAAAAAIBfQAAAAAAAAGBAAAAAAAAA+H8AAAAAAIBbQAAAAAAAAPh/AAAAAAAAYEAAAAAAAABdQAAAAAAAAPh/AAAAAACAWkAAAAAAAAD4fwAAAAAAAPh/AAAAAAAA+H8AAAAAAAD4fwAAAAAAAPh/AAAAAAAA+H8AAAAAAAD4fwAAAAAA4GJAAAAAAAAA+H8AAAAAAAD4fwAAAAAAgF9AAAAAAAAA+H8AAAAAAEBgQAAAAAAAAPh/AAAAAAAA+H8AAAAAAAD4fwAAAAAAgFxAAAAAAAAA+H8AAAAAAIBaQAAAAAAAAPh/AAAAAAAA+H8AAAAAAMBbQAAAAAAAAPh/AAAAAAAA+H8=\"},\"shape\":[136],\"dtype\":\"float64\",\"order\":\"little\"}],[\"y_linear\",{\"type\":\"ndarray\",\"array\":{\"type\":\"bytes\",\"data\":\"AAAAAAAA+H8p8TNK/ExbQA/MtQNzbVtA9aY3vemNW0AemGsH5ppbQNuBuXZgrltAwVw7MNfOW0CnN73pTe9bQI0SP6PED1xAc+3AXDswXEBZyEIWslBcQD+jxM8ocVxAJX5GiZ+RXEALWchCFrJcQPEzSvyM0lxA1w7MtQPzXEC96U1vehNdQKPEzyjxM11AiZ9R4mdUXUBvetOb3nRdQFVVVVVVlV1AOzDXDsy1XUAhC1nIQtZdQAjm2oG59l1A7sBcOzAXXkDUm970pjdeQLp2YK4dWF5AoFHiZ5R4XkCGLGQhC5leQPIEROeru15AAAAAAAAA+H8AAAAAACdhQAAAAAAANGNAAAAAAAAA+H8RbqnZsJ9jQLUyeQKic2NA/IwSP6NEY0DqTW960ztjQKBR4meUGGNAQxaykIXsYkDm2oG5dsBiQImfUeJnlGJALWQhC1loYkDQKPEzSjxiQHPtwFw7EGJAFrKQhSzkYUC6dmCuHbhhQF07MNcOjGFAAAAAAABgYUAAAAAAAAD4f7W60+pOi2FAanWn1Z22YUAfMHvA7OFhQNTqTqs7DWJAiaUiloo4YkA+YPaA2WNiQPMaymsoj2JAqNWdVne6YkAAAAAAAAD4f5qmaZqmyWJAsyzLsiwrYEAAAAAAAAD4fwAAAAAAIGJAAAAAAAAA+H8AAAAAAAD4fwAAAAAAAPh/AAAAAAAA+H8AAAAAAAD4fwAAAAAAAPh/AAAAAAAA+H8AAAAAAAD4fwAAAAAAAPh/AAAAAAAA+H8AAAAAAAD4fwAAAAAAAPh/AAAAAAAA+H9eQ3kN5bVXQAAAAAAAAPh/AAAAAABwXUAAAAAAAAD4f47jOI7juF5AAAAAAAAA+H8AAAAAAAD4fwAAAAAAAPh/AAAAAAAA+H8AAAAAAAD4fwAAAAAAAPh/AAAAAAAA+H8AAAAAAAD4fwAAAAAAAPh/AAAAAAAA+H9VVVVVVVVgQAAAAAAAAPh/AAAAAAAA+H8AAAAAAAD4fwAAAAAAAPh/kiRJkiSJX0AAAAAAAAD4fwAAAAAAAPh/AAAAAAAA+H8AAAAAAAD4fwAAAAAAgF5AAAAAAAAA+H8AAAAAAAD4fwAAAAAAAPh/zczMzMyMX0AAAAAAAAD4fwAAAAAACF5AAAAAAAAA+H8AAAAAAAD4f0mSJEmSpFxAAAAAAAAA+H+p5Lws4tNaQPZbbQxNd1xAQ9Md7LcaXkCQSs7LIr5fQO9gv9XGsGBAlZyXRXyCYUACqeS8LGJiQAAAAAAAAPh/AAAAAABAYkAAAAAAALBgQAAAAAAAAPh/zczMzMzMX0AAAAAAAAD4fxZf8RVfMWBAvuIrvuKrXkBQB3VQB/VcQAAAAAAAAPh/JUmSJEkSW0AAAAAAAAD4fwAAAAAA2FpAAAAAAABYW0AAAAAAAAD4fwAAAAAA0FtAAAAAAABIXEA=\"},\"shape\":[136],\"dtype\":\"float64\",\"order\":\"little\"}],[\"y_nearest\",{\"type\":\"ndarray\",\"array\":{\"type\":\"bytes\",\"data\":\"AAAAAAAA+H8AAAAAAEBbQAAAAAAAQFtAAAAAAABAW0AAAAAAAEBbQAAAAAAAQFtAAAAAAABAW0AAAAAAAEBbQAAAAAAAQFtAAAAAAABAW0AAAAAAAEBbQAAAAAAAQFtAAAAAAABAW0AAAAAAAEBbQAAAAAAAQFtAAAAAAABAW0AAAAAAAMBeQAAAAAAAwF5AAAAAAADAXkAAAAAAAMBeQAAAAAAAwF5AAAAAAADAXkAAAAAAAMBeQAAAAAAAwF5AAAAAAADAXkAAAAAAAMBeQAAAAAAAwF5AAAAAAADAXkAAAAAAAMBeQAAAAAAAwF5AAAAAAAAA+H8AAAAAAMBeQAAAAAAAwGNAAAAAAAAA+H8AAAAAAMBjQAAAAAAAwGNAAAAAAADAY0AAAAAAAMBjQAAAAAAAwGNAAAAAAADAY0AAAAAAAMBjQAAAAAAAwGNAAAAAAABgYUAAAAAAAGBhQAAAAAAAYGFAAAAAAABgYUAAAAAAAGBhQAAAAAAAYGFAAAAAAABgYUAAAAAAAAD4fwAAAAAAYGFAAAAAAABgYUAAAAAAAGBhQAAAAAAAYGFAAAAAAADgYkAAAAAAAOBiQAAAAAAA4GJAAAAAAADgYkAAAAAAAAD4fwAAAAAA4GJAAAAAAAAgYEAAAAAAAAD4fwAAAAAAIGBAAAAAAAAA+H8AAAAAAAD4fwAAAAAAAPh/AAAAAAAA+H8AAAAAAAD4fwAAAAAAAPh/AAAAAAAA+H8AAAAAAAD4fwAAAAAAAPh/AAAAAAAA+H8AAAAAAAD4fwAAAAAAAPh/AAAAAAAA+H8AAAAAAIBVQAAAAAAAAPh/AAAAAACAXEAAAAAAAAD4fwAAAAAAgF1AAAAAAAAA+H8AAAAAAAD4fwAAAAAAAPh/AAAAAAAA+H8AAAAAAAD4fwAAAAAAAPh/AAAAAAAA+H8AAAAAAAD4fwAAAAAAAPh/AAAAAAAA+H8AAAAAACBgQAAAAAAAAPh/AAAAAAAA+H8AAAAAAAD4fwAAAAAAAPh/AAAAAADAX0AAAAAAAAD4fwAAAAAAAPh/AAAAAAAA+H8AAAAAAAD4fwAAAAAAgF5AAAAAAAAA+H8AAAAAAAD4fwAAAAAAAPh/AAAAAAAAYEAAAAAAAAD4fwAAAAAAAGBAAAAAAAAA+H8AAAAAAAD4fwAAAAAAAF1AAAAAAAAA+H8AAAAAAIBaQAAAAAAAgFpAAAAAAACAWkAAAAAAAIBaQAAAAAAA4GJAAAAAAADgYkAAAAAAAOBiQAAAAAAAAPh/AAAAAADgYkAAAAAAAIBfQAAAAAAAAPh/AAAAAACAX0AAAAAAAAD4fwAAAAAAQGBAAAAAAABAYEAAAAAAAIBcQAAAAAAAAPh/AAAAAACAWkAAAAAAAAD4fwAAAAAAgFpAAAAAAADAW0AAAAAAAAD4fwAAAAAAwFtAAAAAAADAW0A=\"},\"shape\":[136],\"dtype\":\"float64\",\"order\":\"little\"}],[\"y_cubic\",{\"type\":\"ndarray\",\"array\":{\"type\":\"bytes\",\"data\":\"AAAAAAAA+H+uIgeky2RTQMtGFMmYMRhALXy3gkPoS8Aq5xhmnH1TwDFYGV/0H1vAo34AM7YPY8BWELb3y4hnwN0aWorCCmvA6FeZ9yClbcApgSBMbmdvwCMoTsqYMHDAeb/c7vhQcMBpYxIamxxwwKHhiqSFNm/AAYmYO2epbcChdvoFYqFrwDhkXRD9LWnAaQtuZ79eZsDkJdkXMENjwLjallys1V/A7TbjbnHKWMDT0/B/vYNRwGZJMlI9QUTAr+esHRgBJsA/QIFbnfoxQPpdnppk+UZAfow9xu8aUkA09VGoUTpYQGXGZrZgE15AAAAAAAAA+H8A3dyyFmVhQLreOhhxUWNAAAAAAAAA+H9VlLLoMcFkQJKbh+b3uGVAgV1cRUJNZkDlgpEEH11mQLJBqjfbemZALEaD099cZkCHnwh80gFmQFeCW5Q1eGVAMiOdf4vOZECutu6gVhNkQGFxcVsZVWNA34dGElaiYkDBLo8ojwliQJqabAFHmWFAAAAAAABgYUAAAAAAAAD4f2DxzS/EZmFAg3joPbygYUAH/cR/mPthQIfm2EoJZWJApJyZ9L7KYkD6hnzSaRpjQCkN9zm6QWNAzpZ+gGAuY0AAAAAAAAD4f2icDzEUzmJAj124srEjYEAAAAAAAAD4f1kkoWpwmGBAAAAAAAAA+H8AAAAAAAD4fwAAAAAAAPh/AAAAAAAA+H8AAAAAAAD4fwAAAAAAAPh/AAAAAAAA+H8AAAAAAAD4fwAAAAAAAPh/AAAAAAAA+H8AAAAAAAD4fwAAAAAAAPh/AAAAAAAA+H9VXpZFUPBUQAAAAAAAAPh/7L5s+Jo4XkAAAAAAAAD4f0tJA2Lp3l5AAAAAAAAA+H8AAAAAAAD4fwAAAAAAAPh/AAAAAAAA+H8AAAAAAAD4fwAAAAAAAPh/AAAAAAAA+H8AAAAAAAD4fwAAAAAAAPh/AAAAAAAA+H+zCWOYF3BgQAAAAAAAAPh/AAAAAAAA+H8AAAAAAAD4fwAAAAAAAPh/IMqxzqgCYEAAAAAAAAD4fwAAAAAAAPh/AAAAAAAA+H8AAAAAAAD4fwEAAAAAgF5AAAAAAAAA+H8AAAAAAAD4fwAAAAAAAPh/LJFV6QIGYEAAAAAAAAD4f+6Yqy4bal9AAAAAAAAA+H8AAAAAAAD4fxR1G/5xHVxAAAAAAAAA+H+Cp4NVyJdaQL9JqICXG1xAp2306ZHUXkBHBB1ilwJhQOWHJaHyd2JAV7x8S5ZrY0AL/Nhat3VjQAAAAAAAAPh/+t9mBG83YkAe2FqTJV1gQAAAAAAAAPh/ngMO0oqFX0AAAAAAAAD4fzKwyY0/Q2BAr3jMAiiRX0AmuxReqy1dQAAAAAAAAPh/g/++Q3H+WkAAAAAAAAD4fwl+Q5QClVlAfU6+x5PKWUAAAAAAAAD4f4tjzkOKOFxAnP8Ojl21YEA=\"},\"shape\":[136],\"dtype\":\"float64\",\"order\":\"little\"}]]}}},\"view\":{\"type\":\"object\",\"name\":\"CDSView\",\"id\":\"p1049\",\"attributes\":{\"filter\":{\"type\":\"object\",\"name\":\"AllIndices\",\"id\":\"p1050\"}}},\"glyph\":{\"type\":\"object\",\"name\":\"Line\",\"id\":\"p1045\",\"attributes\":{\"x\":{\"type\":\"field\",\"field\":\"x\"},\"y\":{\"type\":\"field\",\"field\":\"y_linear\"},\"line_color\":\"blue\",\"line_width\":2}},\"nonselection_glyph\":{\"type\":\"object\",\"name\":\"Line\",\"id\":\"p1046\",\"attributes\":{\"x\":{\"type\":\"field\",\"field\":\"x\"},\"y\":{\"type\":\"field\",\"field\":\"y_linear\"},\"line_color\":\"blue\",\"line_alpha\":0.1,\"line_width\":2}},\"muted_glyph\":{\"type\":\"object\",\"name\":\"Line\",\"id\":\"p1047\",\"attributes\":{\"x\":{\"type\":\"field\",\"field\":\"x\"},\"y\":{\"type\":\"field\",\"field\":\"y_linear\"},\"line_color\":\"blue\",\"line_alpha\":0.2,\"line_width\":2}}}}],[\"nearest\",{\"type\":\"object\",\"name\":\"GlyphRenderer\",\"id\":\"p1057\",\"attributes\":{\"data_source\":{\"id\":\"p1001\"},\"view\":{\"type\":\"object\",\"name\":\"CDSView\",\"id\":\"p1058\",\"attributes\":{\"filter\":{\"type\":\"object\",\"name\":\"AllIndices\",\"id\":\"p1059\"}}},\"glyph\":{\"type\":\"object\",\"name\":\"Line\",\"id\":\"p1054\",\"attributes\":{\"x\":{\"type\":\"field\",\"field\":\"x\"},\"y\":{\"type\":\"field\",\"field\":\"y_nearest\"},\"line_color\":\"red\",\"line_width\":2}},\"nonselection_glyph\":{\"type\":\"object\",\"name\":\"Line\",\"id\":\"p1055\",\"attributes\":{\"x\":{\"type\":\"field\",\"field\":\"x\"},\"y\":{\"type\":\"field\",\"field\":\"y_nearest\"},\"line_color\":\"red\",\"line_alpha\":0.1,\"line_width\":2}},\"muted_glyph\":{\"type\":\"object\",\"name\":\"Line\",\"id\":\"p1056\",\"attributes\":{\"x\":{\"type\":\"field\",\"field\":\"x\"},\"y\":{\"type\":\"field\",\"field\":\"y_nearest\"},\"line_color\":\"red\",\"line_alpha\":0.2,\"line_width\":2}}}}],[\"cubic\",{\"type\":\"object\",\"name\":\"GlyphRenderer\",\"id\":\"p1066\",\"attributes\":{\"data_source\":{\"id\":\"p1001\"},\"view\":{\"type\":\"object\",\"name\":\"CDSView\",\"id\":\"p1067\",\"attributes\":{\"filter\":{\"type\":\"object\",\"name\":\"AllIndices\",\"id\":\"p1068\"}}},\"glyph\":{\"type\":\"object\",\"name\":\"Line\",\"id\":\"p1063\",\"attributes\":{\"x\":{\"type\":\"field\",\"field\":\"x\"},\"y\":{\"type\":\"field\",\"field\":\"y_cubic\"},\"line_color\":\"green\",\"line_width\":2}},\"nonselection_glyph\":{\"type\":\"object\",\"name\":\"Line\",\"id\":\"p1064\",\"attributes\":{\"x\":{\"type\":\"field\",\"field\":\"x\"},\"y\":{\"type\":\"field\",\"field\":\"y_cubic\"},\"line_color\":\"green\",\"line_alpha\":0.1,\"line_width\":2}},\"muted_glyph\":{\"type\":\"object\",\"name\":\"Line\",\"id\":\"p1065\",\"attributes\":{\"x\":{\"type\":\"field\",\"field\":\"x\"},\"y\":{\"type\":\"field\",\"field\":\"y_cubic\"},\"line_color\":\"green\",\"line_alpha\":0.2,\"line_width\":2}}}}],[\"original\",{\"type\":\"object\",\"name\":\"GlyphRenderer\",\"id\":\"p1075\",\"attributes\":{\"data_source\":{\"id\":\"p1001\"},\"view\":{\"type\":\"object\",\"name\":\"CDSView\",\"id\":\"p1076\",\"attributes\":{\"filter\":{\"type\":\"object\",\"name\":\"AllIndices\",\"id\":\"p1077\"}}},\"glyph\":{\"type\":\"object\",\"name\":\"Scatter\",\"id\":\"p1072\",\"attributes\":{\"x\":{\"type\":\"field\",\"field\":\"x\"},\"y\":{\"type\":\"field\",\"field\":\"y\"},\"size\":{\"type\":\"value\",\"value\":6},\"line_alpha\":{\"type\":\"value\",\"value\":0.8},\"fill_color\":{\"type\":\"value\",\"value\":\"black\"},\"fill_alpha\":{\"type\":\"value\",\"value\":0.8},\"hatch_alpha\":{\"type\":\"value\",\"value\":0.8}}},\"nonselection_glyph\":{\"type\":\"object\",\"name\":\"Scatter\",\"id\":\"p1073\",\"attributes\":{\"x\":{\"type\":\"field\",\"field\":\"x\"},\"y\":{\"type\":\"field\",\"field\":\"y\"},\"size\":{\"type\":\"value\",\"value\":6},\"line_alpha\":{\"type\":\"value\",\"value\":0.1},\"fill_color\":{\"type\":\"value\",\"value\":\"black\"},\"fill_alpha\":{\"type\":\"value\",\"value\":0.1},\"hatch_alpha\":{\"type\":\"value\",\"value\":0.1}}},\"muted_glyph\":{\"type\":\"object\",\"name\":\"Scatter\",\"id\":\"p1074\",\"attributes\":{\"x\":{\"type\":\"field\",\"field\":\"x\"},\"y\":{\"type\":\"field\",\"field\":\"y\"},\"size\":{\"type\":\"value\",\"value\":6},\"line_alpha\":{\"type\":\"value\",\"value\":0.2},\"fill_color\":{\"type\":\"value\",\"value\":\"black\"},\"fill_alpha\":{\"type\":\"value\",\"value\":0.2},\"hatch_alpha\":{\"type\":\"value\",\"value\":0.2}}}}}],[\"line\",{\"type\":\"object\",\"name\":\"GlyphRenderer\",\"id\":\"p1039\",\"attributes\":{\"data_source\":{\"id\":\"p1001\"},\"view\":{\"type\":\"object\",\"name\":\"CDSView\",\"id\":\"p1040\",\"attributes\":{\"filter\":{\"type\":\"object\",\"name\":\"AllIndices\",\"id\":\"p1041\"}}},\"glyph\":{\"type\":\"object\",\"name\":\"Line\",\"id\":\"p1036\",\"attributes\":{\"x\":{\"type\":\"field\",\"field\":\"x\"},\"y\":{\"type\":\"field\",\"field\":\"y\"},\"line_width\":2}},\"nonselection_glyph\":{\"type\":\"object\",\"name\":\"Line\",\"id\":\"p1037\",\"attributes\":{\"x\":{\"type\":\"field\",\"field\":\"x\"},\"y\":{\"type\":\"field\",\"field\":\"y\"},\"line_alpha\":0.1,\"line_width\":2}},\"muted_glyph\":{\"type\":\"object\",\"name\":\"Line\",\"id\":\"p1038\",\"attributes\":{\"x\":{\"type\":\"field\",\"field\":\"x\"},\"y\":{\"type\":\"field\",\"field\":\"y\"},\"line_alpha\":0.2,\"line_width\":2}}}}]]},\"code\":\"\\n    // Hide all plots\\n    line.visible = false;\\n    original.visible = false;\\n    linear.visible = false;\\n    nearest.visible = false;\\n    cubic.visible = false;\\n    \\n    // Show the selected interpolation method\\n    if (cb_obj.value == 'Linear') {\\n        linear.visible = true;\\n        original.visible = true;\\n        line.visible = true;\\n    } else if (cb_obj.value == 'Nearest') {\\n        nearest.visible = true;\\n        original.visible = true;\\n        line.visible = true;\\n    } else if (cb_obj.value == 'Cubic') {\\n        cubic.visible = true;\\n        original.visible = true;\\n        line.visible = true;\\n    } else if (cb_obj.value == 'Original') {\\n        original.visible = true;\\n        line.visible = true;\\n    }\\n\"}}]]]},\"title\":\"Interpolation Method\",\"options\":[\"None\",\"Original\",\"Linear\",\"Nearest\",\"Cubic\"],\"value\":\"None\"}},{\"type\":\"object\",\"name\":\"Figure\",\"id\":\"p1007\",\"attributes\":{\"width\":1000,\"height\":500,\"x_range\":{\"type\":\"object\",\"name\":\"DataRange1d\",\"id\":\"p1008\"},\"y_range\":{\"type\":\"object\",\"name\":\"DataRange1d\",\"id\":\"p1009\"},\"x_scale\":{\"type\":\"object\",\"name\":\"LinearScale\",\"id\":\"p1017\"},\"y_scale\":{\"type\":\"object\",\"name\":\"LinearScale\",\"id\":\"p1018\"},\"title\":{\"type\":\"object\",\"name\":\"Title\",\"id\":\"p1010\",\"attributes\":{\"text\":\"Comparing different interpolation methods\",\"text_font_size\":\"16pt\",\"align\":\"center\"}},\"renderers\":[{\"id\":\"p1039\"},{\"id\":\"p1048\"},{\"id\":\"p1057\"},{\"id\":\"p1066\"},{\"id\":\"p1075\"},{\"type\":\"object\",\"name\":\"GlyphRenderer\",\"id\":\"p1084\",\"attributes\":{\"data_source\":{\"type\":\"object\",\"name\":\"ColumnDataSource\",\"id\":\"p1004\",\"attributes\":{\"selected\":{\"type\":\"object\",\"name\":\"Selection\",\"id\":\"p1005\",\"attributes\":{\"indices\":[],\"line_indices\":[]}},\"selection_policy\":{\"type\":\"object\",\"name\":\"UnionRenderers\",\"id\":\"p1006\"},\"data\":{\"type\":\"map\",\"entries\":[[\"missing_data\",{\"type\":\"ndarray\",\"array\":{\"type\":\"bytes\",\"data\":\"AAAAAACAdkAAAAAAALCTQAAAAAAA4KBAAAAAAACwo0AAAAAAAOinQAAAAAAA8K5AAAAAAAD8skAAAAAAAIC2QAAAAAAABLpAAAAAAACIvUAAAAAAAIbAQAAAAAAASMJAAAAAAAAKxEAAAAAAAMzFQAAAAAAAjsdAAAAAAABQyUAAAAAAABLLQAAAAAAA1MxAAAAAAACWzkAAAAAAACzQQAAAAAAADdFAAAAAAADu0UAAAAAAAM/SQAAAAAAAsNNAAAAAAACR1EAAAAAAAHLVQAAAAAAAU9ZAAAAAAAA010AAAAAAACTYQAAAAAAABdlAAAAAAADm2UAAAAAAAMfaQAAAAAAAqNtAAAAAAACY3EAAAAAAAMXcQAAAAAAAed1AAAAAAABa3kAAAAAAADvfQAAAAAAADuBAAAAAAIB+4EAAAAAAAO/gQAAAAACAX+FAAAAAAADQ4UAAAAAAgEDiQAAAAAAAseJAAAAAAIAh40AAAAAAAJLjQAAAAACAAuRAAAAAAABz5EAAAAAAgOPkQAAAAAAAVOVAAAAAAIDE5UAAAAAAADXmQAAAAACApeZAAAAAAAAW50AAAAAAANjoQAAAAACASOlAAAAAAIDr60AAAAAAgGPsQAAAAACAzOxAAAAAAACW7kAAAAAAgAbvQAAAAACAb+9AAAAAAIDn70AAAAAAgJzwQAAAAADA1PBAAAAAAAAN8UAAAAAAQEXxQAAAAACAffFAAAAAAMC18UAAAAAAAO7xQAAAAABAJvJAAAAAAEBi8kAAAAAAgJryQAAAAADA0vJAAAAAAAAL80AAAAAAQEPzQAAAAACAe/NAAAAAAMCz80AAAAAAQOjzQAAAAACAIPRAAAAAAIBc9EAAAAAAwJT0QAAAAAAAzfRA\"},\"shape\":[84],\"dtype\":\"float64\",\"order\":\"little\"}],[\"missing_data_y\",{\"type\":\"ndarray\",\"array\":{\"type\":\"bytes\",\"data\":\"AAAAAAAAAAAAAAAAAAAAAAAAAAAAAAAAAAAAAAAAAAAAAAAAAAAAAAAAAAAAAAAAAAAAAAAAAAAAAAAAAAAAAAAAAAAAAAAAAAAAAAAAAAAAAAAAAAAAAAAAAAAAAAAAAAAAAAAAAAAAAAAAAAAAAAAAAAAAAAAAAAAAAAAAAAAAAAAAAAAAAAAAAAAAAAAAAAAAAAAAAAAAAAAAAAAAAAAAAAAAAAAAAAAAAAAAAAAAAAAAAAAAAAAAAAAAAAAAAAAAAAAAAAAAAAAAAAAAAAAAAAAAAAAAAAAAAAAAAAAAAAAAAAAAAAAAAAAAAAAAAAAAAAAAAAAAAAAAAAAAAAAAAAAAAAAAAAAAAAAAAAAAAAAAAAAAAAAAAAAAAAAAAAAAAAAAAAAAAAAAAAAAAAAAAAAAAAAAAAAAAAAAAAAAAAAAAAAAAAAAAAAAAAAAAAAAAAAAAAAAAAAAAAAAAAAAAAAAAAAAAAAAAAAAAAAAAAAAAAAAAAAAAAAAAAAAAAAAAAAAAAAAAAAAAAAAAAAAAAAAAAAAAAAAAAAAAAAAAAAAAAAAAAAAAAAAAAAAAAAAAAAAAAAAAAAAAAAAAAAAAAAAAAAAAAAAAAAAAAAAAAAAAAAAAAAAAAAAAAAAAAAAAAAAAAAAAAAAAAAAAAAAAAAAAAAAAAAAAAAAAAAAAAAAAAAAAAAAAAAAAAAAAAAAAAAAAAAAAAAAAAAAAAAAAAAAAAAAAAAAAAAAAAAAAAAAAAAAAAAAAAAAAAAAAAAAAAAAAAAAAAAAAAAAAAAAAAAAAAAAAAAAAAAAAAAAAAAAAAAAAAAAAAAAAAAAAAAAAAAAAAAAAAAAAAAAAAAAAAAAAAAAAAAAAAAAAAAAAAAAAAAAAAAAAAAAAAAA\"},\"shape\":[84],\"dtype\":\"float64\",\"order\":\"little\"}]]}}},\"view\":{\"type\":\"object\",\"name\":\"CDSView\",\"id\":\"p1085\",\"attributes\":{\"filter\":{\"type\":\"object\",\"name\":\"AllIndices\",\"id\":\"p1086\"}}},\"glyph\":{\"type\":\"object\",\"name\":\"Scatter\",\"id\":\"p1081\",\"attributes\":{\"x\":{\"type\":\"field\",\"field\":\"missing_data\"},\"y\":{\"type\":\"field\",\"field\":\"missing_data_y\"},\"size\":{\"type\":\"value\",\"value\":6},\"line_color\":{\"type\":\"value\",\"value\":\"green\"},\"line_alpha\":{\"type\":\"value\",\"value\":0.8},\"fill_color\":{\"type\":\"value\",\"value\":\"green\"},\"fill_alpha\":{\"type\":\"value\",\"value\":0.8},\"hatch_color\":{\"type\":\"value\",\"value\":\"green\"},\"hatch_alpha\":{\"type\":\"value\",\"value\":0.8},\"marker\":{\"type\":\"value\",\"value\":\"x\"}}},\"nonselection_glyph\":{\"type\":\"object\",\"name\":\"Scatter\",\"id\":\"p1082\",\"attributes\":{\"x\":{\"type\":\"field\",\"field\":\"missing_data\"},\"y\":{\"type\":\"field\",\"field\":\"missing_data_y\"},\"size\":{\"type\":\"value\",\"value\":6},\"line_color\":{\"type\":\"value\",\"value\":\"green\"},\"line_alpha\":{\"type\":\"value\",\"value\":0.1},\"fill_color\":{\"type\":\"value\",\"value\":\"green\"},\"fill_alpha\":{\"type\":\"value\",\"value\":0.1},\"hatch_color\":{\"type\":\"value\",\"value\":\"green\"},\"hatch_alpha\":{\"type\":\"value\",\"value\":0.1},\"marker\":{\"type\":\"value\",\"value\":\"x\"}}},\"muted_glyph\":{\"type\":\"object\",\"name\":\"Scatter\",\"id\":\"p1083\",\"attributes\":{\"x\":{\"type\":\"field\",\"field\":\"missing_data\"},\"y\":{\"type\":\"field\",\"field\":\"missing_data_y\"},\"size\":{\"type\":\"value\",\"value\":6},\"line_color\":{\"type\":\"value\",\"value\":\"green\"},\"line_alpha\":{\"type\":\"value\",\"value\":0.2},\"fill_color\":{\"type\":\"value\",\"value\":\"green\"},\"fill_alpha\":{\"type\":\"value\",\"value\":0.2},\"hatch_color\":{\"type\":\"value\",\"value\":\"green\"},\"hatch_alpha\":{\"type\":\"value\",\"value\":0.2},\"marker\":{\"type\":\"value\",\"value\":\"x\"}}}}}],\"toolbar\":{\"type\":\"object\",\"name\":\"Toolbar\",\"id\":\"p1016\",\"attributes\":{\"tools\":[{\"type\":\"object\",\"name\":\"PanTool\",\"id\":\"p1029\"},{\"type\":\"object\",\"name\":\"WheelZoomTool\",\"id\":\"p1030\",\"attributes\":{\"renderers\":\"auto\"}},{\"type\":\"object\",\"name\":\"ResetTool\",\"id\":\"p1031\"},{\"type\":\"object\",\"name\":\"SaveTool\",\"id\":\"p1032\"}]}},\"left\":[{\"type\":\"object\",\"name\":\"LinearAxis\",\"id\":\"p1024\",\"attributes\":{\"ticker\":{\"type\":\"object\",\"name\":\"BasicTicker\",\"id\":\"p1025\",\"attributes\":{\"mantissas\":[1,2,5]}},\"formatter\":{\"type\":\"object\",\"name\":\"BasicTickFormatter\",\"id\":\"p1026\"},\"axis_label\":\"Glucose level\",\"major_label_policy\":{\"type\":\"object\",\"name\":\"AllLabels\",\"id\":\"p1027\"}}},{\"type\":\"object\",\"name\":\"Legend\",\"id\":\"p1087\",\"attributes\":{\"items\":[{\"type\":\"object\",\"name\":\"LegendItem\",\"id\":\"p1088\",\"attributes\":{\"label\":{\"type\":\"value\",\"value\":\"Original Data\"},\"renderers\":[{\"id\":\"p1075\"}]}},{\"type\":\"object\",\"name\":\"LegendItem\",\"id\":\"p1089\",\"attributes\":{\"label\":{\"type\":\"value\",\"value\":\"Linear Interpolation\"},\"renderers\":[{\"id\":\"p1048\"}]}},{\"type\":\"object\",\"name\":\"LegendItem\",\"id\":\"p1090\",\"attributes\":{\"label\":{\"type\":\"value\",\"value\":\"Nearest Interpolation\"},\"renderers\":[{\"id\":\"p1057\"}]}},{\"type\":\"object\",\"name\":\"LegendItem\",\"id\":\"p1091\",\"attributes\":{\"label\":{\"type\":\"value\",\"value\":\"Cubic Interpolation\"},\"renderers\":[{\"id\":\"p1066\"}]}},{\"type\":\"object\",\"name\":\"LegendItem\",\"id\":\"p1092\",\"attributes\":{\"label\":{\"type\":\"value\",\"value\":\"Original Missing Data\"},\"renderers\":[{\"id\":\"p1084\"}]}}]}}],\"below\":[{\"type\":\"object\",\"name\":\"LinearAxis\",\"id\":\"p1019\",\"attributes\":{\"ticker\":{\"type\":\"object\",\"name\":\"BasicTicker\",\"id\":\"p1020\",\"attributes\":{\"mantissas\":[1,2,5]}},\"formatter\":{\"type\":\"object\",\"name\":\"BasicTickFormatter\",\"id\":\"p1021\"},\"axis_label\":\"Time (s)\",\"major_label_policy\":{\"type\":\"object\",\"name\":\"AllLabels\",\"id\":\"p1022\"}}}],\"center\":[{\"type\":\"object\",\"name\":\"Grid\",\"id\":\"p1023\",\"attributes\":{\"axis\":{\"id\":\"p1019\"}}},{\"type\":\"object\",\"name\":\"Grid\",\"id\":\"p1028\",\"attributes\":{\"dimension\":1,\"axis\":{\"id\":\"p1024\"}}}]}}]}}]}};\n  const render_items = [{\"docid\":\"1ed9ec00-7ca0-4373-96f4-b0e5c3c7990a\",\"roots\":{\"p1095\":\"c942cdb6-08f3-4e65-b651-196f7826d69f\"},\"root_ids\":[\"p1095\"]}];\n  void root.Bokeh.embed.embed_items_notebook(docs_json, render_items);\n  }\n  if (root.Bokeh !== undefined) {\n    embed_document(root);\n  } else {\n    let attempts = 0;\n    const timer = setInterval(function(root) {\n      if (root.Bokeh !== undefined) {\n        clearInterval(timer);\n        embed_document(root);\n      } else {\n        attempts++;\n        if (attempts > 100) {\n          clearInterval(timer);\n          console.log(\"Bokeh: ERROR: Unable to run BokehJS code because BokehJS library is missing\");\n        }\n      }\n    }, 10, root)\n  }\n})(window);",
      "application/vnd.bokehjs_exec.v0+json": ""
     },
     "metadata": {
      "application/vnd.bokehjs_exec.v0+json": {
       "id": "p1095"
      }
     },
     "output_type": "display_data"
    }
   ],
   "source": [
    "# this will generate a standalone HTML file.\n",
    "# output_file(\"interactive_interpolation.html\")\n",
    "\n",
    "# Creating a dropdown widget\n",
    "interpolation_method = Select(\n",
    "    title='Interpolation Method', value='None',\n",
    "    options=['None','Original', 'Linear', 'Nearest', 'Cubic'])\n",
    "\n",
    "# JavaScript callback to update the plot\n",
    "callback = CustomJS(\n",
    "    args=dict(linear=linear_interpol, nearest=nearest_interpol,\n",
    "              cubic=cubic_interpol, original= original_data_points, line= original_data),\n",
    "    code=\"\"\"\n",
    "    // Hide all plots\n",
    "    line.visible = false;\n",
    "    original.visible = false;\n",
    "    linear.visible = false;\n",
    "    nearest.visible = false;\n",
    "    cubic.visible = false;\n",
    "    \n",
    "    // Show the selected interpolation method\n",
    "    if (cb_obj.value == 'Linear') {\n",
    "        linear.visible = true;\n",
    "        original.visible = true;\n",
    "        line.visible = true;\n",
    "    } else if (cb_obj.value == 'Nearest') {\n",
    "        nearest.visible = true;\n",
    "        original.visible = true;\n",
    "        line.visible = true;\n",
    "    } else if (cb_obj.value == 'Cubic') {\n",
    "        cubic.visible = true;\n",
    "        original.visible = true;\n",
    "        line.visible = true;\n",
    "    } else if (cb_obj.value == 'Original') {\n",
    "        original.visible = true;\n",
    "        line.visible = true;\n",
    "    }\n",
    "\"\"\"\n",
    ")\n",
    "\n",
    "\n",
    "# Attach the JavaScript callback to the select widget\n",
    "interpolation_method.js_on_change(\"value\", callback)\n",
    "\n",
    "# Layout the select widget with the plot\n",
    "layout = column(interpolation_method, p)\n",
    "\n",
    "# Save the output to a file\n",
    "show(layout)"
   ]
  },
  {
   "cell_type": "code",
   "execution_count": 32,
   "metadata": {},
   "outputs": [],
   "source": [
    "# rollingMean = pd.Series(df['glucose'], index=df['time'])\n",
    "# rollingMean = rollingMean.rolling(window='1H').mean()\n",
    "# rollingMean\n",
    "\n",
    "# # Calculate rolling mean (with a window size of 3)\n",
    "# window_size = 3\n",
    "# rolling_mean = pd.Series(interpolated_df['glucose']).rolling(window=window_size, min_periods=1).mean().to_numpy()\n",
    "\n",
    "# len(rolling_mean)\n",
    "\n",
    "def rolling_mean(y):\n",
    "    return pd.Series(y).rolling(\n",
    "        window=3, min_periods=1).mean().to_numpy()\n",
    "\n",
    "\n",
    "# original_data = line_plot(p, source, 'x', rolling_mean(source.data['y_nearest']), 'black')\n",
    "\n"
   ]
  }
 ],
 "metadata": {
  "kernelspec": {
   "display_name": "ds_venv",
   "language": "python",
   "name": "python3"
  },
  "language_info": {
   "codemirror_mode": {
    "name": "ipython",
    "version": 3
   },
   "file_extension": ".py",
   "mimetype": "text/x-python",
   "name": "python",
   "nbconvert_exporter": "python",
   "pygments_lexer": "ipython3",
   "version": "3.10.12"
  }
 },
 "nbformat": 4,
 "nbformat_minor": 4
}
